{
 "cells": [
  {
   "cell_type": "markdown",
   "metadata": {},
   "source": [
    "# Cleaning Product Data\n",
    "\n",
    "This notebook cleans the product data and exports the cleaned data."
   ]
  },
  {
   "cell_type": "code",
   "execution_count": 1,
   "metadata": {},
   "outputs": [],
   "source": [
    "import pandas as pd\n",
    "import numpy as np\n",
    "import matplotlib.pyplot as plt\n",
    "import seaborn as sns\n",
    "\n",
    "import missingno as mn"
   ]
  },
  {
   "cell_type": "code",
   "execution_count": 2,
   "metadata": {},
   "outputs": [],
   "source": [
    "# creating column names\n",
    "col_names = [\n",
    "    'territory',\n",
    "    'ar_div',\n",
    "    'customer_num',\n",
    "    'sold_to_name',\n",
    "    'item_num',\n",
    "    'item_description',\n",
    "    'item_type',\n",
    "    'unit_of_measure',\n",
    "    'weight',\n",
    "    'standard_price',\n",
    "    'quantity',\n",
    "    'price',\n",
    "    'year',\n",
    "    'month'\n",
    "]"
   ]
  },
  {
   "cell_type": "code",
   "execution_count": 3,
   "metadata": {},
   "outputs": [
    {
     "name": "stderr",
     "output_type": "stream",
     "text": [
      "C:\\ProgramData\\Anaconda3\\lib\\site-packages\\IPython\\core\\interactiveshell.py:3444: DtypeWarning: Columns (4,10) have mixed types.Specify dtype option on import or set low_memory=False.\n",
      "  exec(code_obj, self.user_global_ns, self.user_ns)\n",
      "C:\\ProgramData\\Anaconda3\\lib\\site-packages\\IPython\\core\\interactiveshell.py:3444: DtypeWarning: Columns (10) have mixed types.Specify dtype option on import or set low_memory=False.\n",
      "  exec(code_obj, self.user_global_ns, self.user_ns)\n"
     ]
    }
   ],
   "source": [
    "df_2017 = pd.read_csv('../data/raw_data/imw131ECustom2017_200.zip', compression='zip', names=col_names)\n",
    "df_2018 = pd.read_csv('../data/raw_data/imw131ECustom2018_200.zip', compression='zip', names=col_names)\n",
    "df_2019 = pd.read_csv('../data/raw_data/imw131ECustom2019_200.zip', compression='zip', names=col_names)\n",
    "df_2020 = pd.read_csv('../data/raw_data/imw131ECustom2020_200.zip', compression='zip', names=col_names)\n",
    "df_2021 = pd.read_csv('../data/raw_data/imw131ECustom2021_200.zip', compression='zip', names=col_names)"
   ]
  },
  {
   "cell_type": "markdown",
   "metadata": {},
   "source": [
    "convert to datetime function"
   ]
  },
  {
   "cell_type": "code",
   "execution_count": 4,
   "metadata": {},
   "outputs": [],
   "source": [
    "def convert_date(df):\n",
    "\n",
    "    df['date'] = df['year'].astype(str) + '-' + df['month'].astype(str)\n",
    "\n",
    "    df['date'] = pd.to_datetime(df['date'])\n",
    "    df.set_index(df['date'], inplace=True)\n",
    "    df.sort_index(inplace=True)\n",
    "\n",
    "    df.index = df.index.to_period('M')\n",
    "\n",
    "    return df"
   ]
  },
  {
   "cell_type": "markdown",
   "metadata": {},
   "source": [
    "combine dataframes"
   ]
  },
  {
   "cell_type": "code",
   "execution_count": 5,
   "metadata": {},
   "outputs": [
    {
     "data": {
      "text/html": [
       "<div>\n",
       "<style scoped>\n",
       "    .dataframe tbody tr th:only-of-type {\n",
       "        vertical-align: middle;\n",
       "    }\n",
       "\n",
       "    .dataframe tbody tr th {\n",
       "        vertical-align: top;\n",
       "    }\n",
       "\n",
       "    .dataframe thead th {\n",
       "        text-align: right;\n",
       "    }\n",
       "</style>\n",
       "<table border=\"1\" class=\"dataframe\">\n",
       "  <thead>\n",
       "    <tr style=\"text-align: right;\">\n",
       "      <th></th>\n",
       "      <th>territory</th>\n",
       "      <th>ar_div</th>\n",
       "      <th>customer_num</th>\n",
       "      <th>sold_to_name</th>\n",
       "      <th>item_num</th>\n",
       "      <th>item_description</th>\n",
       "      <th>item_type</th>\n",
       "      <th>unit_of_measure</th>\n",
       "      <th>weight</th>\n",
       "      <th>standard_price</th>\n",
       "      <th>quantity</th>\n",
       "      <th>price</th>\n",
       "      <th>year</th>\n",
       "      <th>month</th>\n",
       "    </tr>\n",
       "  </thead>\n",
       "  <tbody>\n",
       "    <tr>\n",
       "      <th>0</th>\n",
       "      <td>EB</td>\n",
       "      <td>0</td>\n",
       "      <td>1000026</td>\n",
       "      <td>Monterey Foods Market</td>\n",
       "      <td>039675777771</td>\n",
       "      <td>Have'a Corn Chips</td>\n",
       "      <td>CHIPS</td>\n",
       "      <td>EACH</td>\n",
       "      <td>4 oz</td>\n",
       "      <td>1.90</td>\n",
       "      <td>48.00</td>\n",
       "      <td>76.80</td>\n",
       "      <td>2017</td>\n",
       "      <td>1</td>\n",
       "    </tr>\n",
       "    <tr>\n",
       "      <th>1</th>\n",
       "      <td>EB</td>\n",
       "      <td>0</td>\n",
       "      <td>1000026</td>\n",
       "      <td>Monterey Foods Market</td>\n",
       "      <td>039675777771</td>\n",
       "      <td>Have'a Corn Chips</td>\n",
       "      <td>CHIPS</td>\n",
       "      <td>EACH</td>\n",
       "      <td>4 oz</td>\n",
       "      <td>1.90</td>\n",
       "      <td>96.00</td>\n",
       "      <td>168.00</td>\n",
       "      <td>2017</td>\n",
       "      <td>2</td>\n",
       "    </tr>\n",
       "    <tr>\n",
       "      <th>2</th>\n",
       "      <td>EB</td>\n",
       "      <td>0</td>\n",
       "      <td>1000026</td>\n",
       "      <td>Monterey Foods Market</td>\n",
       "      <td>039675777771</td>\n",
       "      <td>Have'a Corn Chips</td>\n",
       "      <td>CHIPS</td>\n",
       "      <td>EACH</td>\n",
       "      <td>4 oz</td>\n",
       "      <td>1.90</td>\n",
       "      <td>72.00</td>\n",
       "      <td>126.00</td>\n",
       "      <td>2017</td>\n",
       "      <td>3</td>\n",
       "    </tr>\n",
       "    <tr>\n",
       "      <th>3</th>\n",
       "      <td>EB</td>\n",
       "      <td>0</td>\n",
       "      <td>1000026</td>\n",
       "      <td>Monterey Foods Market</td>\n",
       "      <td>039675777771</td>\n",
       "      <td>Have'a Corn Chips</td>\n",
       "      <td>CHIPS</td>\n",
       "      <td>EACH</td>\n",
       "      <td>4 oz</td>\n",
       "      <td>1.90</td>\n",
       "      <td>96.00</td>\n",
       "      <td>168.00</td>\n",
       "      <td>2017</td>\n",
       "      <td>4</td>\n",
       "    </tr>\n",
       "    <tr>\n",
       "      <th>4</th>\n",
       "      <td>EB</td>\n",
       "      <td>0</td>\n",
       "      <td>1000026</td>\n",
       "      <td>Monterey Foods Market</td>\n",
       "      <td>039675777771</td>\n",
       "      <td>Have'a Corn Chips</td>\n",
       "      <td>CHIPS</td>\n",
       "      <td>EACH</td>\n",
       "      <td>4 oz</td>\n",
       "      <td>1.90</td>\n",
       "      <td>144.00</td>\n",
       "      <td>252.00</td>\n",
       "      <td>2017</td>\n",
       "      <td>5</td>\n",
       "    </tr>\n",
       "    <tr>\n",
       "      <th>...</th>\n",
       "      <td>...</td>\n",
       "      <td>...</td>\n",
       "      <td>...</td>\n",
       "      <td>...</td>\n",
       "      <td>...</td>\n",
       "      <td>...</td>\n",
       "      <td>...</td>\n",
       "      <td>...</td>\n",
       "      <td>...</td>\n",
       "      <td>...</td>\n",
       "      <td>...</td>\n",
       "      <td>...</td>\n",
       "      <td>...</td>\n",
       "      <td>...</td>\n",
       "    </tr>\n",
       "    <tr>\n",
       "      <th>74112</th>\n",
       "      <td>TR</td>\n",
       "      <td>0</td>\n",
       "      <td>9999</td>\n",
       "      <td>Dale Cox-Employee Purchases</td>\n",
       "      <td>857220006714</td>\n",
       "      <td>Big &amp; Bold Sea Salt Popcorn</td>\n",
       "      <td>SNACK</td>\n",
       "      <td>EACH</td>\n",
       "      <td>6 oz</td>\n",
       "      <td>2.68</td>\n",
       "      <td>1.0</td>\n",
       "      <td>1.82</td>\n",
       "      <td>2021</td>\n",
       "      <td>2</td>\n",
       "    </tr>\n",
       "    <tr>\n",
       "      <th>74113</th>\n",
       "      <td>TR</td>\n",
       "      <td>0</td>\n",
       "      <td>9999</td>\n",
       "      <td>Dale Cox-Employee Purchases</td>\n",
       "      <td>858641003009</td>\n",
       "      <td>Daily Crave Veggie Chips-6 oz</td>\n",
       "      <td>CHIPS</td>\n",
       "      <td>EACH</td>\n",
       "      <td>6 oz</td>\n",
       "      <td>3.57</td>\n",
       "      <td>1.0</td>\n",
       "      <td>3.12</td>\n",
       "      <td>2021</td>\n",
       "      <td>4</td>\n",
       "    </tr>\n",
       "    <tr>\n",
       "      <th>74114</th>\n",
       "      <td>TR</td>\n",
       "      <td>0</td>\n",
       "      <td>9999</td>\n",
       "      <td>Dale Cox-Employee Purchases</td>\n",
       "      <td>858641003672</td>\n",
       "      <td>Daily Crave BBQ Veg Chips</td>\n",
       "      <td>CHIPS</td>\n",
       "      <td>EACH</td>\n",
       "      <td>5.5 oz</td>\n",
       "      <td>3.57</td>\n",
       "      <td>1.0</td>\n",
       "      <td>3.12</td>\n",
       "      <td>2021</td>\n",
       "      <td>4</td>\n",
       "    </tr>\n",
       "    <tr>\n",
       "      <th>74115</th>\n",
       "      <td>TR</td>\n",
       "      <td>0</td>\n",
       "      <td>9999</td>\n",
       "      <td>Dale Cox-Employee Purchases</td>\n",
       "      <td>858641003818</td>\n",
       "      <td>Daily Crave Lentil Smkd Gouda</td>\n",
       "      <td>CHIPS</td>\n",
       "      <td>EACH</td>\n",
       "      <td>4.25 oz</td>\n",
       "      <td>3.57</td>\n",
       "      <td>1.0</td>\n",
       "      <td>3.12</td>\n",
       "      <td>2021</td>\n",
       "      <td>1</td>\n",
       "    </tr>\n",
       "    <tr>\n",
       "      <th>74116</th>\n",
       "      <td>TR</td>\n",
       "      <td>0</td>\n",
       "      <td>9999</td>\n",
       "      <td>Dale Cox-Employee Purchases</td>\n",
       "      <td>865435000205</td>\n",
       "      <td>Wagster PB &amp; Molasses</td>\n",
       "      <td>PET</td>\n",
       "      <td>EACH</td>\n",
       "      <td>6 oz</td>\n",
       "      <td>6.42</td>\n",
       "      <td>1.0</td>\n",
       "      <td>6.42</td>\n",
       "      <td>2021</td>\n",
       "      <td>10</td>\n",
       "    </tr>\n",
       "  </tbody>\n",
       "</table>\n",
       "<p>352733 rows × 14 columns</p>\n",
       "</div>"
      ],
      "text/plain": [
       "      territory  ar_div  customer_num                 sold_to_name  \\\n",
       "0            EB       0       1000026        Monterey Foods Market   \n",
       "1            EB       0       1000026        Monterey Foods Market   \n",
       "2            EB       0       1000026        Monterey Foods Market   \n",
       "3            EB       0       1000026        Monterey Foods Market   \n",
       "4            EB       0       1000026        Monterey Foods Market   \n",
       "...         ...     ...           ...                          ...   \n",
       "74112        TR       0          9999  Dale Cox-Employee Purchases   \n",
       "74113        TR       0          9999  Dale Cox-Employee Purchases   \n",
       "74114        TR       0          9999  Dale Cox-Employee Purchases   \n",
       "74115        TR       0          9999  Dale Cox-Employee Purchases   \n",
       "74116        TR       0          9999  Dale Cox-Employee Purchases   \n",
       "\n",
       "           item_num               item_description item_type unit_of_measure  \\\n",
       "0      039675777771              Have'a Corn Chips     CHIPS            EACH   \n",
       "1      039675777771              Have'a Corn Chips     CHIPS            EACH   \n",
       "2      039675777771              Have'a Corn Chips     CHIPS            EACH   \n",
       "3      039675777771              Have'a Corn Chips     CHIPS            EACH   \n",
       "4      039675777771              Have'a Corn Chips     CHIPS            EACH   \n",
       "...             ...                            ...       ...             ...   \n",
       "74112  857220006714    Big & Bold Sea Salt Popcorn     SNACK            EACH   \n",
       "74113  858641003009  Daily Crave Veggie Chips-6 oz     CHIPS            EACH   \n",
       "74114  858641003672      Daily Crave BBQ Veg Chips     CHIPS            EACH   \n",
       "74115  858641003818  Daily Crave Lentil Smkd Gouda     CHIPS            EACH   \n",
       "74116  865435000205          Wagster PB & Molasses       PET            EACH   \n",
       "\n",
       "        weight  standard_price quantity   price  year  month  \n",
       "0         4 oz            1.90    48.00   76.80  2017      1  \n",
       "1         4 oz            1.90    96.00  168.00  2017      2  \n",
       "2         4 oz            1.90    72.00  126.00  2017      3  \n",
       "3         4 oz            1.90    96.00  168.00  2017      4  \n",
       "4         4 oz            1.90   144.00  252.00  2017      5  \n",
       "...        ...             ...      ...     ...   ...    ...  \n",
       "74112     6 oz            2.68      1.0    1.82  2021      2  \n",
       "74113     6 oz            3.57      1.0    3.12  2021      4  \n",
       "74114   5.5 oz            3.57      1.0    3.12  2021      4  \n",
       "74115  4.25 oz            3.57      1.0    3.12  2021      1  \n",
       "74116     6 oz            6.42      1.0    6.42  2021     10  \n",
       "\n",
       "[352733 rows x 14 columns]"
      ]
     },
     "execution_count": 5,
     "metadata": {},
     "output_type": "execute_result"
    }
   ],
   "source": [
    "df_master = pd.concat([\n",
    "    df_2017,\n",
    "    df_2018,\n",
    "    df_2019,\n",
    "    df_2020,\n",
    "    df_2021\n",
    "])\n",
    "\n",
    "df_master"
   ]
  },
  {
   "cell_type": "code",
   "execution_count": 6,
   "metadata": {},
   "outputs": [
    {
     "name": "stdout",
     "output_type": "stream",
     "text": [
      "<class 'pandas.core.frame.DataFrame'>\n",
      "Int64Index: 352733 entries, 0 to 74116\n",
      "Data columns (total 14 columns):\n",
      " #   Column            Non-Null Count   Dtype  \n",
      "---  ------            --------------   -----  \n",
      " 0   territory         352733 non-null  object \n",
      " 1   ar_div            352733 non-null  int64  \n",
      " 2   customer_num      352733 non-null  int64  \n",
      " 3   sold_to_name      352733 non-null  object \n",
      " 4   item_num          352733 non-null  object \n",
      " 5   item_description  352733 non-null  object \n",
      " 6   item_type         352166 non-null  object \n",
      " 7   unit_of_measure   352733 non-null  object \n",
      " 8   weight            352730 non-null  object \n",
      " 9   standard_price    352733 non-null  float64\n",
      " 10  quantity          352733 non-null  object \n",
      " 11  price             352733 non-null  object \n",
      " 12  year              352733 non-null  int64  \n",
      " 13  month             352733 non-null  int64  \n",
      "dtypes: float64(1), int64(4), object(9)\n",
      "memory usage: 40.4+ MB\n"
     ]
    }
   ],
   "source": [
    "df_master.info()"
   ]
  },
  {
   "cell_type": "code",
   "execution_count": 7,
   "metadata": {},
   "outputs": [
    {
     "data": {
      "text/plain": [
       "<AxesSubplot:>"
      ]
     },
     "execution_count": 7,
     "metadata": {},
     "output_type": "execute_result"
    },
    {
     "data": {
      "image/png": "[encoded data removed]",
      "text/plain": [
       "<Figure size 1800x720 with 2 Axes>"
      ]
     },
     "metadata": {
      "needs_background": "light"
     },
     "output_type": "display_data"
    }
   ],
   "source": [
    "mn.matrix(df_master)"
   ]
  },
  {
   "cell_type": "markdown",
   "metadata": {},
   "source": [
    "# Fix La Morenita"
   ]
  },
  {
   "cell_type": "markdown",
   "metadata": {},
   "source": [
    "While exploring the data in tableau, a gap in La Morenita sales was noticed.\n",
    "\n",
    "La Morenita changed some of the names of products. Items were marked as \"discontinued\" in the database and had to be unmarked and merged with full data. Names and item_num will be changed to make them the same across all years."
   ]
  },
  {
   "cell_type": "code",
   "execution_count": 8,
   "metadata": {},
   "outputs": [],
   "source": [
    "morenita_2020 = pd.read_csv('../data/raw_data/imw131E_La Morenita2020.zip', compression='zip', names=col_names)\n",
    "morenita_2021 = pd.read_csv('../data/raw_data/imw131E_La Morenita2021.zip', compression='zip', names=col_names)\n",
    "\n",
    "morenita = pd.concat([morenita_2020, morenita_2021])"
   ]
  },
  {
   "cell_type": "code",
   "execution_count": 10,
   "metadata": {},
   "outputs": [
    {
     "data": {
      "text/plain": [
       "zzzzLa Morenita Tortilla Chips    997\n",
       "zzzzLa Morenita Salt & Limon      942\n",
       "zzzzLa Morenita Tostaditas        389\n",
       "Name: item_description, dtype: int64"
      ]
     },
     "execution_count": 10,
     "metadata": {},
     "output_type": "execute_result"
    }
   ],
   "source": [
    "morenita['item_description'].value_counts()"
   ]
  },
  {
   "cell_type": "code",
   "execution_count": 11,
   "metadata": {},
   "outputs": [],
   "source": [
    "morenita['item_description'] = morenita['item_description'].str.replace('zzzz', '').str.strip()"
   ]
  },
  {
   "cell_type": "code",
   "execution_count": 12,
   "metadata": {},
   "outputs": [
    {
     "data": {
      "text/html": [
       "<div>\n",
       "<style scoped>\n",
       "    .dataframe tbody tr th:only-of-type {\n",
       "        vertical-align: middle;\n",
       "    }\n",
       "\n",
       "    .dataframe tbody tr th {\n",
       "        vertical-align: top;\n",
       "    }\n",
       "\n",
       "    .dataframe thead th {\n",
       "        text-align: right;\n",
       "    }\n",
       "</style>\n",
       "<table border=\"1\" class=\"dataframe\">\n",
       "  <thead>\n",
       "    <tr style=\"text-align: right;\">\n",
       "      <th></th>\n",
       "      <th>territory</th>\n",
       "      <th>ar_div</th>\n",
       "      <th>customer_num</th>\n",
       "      <th>sold_to_name</th>\n",
       "      <th>item_num</th>\n",
       "      <th>item_description</th>\n",
       "      <th>item_type</th>\n",
       "      <th>unit_of_measure</th>\n",
       "      <th>weight</th>\n",
       "      <th>standard_price</th>\n",
       "      <th>quantity</th>\n",
       "      <th>price</th>\n",
       "      <th>year</th>\n",
       "      <th>month</th>\n",
       "    </tr>\n",
       "  </thead>\n",
       "  <tbody>\n",
       "    <tr>\n",
       "      <th>323</th>\n",
       "      <td>SN</td>\n",
       "      <td>0</td>\n",
       "      <td>1005208</td>\n",
       "      <td>Broadway Mkt.</td>\n",
       "      <td>696610110880</td>\n",
       "      <td>La Morenita Tortilla Chips</td>\n",
       "      <td>CHIPS</td>\n",
       "      <td>EACH</td>\n",
       "      <td>16 oz</td>\n",
       "      <td>3.69</td>\n",
       "      <td>59.0</td>\n",
       "      <td>217.71</td>\n",
       "      <td>2021</td>\n",
       "      <td>1</td>\n",
       "    </tr>\n",
       "    <tr>\n",
       "      <th>324</th>\n",
       "      <td>SN</td>\n",
       "      <td>0</td>\n",
       "      <td>1005208</td>\n",
       "      <td>Broadway Mkt.</td>\n",
       "      <td>696610110880</td>\n",
       "      <td>La Morenita Tortilla Chips</td>\n",
       "      <td>CHIPS</td>\n",
       "      <td>EACH</td>\n",
       "      <td>16 oz</td>\n",
       "      <td>3.69</td>\n",
       "      <td>60.0</td>\n",
       "      <td>221.40</td>\n",
       "      <td>2021</td>\n",
       "      <td>2</td>\n",
       "    </tr>\n",
       "    <tr>\n",
       "      <th>325</th>\n",
       "      <td>SN</td>\n",
       "      <td>0</td>\n",
       "      <td>1005208</td>\n",
       "      <td>Broadway Mkt.</td>\n",
       "      <td>696610111290</td>\n",
       "      <td>La Morenita Salt &amp; Limon</td>\n",
       "      <td>CHIPS</td>\n",
       "      <td>EACH</td>\n",
       "      <td>16 oz</td>\n",
       "      <td>3.69</td>\n",
       "      <td>12.0</td>\n",
       "      <td>44.28</td>\n",
       "      <td>2021</td>\n",
       "      <td>1</td>\n",
       "    </tr>\n",
       "    <tr>\n",
       "      <th>326</th>\n",
       "      <td>SN</td>\n",
       "      <td>0</td>\n",
       "      <td>1005208</td>\n",
       "      <td>Broadway Mkt.</td>\n",
       "      <td>696610111290</td>\n",
       "      <td>La Morenita Salt &amp; Limon</td>\n",
       "      <td>CHIPS</td>\n",
       "      <td>EACH</td>\n",
       "      <td>16 oz</td>\n",
       "      <td>3.69</td>\n",
       "      <td>30.0</td>\n",
       "      <td>110.70</td>\n",
       "      <td>2021</td>\n",
       "      <td>2</td>\n",
       "    </tr>\n",
       "    <tr>\n",
       "      <th>327</th>\n",
       "      <td>SN</td>\n",
       "      <td>0</td>\n",
       "      <td>1005208</td>\n",
       "      <td>Broadway Mkt.</td>\n",
       "      <td>696610110996</td>\n",
       "      <td>La Morenita Tostaditas</td>\n",
       "      <td>CHIPS</td>\n",
       "      <td>EACH</td>\n",
       "      <td>16 oz</td>\n",
       "      <td>3.69</td>\n",
       "      <td>11.0</td>\n",
       "      <td>40.59</td>\n",
       "      <td>2021</td>\n",
       "      <td>1</td>\n",
       "    </tr>\n",
       "  </tbody>\n",
       "</table>\n",
       "</div>"
      ],
      "text/plain": [
       "    territory  ar_div  customer_num   sold_to_name      item_num  \\\n",
       "323        SN       0       1005208  Broadway Mkt.  696610110880   \n",
       "324        SN       0       1005208  Broadway Mkt.  696610110880   \n",
       "325        SN       0       1005208  Broadway Mkt.  696610111290   \n",
       "326        SN       0       1005208  Broadway Mkt.  696610111290   \n",
       "327        SN       0       1005208  Broadway Mkt.  696610110996   \n",
       "\n",
       "               item_description item_type unit_of_measure weight  \\\n",
       "323  La Morenita Tortilla Chips     CHIPS            EACH  16 oz   \n",
       "324  La Morenita Tortilla Chips     CHIPS            EACH  16 oz   \n",
       "325    La Morenita Salt & Limon     CHIPS            EACH  16 oz   \n",
       "326    La Morenita Salt & Limon     CHIPS            EACH  16 oz   \n",
       "327      La Morenita Tostaditas     CHIPS            EACH  16 oz   \n",
       "\n",
       "     standard_price  quantity   price  year  month  \n",
       "323            3.69      59.0  217.71  2021      1  \n",
       "324            3.69      60.0  221.40  2021      2  \n",
       "325            3.69      12.0   44.28  2021      1  \n",
       "326            3.69      30.0  110.70  2021      2  \n",
       "327            3.69      11.0   40.59  2021      1  "
      ]
     },
     "execution_count": 12,
     "metadata": {},
     "output_type": "execute_result"
    }
   ],
   "source": [
    "morenita.tail()"
   ]
  },
  {
   "cell_type": "code",
   "execution_count": 13,
   "metadata": {},
   "outputs": [
    {
     "data": {
      "text/html": [
       "<div>\n",
       "<style scoped>\n",
       "    .dataframe tbody tr th:only-of-type {\n",
       "        vertical-align: middle;\n",
       "    }\n",
       "\n",
       "    .dataframe tbody tr th {\n",
       "        vertical-align: top;\n",
       "    }\n",
       "\n",
       "    .dataframe thead th {\n",
       "        text-align: right;\n",
       "    }\n",
       "</style>\n",
       "<table border=\"1\" class=\"dataframe\">\n",
       "  <thead>\n",
       "    <tr style=\"text-align: right;\">\n",
       "      <th></th>\n",
       "      <th>territory</th>\n",
       "      <th>ar_div</th>\n",
       "      <th>customer_num</th>\n",
       "      <th>sold_to_name</th>\n",
       "      <th>item_num</th>\n",
       "      <th>item_description</th>\n",
       "      <th>item_type</th>\n",
       "      <th>unit_of_measure</th>\n",
       "      <th>weight</th>\n",
       "      <th>standard_price</th>\n",
       "      <th>quantity</th>\n",
       "      <th>price</th>\n",
       "      <th>year</th>\n",
       "      <th>month</th>\n",
       "    </tr>\n",
       "  </thead>\n",
       "  <tbody>\n",
       "    <tr>\n",
       "      <th>1827</th>\n",
       "      <td>EB</td>\n",
       "      <td>0</td>\n",
       "      <td>1000438</td>\n",
       "      <td>Farmer Joe's - Fruitvale Ave.</td>\n",
       "      <td>850022349010</td>\n",
       "      <td>La Morenita Original</td>\n",
       "      <td>CHIPS</td>\n",
       "      <td>EACH</td>\n",
       "      <td>14 oz</td>\n",
       "      <td>3.59</td>\n",
       "      <td>144.00</td>\n",
       "      <td>516.96</td>\n",
       "      <td>2021</td>\n",
       "      <td>2</td>\n",
       "    </tr>\n",
       "  </tbody>\n",
       "</table>\n",
       "</div>"
      ],
      "text/plain": [
       "     territory  ar_div  customer_num                   sold_to_name  \\\n",
       "1827        EB       0       1000438  Farmer Joe's - Fruitvale Ave.   \n",
       "\n",
       "          item_num      item_description item_type unit_of_measure weight  \\\n",
       "1827  850022349010  La Morenita Original     CHIPS            EACH  14 oz   \n",
       "\n",
       "      standard_price quantity   price  year  month  \n",
       "1827            3.59   144.00  516.96  2021      2  "
      ]
     },
     "execution_count": 13,
     "metadata": {},
     "output_type": "execute_result"
    }
   ],
   "source": [
    "df_master[df_master['item_description'].str.contains('La Morenita Original')].head(1)"
   ]
  },
  {
   "cell_type": "code",
   "execution_count": 14,
   "metadata": {},
   "outputs": [
    {
     "data": {
      "text/html": [
       "<div>\n",
       "<style scoped>\n",
       "    .dataframe tbody tr th:only-of-type {\n",
       "        vertical-align: middle;\n",
       "    }\n",
       "\n",
       "    .dataframe tbody tr th {\n",
       "        vertical-align: top;\n",
       "    }\n",
       "\n",
       "    .dataframe thead th {\n",
       "        text-align: right;\n",
       "    }\n",
       "</style>\n",
       "<table border=\"1\" class=\"dataframe\">\n",
       "  <thead>\n",
       "    <tr style=\"text-align: right;\">\n",
       "      <th></th>\n",
       "      <th>territory</th>\n",
       "      <th>ar_div</th>\n",
       "      <th>customer_num</th>\n",
       "      <th>sold_to_name</th>\n",
       "      <th>item_num</th>\n",
       "      <th>item_description</th>\n",
       "      <th>item_type</th>\n",
       "      <th>unit_of_measure</th>\n",
       "      <th>weight</th>\n",
       "      <th>standard_price</th>\n",
       "      <th>quantity</th>\n",
       "      <th>price</th>\n",
       "      <th>year</th>\n",
       "      <th>month</th>\n",
       "    </tr>\n",
       "  </thead>\n",
       "  <tbody>\n",
       "    <tr>\n",
       "      <th>1838</th>\n",
       "      <td>EB</td>\n",
       "      <td>0</td>\n",
       "      <td>1000438</td>\n",
       "      <td>Farmer Joe's - Fruitvale Ave.</td>\n",
       "      <td>850022349027</td>\n",
       "      <td>La Morenita Salt &amp; Lime</td>\n",
       "      <td>CHIPS</td>\n",
       "      <td>EACH</td>\n",
       "      <td>14 oz</td>\n",
       "      <td>3.59</td>\n",
       "      <td>120.00</td>\n",
       "      <td>430.80</td>\n",
       "      <td>2021</td>\n",
       "      <td>2</td>\n",
       "    </tr>\n",
       "  </tbody>\n",
       "</table>\n",
       "</div>"
      ],
      "text/plain": [
       "     territory  ar_div  customer_num                   sold_to_name  \\\n",
       "1838        EB       0       1000438  Farmer Joe's - Fruitvale Ave.   \n",
       "\n",
       "          item_num         item_description item_type unit_of_measure weight  \\\n",
       "1838  850022349027  La Morenita Salt & Lime     CHIPS            EACH  14 oz   \n",
       "\n",
       "      standard_price quantity   price  year  month  \n",
       "1838            3.59   120.00  430.80  2021      2  "
      ]
     },
     "execution_count": 14,
     "metadata": {},
     "output_type": "execute_result"
    }
   ],
   "source": [
    "df_master[df_master['item_description'].str.contains('La Morenita Salt & Lime')].head(1)"
   ]
  },
  {
   "cell_type": "code",
   "execution_count": 15,
   "metadata": {},
   "outputs": [
    {
     "data": {
      "text/html": [
       "<div>\n",
       "<style scoped>\n",
       "    .dataframe tbody tr th:only-of-type {\n",
       "        vertical-align: middle;\n",
       "    }\n",
       "\n",
       "    .dataframe tbody tr th {\n",
       "        vertical-align: top;\n",
       "    }\n",
       "\n",
       "    .dataframe thead th {\n",
       "        text-align: right;\n",
       "    }\n",
       "</style>\n",
       "<table border=\"1\" class=\"dataframe\">\n",
       "  <thead>\n",
       "    <tr style=\"text-align: right;\">\n",
       "      <th></th>\n",
       "      <th>territory</th>\n",
       "      <th>ar_div</th>\n",
       "      <th>customer_num</th>\n",
       "      <th>sold_to_name</th>\n",
       "      <th>item_num</th>\n",
       "      <th>item_description</th>\n",
       "      <th>item_type</th>\n",
       "      <th>unit_of_measure</th>\n",
       "      <th>weight</th>\n",
       "      <th>standard_price</th>\n",
       "      <th>quantity</th>\n",
       "      <th>price</th>\n",
       "      <th>year</th>\n",
       "      <th>month</th>\n",
       "    </tr>\n",
       "  </thead>\n",
       "  <tbody>\n",
       "    <tr>\n",
       "      <th>1684</th>\n",
       "      <td>EB</td>\n",
       "      <td>0</td>\n",
       "      <td>1000438</td>\n",
       "      <td>Farmer Joe's - Fruitvale Ave.</td>\n",
       "      <td>696610110996</td>\n",
       "      <td>La Morenita Tostaditas</td>\n",
       "      <td>CHIPS</td>\n",
       "      <td>EACH</td>\n",
       "      <td>16 oz</td>\n",
       "      <td>3.2</td>\n",
       "      <td>36.00</td>\n",
       "      <td>106.20</td>\n",
       "      <td>2017</td>\n",
       "      <td>4</td>\n",
       "    </tr>\n",
       "  </tbody>\n",
       "</table>\n",
       "</div>"
      ],
      "text/plain": [
       "     territory  ar_div  customer_num                   sold_to_name  \\\n",
       "1684        EB       0       1000438  Farmer Joe's - Fruitvale Ave.   \n",
       "\n",
       "          item_num        item_description item_type unit_of_measure weight  \\\n",
       "1684  696610110996  La Morenita Tostaditas     CHIPS            EACH  16 oz   \n",
       "\n",
       "      standard_price quantity   price  year  month  \n",
       "1684             3.2    36.00  106.20  2017      4  "
      ]
     },
     "execution_count": 15,
     "metadata": {},
     "output_type": "execute_result"
    }
   ],
   "source": [
    "df_master[df_master['item_description'].str.contains('La Morenita Tostaditas')].head(1)"
   ]
  },
  {
   "cell_type": "code",
   "execution_count": 16,
   "metadata": {},
   "outputs": [
    {
     "data": {
      "text/plain": [
       "La Morenita Tortilla Chips    2425\n",
       "La Morenita Salt & Limon      2329\n",
       "La Morenita Tostaditas        1439\n",
       "La Morenita Original           897\n",
       "La Morenita Salt & Lime        844\n",
       "Name: item_description, dtype: int64"
      ]
     },
     "execution_count": 16,
     "metadata": {},
     "output_type": "execute_result"
    }
   ],
   "source": [
    "df_master[df_master['item_description'].str.contains('Morenita')]['item_description'].value_counts()"
   ]
  },
  {
   "cell_type": "code",
   "execution_count": 17,
   "metadata": {},
   "outputs": [],
   "source": [
    "df_master = pd.concat([df_master, morenita])"
   ]
  },
  {
   "cell_type": "code",
   "execution_count": 18,
   "metadata": {},
   "outputs": [
    {
     "data": {
      "text/plain": [
       "<AxesSubplot:>"
      ]
     },
     "execution_count": 18,
     "metadata": {},
     "output_type": "execute_result"
    },
    {
     "data": {
      "image/png": "[encoded data removed]",
      "text/plain": [
       "<Figure size 1800x720 with 2 Axes>"
      ]
     },
     "metadata": {
      "needs_background": "light"
     },
     "output_type": "display_data"
    }
   ],
   "source": [
    "mn.matrix(df_master)"
   ]
  },
  {
   "cell_type": "code",
   "execution_count": 19,
   "metadata": {},
   "outputs": [],
   "source": [
    "# converting item_num and quantity to str because the columns have mixed values\n",
    "df_master['item_num'] = df_master['item_num'].astype(str)\n",
    "df_master['quantity'] = df_master['quantity'].astype(str)"
   ]
  },
  {
   "cell_type": "code",
   "execution_count": 20,
   "metadata": {},
   "outputs": [],
   "source": [
    "df_master['item_description'] = df_master['item_description'].str.replace('La Morenita Salt & Limon', 'La Morenita Salt & Lime')\n",
    "df_master['item_description'] = df_master['item_description'].str.replace('La Morenita Tortilla Chips', 'La Morenita Original')"
   ]
  },
  {
   "cell_type": "code",
   "execution_count": 21,
   "metadata": {},
   "outputs": [],
   "source": [
    "df_master['item_num'] = df_master['item_num'].str.replace('696610111290', '850022349027')\n",
    "df_master['item_num'] = df_master['item_num'].str.replace('696610110880', '850022349010')"
   ]
  },
  {
   "cell_type": "code",
   "execution_count": 22,
   "metadata": {},
   "outputs": [],
   "source": [
    "# remove commas and convert numbers to floats\n",
    "df_master['quantity'] = df_master['quantity'].str.replace(',', '', regex=True)\n",
    "df_master['price'] = df_master['price'].str.replace(',', '', regex=True)\n",
    "\n",
    "df_master['quantity'] = df_master['quantity'].astype(float)\n",
    "df_master['price'] = df_master['price'].astype(float)"
   ]
  },
  {
   "cell_type": "code",
   "execution_count": 23,
   "metadata": {},
   "outputs": [],
   "source": [
    "# territory information from this data needed for the profits data\n",
    "df_master.to_csv('../data/raw_data/products_combined.csv', compression='zip', index=False)"
   ]
  },
  {
   "cell_type": "code",
   "execution_count": 24,
   "metadata": {},
   "outputs": [],
   "source": [
    "# Kettle chips sell very well, but there are other distributors that sell them to other stores.\n",
    "# DCD cant push them in other stores because they are already there\n",
    "# removing kettle chips from the data set to reduce noise\n",
    "df_master = df_master[df_master['item_description'].str.contains('Kettle') == False]"
   ]
  },
  {
   "cell_type": "markdown",
   "metadata": {},
   "source": []
  },
  {
   "cell_type": "code",
   "execution_count": 25,
   "metadata": {},
   "outputs": [],
   "source": [
    "# converting to datetime\n",
    "df_master = convert_date(df_master)"
   ]
  },
  {
   "cell_type": "code",
   "execution_count": null,
   "metadata": {},
   "outputs": [],
   "source": []
  },
  {
   "cell_type": "markdown",
   "metadata": {},
   "source": [
    "# Territories"
   ]
  },
  {
   "cell_type": "code",
   "execution_count": 26,
   "metadata": {},
   "outputs": [
    {
     "data": {
      "text/plain": [
       "MR     76479\n",
       "PN     58775\n",
       "SN     38343\n",
       "SF     36926\n",
       "EB     32592\n",
       "NP     19628\n",
       "MN     19391\n",
       "TR       959\n",
       "WR        93\n",
       "SAC       46\n",
       "UK        35\n",
       "Name: territory, dtype: int64"
      ]
     },
     "execution_count": 26,
     "metadata": {},
     "output_type": "execute_result"
    }
   ],
   "source": [
    "df_master['territory'].value_counts()"
   ]
  },
  {
   "cell_type": "markdown",
   "metadata": {},
   "source": [
    "remove these territories from the dataset, these are routes that have been sold over the years so they dont show up every year in the dataset"
   ]
  },
  {
   "cell_type": "code",
   "execution_count": 27,
   "metadata": {},
   "outputs": [],
   "source": [
    "rm_terr = ['TR', 'SAC', 'UK', 'WR']\n",
    "df_master = df_master[df_master['territory'].isin(rm_terr) == False]"
   ]
  },
  {
   "cell_type": "markdown",
   "metadata": {},
   "source": [
    "# Stores"
   ]
  },
  {
   "cell_type": "markdown",
   "metadata": {},
   "source": [
    "removing big chain stores that show up randomly for 1 or 2 products"
   ]
  },
  {
   "cell_type": "code",
   "execution_count": 28,
   "metadata": {},
   "outputs": [],
   "source": [
    "df_master = df_master[df_master['sold_to_name'].str.contains('Safeway') == False]"
   ]
  },
  {
   "cell_type": "code",
   "execution_count": 29,
   "metadata": {},
   "outputs": [],
   "source": [
    "df_master = df_master[df_master['sold_to_name'].str.contains('Raley') == False]"
   ]
  },
  {
   "cell_type": "code",
   "execution_count": 30,
   "metadata": {},
   "outputs": [
    {
     "data": {
      "text/plain": [
       "United Market - San Anselmo      9338\n",
       "United Market - San Rafael       8897\n",
       "Palace Market                    7043\n",
       "Stinson Beach Market             7040\n",
       "Farmer Joe's - Fruitvale Ave.    6866\n",
       "                                 ... \n",
       "Haight Street Market                1\n",
       "Woodlands #2/Tib. - Drop Ship       1\n",
       "17th & Balboa Market                1\n",
       "Woodlands - Drop Ship               1\n",
       "Liquid Experience                   1\n",
       "Name: sold_to_name, Length: 266, dtype: int64"
      ]
     },
     "execution_count": 30,
     "metadata": {},
     "output_type": "execute_result"
    }
   ],
   "source": [
    "df_master['sold_to_name'].value_counts()"
   ]
  },
  {
   "cell_type": "code",
   "execution_count": 31,
   "metadata": {},
   "outputs": [
    {
     "data": {
      "text/plain": [
       "266"
      ]
     },
     "execution_count": 31,
     "metadata": {},
     "output_type": "execute_result"
    }
   ],
   "source": [
    "df_master['sold_to_name'].nunique()"
   ]
  },
  {
   "cell_type": "markdown",
   "metadata": {},
   "source": [
    "# Item Descriptions"
   ]
  },
  {
   "cell_type": "code",
   "execution_count": 33,
   "metadata": {},
   "outputs": [
    {
     "data": {
      "text/plain": [
       "1891"
      ]
     },
     "execution_count": 33,
     "metadata": {},
     "output_type": "execute_result"
    }
   ],
   "source": [
    "df_master['item_description'].nunique()"
   ]
  },
  {
   "cell_type": "code",
   "execution_count": 34,
   "metadata": {},
   "outputs": [
    {
     "data": {
      "text/plain": [
       "2072"
      ]
     },
     "execution_count": 34,
     "metadata": {},
     "output_type": "execute_result"
    }
   ],
   "source": [
    "df_master['item_num'].nunique()"
   ]
  },
  {
   "cell_type": "markdown",
   "metadata": {},
   "source": [
    "removing wild calif and pez display\n",
    "\n",
    "wild calif was a significant product for a few years, but wasn't around for all the years in the dataset. removing to keep things consistent"
   ]
  },
  {
   "cell_type": "code",
   "execution_count": 36,
   "metadata": {},
   "outputs": [],
   "source": [
    "df_master = df_master[df_master['item_description'].str.contains('Wild Calif') == False]"
   ]
  },
  {
   "cell_type": "code",
   "execution_count": 37,
   "metadata": {},
   "outputs": [],
   "source": [
    "df_master = df_master[df_master['item_description'] != 'Pez 24 hook Floor Display']"
   ]
  },
  {
   "cell_type": "markdown",
   "metadata": {},
   "source": [
    "# Item Types"
   ]
  },
  {
   "cell_type": "code",
   "execution_count": 38,
   "metadata": {},
   "outputs": [
    {
     "data": {
      "text/plain": [
       "CHIPS         49992\n",
       "CANDY         41371\n",
       "SNACK         27301\n",
       "COOKIE        23722\n",
       "SPICE         20605\n",
       "SAUCE         13786\n",
       "CRACKER       13633\n",
       "OIL            7909\n",
       "CONDIMENT      7564\n",
       "BREAD          5295\n",
       "HOT SAUCE      5015\n",
       "TEA            4758\n",
       "PASTA          4386\n",
       "CEREAL         4143\n",
       "BEVERAGE       3831\n",
       "COFFEE         3677\n",
       "BBQ SAUCE      3408\n",
       "MARINADE       3365\n",
       "COFFEE FIL     3093\n",
       "MUSTARD        2818\n",
       "HOUSEHOLD      2722\n",
       "NUTS           2420\n",
       "SALAD DRSG     2334\n",
       "MISC           2322\n",
       "SYRUP          2130\n",
       "VINEGAR        2036\n",
       "VEGE           1727\n",
       "OLIVES         1586\n",
       "BARS           1460\n",
       "BEANS          1167\n",
       "JAM             902\n",
       "GRAIN           827\n",
       "PET             765\n",
       "COCO MILK       695\n",
       "PICKLED         604\n",
       "NaN             564\n",
       "SEAFOOD         558\n",
       "EXTRACTS        434\n",
       "HONEY           297\n",
       "MASKS           270\n",
       "SPICE MIX       267\n",
       "BRITISH         255\n",
       "WINE            193\n",
       "ASIAN NDLE      135\n",
       "UMBRELLA        124\n",
       "MIXERS           77\n",
       "SALSA            59\n",
       "OLIVE OIL        54\n",
       "SOUP             40\n",
       "RAIN GEAR        31\n",
       "FRUIT            27\n",
       "SALT             23\n",
       "SUGAR             2\n",
       "Name: item_type, dtype: int64"
      ]
     },
     "execution_count": 38,
     "metadata": {},
     "output_type": "execute_result"
    }
   ],
   "source": [
    "df_master['item_type'].value_counts(dropna=False)"
   ]
  },
  {
   "cell_type": "code",
   "execution_count": 39,
   "metadata": {},
   "outputs": [
    {
     "data": {
      "text/plain": [
       "52"
      ]
     },
     "execution_count": 39,
     "metadata": {},
     "output_type": "execute_result"
    }
   ],
   "source": [
    "df_master['item_type'].nunique()"
   ]
  },
  {
   "cell_type": "markdown",
   "metadata": {},
   "source": [
    "# Fixing Types"
   ]
  },
  {
   "cell_type": "markdown",
   "metadata": {},
   "source": [
    "The list of item types was changed in 2021. Matching the item_description and item_types into a dictionary and applying it to earlier years for consistency."
   ]
  },
  {
   "cell_type": "code",
   "execution_count": 40,
   "metadata": {},
   "outputs": [
    {
     "data": {
      "text/html": [
       "<div>\n",
       "<style scoped>\n",
       "    .dataframe tbody tr th:only-of-type {\n",
       "        vertical-align: middle;\n",
       "    }\n",
       "\n",
       "    .dataframe tbody tr th {\n",
       "        vertical-align: top;\n",
       "    }\n",
       "\n",
       "    .dataframe thead th {\n",
       "        text-align: right;\n",
       "    }\n",
       "</style>\n",
       "<table border=\"1\" class=\"dataframe\">\n",
       "  <thead>\n",
       "    <tr style=\"text-align: right;\">\n",
       "      <th></th>\n",
       "      <th>item_description</th>\n",
       "      <th>item_type</th>\n",
       "    </tr>\n",
       "    <tr>\n",
       "      <th>date</th>\n",
       "      <th></th>\n",
       "      <th></th>\n",
       "    </tr>\n",
       "  </thead>\n",
       "  <tbody>\n",
       "    <tr>\n",
       "      <th>2021-01</th>\n",
       "      <td>Doritos Nacho Cheese</td>\n",
       "      <td>CHIPS</td>\n",
       "    </tr>\n",
       "    <tr>\n",
       "      <th>2021-01</th>\n",
       "      <td>King Henry Orange Slices</td>\n",
       "      <td>CANDY</td>\n",
       "    </tr>\n",
       "    <tr>\n",
       "      <th>2021-01</th>\n",
       "      <td>Jelly Belly Fruit Bowl</td>\n",
       "      <td>CANDY</td>\n",
       "    </tr>\n",
       "    <tr>\n",
       "      <th>2021-01</th>\n",
       "      <td>Gioia Cannellini Beans</td>\n",
       "      <td>BEANS</td>\n",
       "    </tr>\n",
       "    <tr>\n",
       "      <th>2021-01</th>\n",
       "      <td>Taco Works Orig - 16 oz</td>\n",
       "      <td>CHIPS</td>\n",
       "    </tr>\n",
       "    <tr>\n",
       "      <th>...</th>\n",
       "      <td>...</td>\n",
       "      <td>...</td>\n",
       "    </tr>\n",
       "    <tr>\n",
       "      <th>2021-12</th>\n",
       "      <td>Cook's Rum Extract</td>\n",
       "      <td>EXTRACTS</td>\n",
       "    </tr>\n",
       "    <tr>\n",
       "      <th>2021-12</th>\n",
       "      <td>Cook's Maple Extract</td>\n",
       "      <td>EXTRACTS</td>\n",
       "    </tr>\n",
       "    <tr>\n",
       "      <th>2021-12</th>\n",
       "      <td>Lindt Mlk Chc Hazelnut Truffle</td>\n",
       "      <td>CANDY</td>\n",
       "    </tr>\n",
       "    <tr>\n",
       "      <th>2021-12</th>\n",
       "      <td>Annie Chun Org Sesame Seaweed</td>\n",
       "      <td>SNACK</td>\n",
       "    </tr>\n",
       "    <tr>\n",
       "      <th>2021-12</th>\n",
       "      <td>M &amp; B Mulling Spice</td>\n",
       "      <td>SPICE</td>\n",
       "    </tr>\n",
       "  </tbody>\n",
       "</table>\n",
       "<p>1197 rows × 2 columns</p>\n",
       "</div>"
      ],
      "text/plain": [
       "                       item_description item_type\n",
       "date                                             \n",
       "2021-01            Doritos Nacho Cheese     CHIPS\n",
       "2021-01        King Henry Orange Slices     CANDY\n",
       "2021-01          Jelly Belly Fruit Bowl     CANDY\n",
       "2021-01          Gioia Cannellini Beans     BEANS\n",
       "2021-01         Taco Works Orig - 16 oz     CHIPS\n",
       "...                                 ...       ...\n",
       "2021-12              Cook's Rum Extract  EXTRACTS\n",
       "2021-12            Cook's Maple Extract  EXTRACTS\n",
       "2021-12  Lindt Mlk Chc Hazelnut Truffle     CANDY\n",
       "2021-12   Annie Chun Org Sesame Seaweed     SNACK\n",
       "2021-12             M & B Mulling Spice     SPICE\n",
       "\n",
       "[1197 rows x 2 columns]"
      ]
     },
     "execution_count": 40,
     "metadata": {},
     "output_type": "execute_result"
    }
   ],
   "source": [
    "df_type = df_master[['item_description', 'item_type']].loc['2021']\n",
    "df_type.drop_duplicates(inplace=True)\n",
    "df_type"
   ]
  },
  {
   "cell_type": "code",
   "execution_count": 41,
   "metadata": {},
   "outputs": [],
   "source": [
    "types = df_type.to_dict(orient='records')\n",
    "\n",
    "type_dict = {}\n",
    "\n",
    "for type in types:\n",
    "    type_dict[type['item_description']] = type['item_type']\n",
    "\n",
    "df_master['item_type'] = df_master['item_description'].map(type_dict).fillna(df_master['item_type'])"
   ]
  },
  {
   "cell_type": "code",
   "execution_count": 42,
   "metadata": {},
   "outputs": [
    {
     "data": {
      "text/plain": [
       "52"
      ]
     },
     "execution_count": 42,
     "metadata": {},
     "output_type": "execute_result"
    }
   ],
   "source": [
    "df_master['item_type'].nunique()"
   ]
  },
  {
   "cell_type": "code",
   "execution_count": 43,
   "metadata": {},
   "outputs": [
    {
     "data": {
      "text/plain": [
       "CHIPS         51017\n",
       "CANDY         42095\n",
       "COOKIE        23722\n",
       "SNACK         19710\n",
       "SPICE         19655\n",
       "SAUCE         13714\n",
       "CRACKER       13633\n",
       "OIL            7856\n",
       "BARS           6270\n",
       "BREAD          5316\n",
       "HOT SAUCE      5015\n",
       "NUTS           5010\n",
       "TEA            4758\n",
       "CONDIMENT      4571\n",
       "PASTA          4469\n",
       "CEREAL         4143\n",
       "COFFEE         3677\n",
       "BBQ SAUCE      3408\n",
       "MARINADE       3365\n",
       "COFFEE FIL     3093\n",
       "MUSTARD        2759\n",
       "HOUSEHOLD      2702\n",
       "PICKLED        2446\n",
       "COCO MILK      2375\n",
       "MISC           2342\n",
       "SALAD DRSG     2334\n",
       "SYRUP          2130\n",
       "VINEGAR        2036\n",
       "EXTRACTS       1753\n",
       "BEVERAGE       1729\n",
       "OLIVES         1718\n",
       "BEANS          1167\n",
       "JAM             902\n",
       "SPICE MIX       896\n",
       "VEGE            766\n",
       "PET             765\n",
       "SEAFOOD         558\n",
       "MIXERS          499\n",
       "GRAIN           475\n",
       "ASIAN NDLE      448\n",
       "HONEY           297\n",
       "MASKS           270\n",
       "BRITISH         255\n",
       "WINE            193\n",
       "SALT            138\n",
       "UMBRELLA        124\n",
       "SALSA            59\n",
       "OLIVE OIL        54\n",
       "RAIN GEAR        31\n",
       "FRUIT            27\n",
       "SOUP             13\n",
       "SUGAR            12\n",
       "NaN               9\n",
       "Name: item_type, dtype: int64"
      ]
     },
     "execution_count": 43,
     "metadata": {},
     "output_type": "execute_result"
    }
   ],
   "source": [
    "df_master['item_type'].value_counts(dropna=False)"
   ]
  },
  {
   "cell_type": "code",
   "execution_count": 44,
   "metadata": {},
   "outputs": [
    {
     "data": {
      "text/html": [
       "<div>\n",
       "<style scoped>\n",
       "    .dataframe tbody tr th:only-of-type {\n",
       "        vertical-align: middle;\n",
       "    }\n",
       "\n",
       "    .dataframe tbody tr th {\n",
       "        vertical-align: top;\n",
       "    }\n",
       "\n",
       "    .dataframe thead th {\n",
       "        text-align: right;\n",
       "    }\n",
       "</style>\n",
       "<table border=\"1\" class=\"dataframe\">\n",
       "  <thead>\n",
       "    <tr style=\"text-align: right;\">\n",
       "      <th></th>\n",
       "      <th>territory</th>\n",
       "      <th>ar_div</th>\n",
       "      <th>customer_num</th>\n",
       "      <th>sold_to_name</th>\n",
       "      <th>item_num</th>\n",
       "      <th>item_description</th>\n",
       "      <th>item_type</th>\n",
       "      <th>unit_of_measure</th>\n",
       "      <th>weight</th>\n",
       "      <th>standard_price</th>\n",
       "      <th>quantity</th>\n",
       "      <th>price</th>\n",
       "      <th>year</th>\n",
       "      <th>month</th>\n",
       "      <th>date</th>\n",
       "    </tr>\n",
       "    <tr>\n",
       "      <th>date</th>\n",
       "      <th></th>\n",
       "      <th></th>\n",
       "      <th></th>\n",
       "      <th></th>\n",
       "      <th></th>\n",
       "      <th></th>\n",
       "      <th></th>\n",
       "      <th></th>\n",
       "      <th></th>\n",
       "      <th></th>\n",
       "      <th></th>\n",
       "      <th></th>\n",
       "      <th></th>\n",
       "      <th></th>\n",
       "      <th></th>\n",
       "    </tr>\n",
       "  </thead>\n",
       "  <tbody>\n",
       "    <tr>\n",
       "      <th>2017-01</th>\n",
       "      <td>SF</td>\n",
       "      <td>0</td>\n",
       "      <td>1007292</td>\n",
       "      <td>Madera Liquor</td>\n",
       "      <td>078907451010</td>\n",
       "      <td>El Sabroso Chile Y Limon Churr</td>\n",
       "      <td>NaN</td>\n",
       "      <td>EACH</td>\n",
       "      <td>4.5 oz</td>\n",
       "      <td>0.88</td>\n",
       "      <td>6.0</td>\n",
       "      <td>5.28</td>\n",
       "      <td>2017</td>\n",
       "      <td>1</td>\n",
       "      <td>2017-01-01</td>\n",
       "    </tr>\n",
       "    <tr>\n",
       "      <th>2017-04</th>\n",
       "      <td>MR</td>\n",
       "      <td>0</td>\n",
       "      <td>1000368</td>\n",
       "      <td>Zee's Deli Wine &amp; Spirits</td>\n",
       "      <td>078907520051</td>\n",
       "      <td>Granny Goose Caramel Corn</td>\n",
       "      <td>NaN</td>\n",
       "      <td>EACH</td>\n",
       "      <td>4.5 oz</td>\n",
       "      <td>0.88</td>\n",
       "      <td>6.0</td>\n",
       "      <td>5.28</td>\n",
       "      <td>2017</td>\n",
       "      <td>4</td>\n",
       "      <td>2017-04-01</td>\n",
       "    </tr>\n",
       "    <tr>\n",
       "      <th>2017-06</th>\n",
       "      <td>MR</td>\n",
       "      <td>0</td>\n",
       "      <td>1000368</td>\n",
       "      <td>Zee's Deli Wine &amp; Spirits</td>\n",
       "      <td>078907520051</td>\n",
       "      <td>Granny Goose Caramel Corn</td>\n",
       "      <td>NaN</td>\n",
       "      <td>EACH</td>\n",
       "      <td>4.5 oz</td>\n",
       "      <td>0.88</td>\n",
       "      <td>6.0</td>\n",
       "      <td>5.28</td>\n",
       "      <td>2017</td>\n",
       "      <td>6</td>\n",
       "      <td>2017-06-01</td>\n",
       "    </tr>\n",
       "    <tr>\n",
       "      <th>2017-07</th>\n",
       "      <td>MR</td>\n",
       "      <td>0</td>\n",
       "      <td>1000368</td>\n",
       "      <td>Zee's Deli Wine &amp; Spirits</td>\n",
       "      <td>078907520051</td>\n",
       "      <td>Granny Goose Caramel Corn</td>\n",
       "      <td>NaN</td>\n",
       "      <td>EACH</td>\n",
       "      <td>4.5 oz</td>\n",
       "      <td>0.88</td>\n",
       "      <td>6.0</td>\n",
       "      <td>5.28</td>\n",
       "      <td>2017</td>\n",
       "      <td>7</td>\n",
       "      <td>2017-07-01</td>\n",
       "    </tr>\n",
       "    <tr>\n",
       "      <th>2017-07</th>\n",
       "      <td>SF</td>\n",
       "      <td>0</td>\n",
       "      <td>1007113</td>\n",
       "      <td>Martell's</td>\n",
       "      <td>078907520051</td>\n",
       "      <td>Granny Goose Caramel Corn</td>\n",
       "      <td>NaN</td>\n",
       "      <td>EACH</td>\n",
       "      <td>4.5 oz</td>\n",
       "      <td>0.88</td>\n",
       "      <td>6.0</td>\n",
       "      <td>5.28</td>\n",
       "      <td>2017</td>\n",
       "      <td>7</td>\n",
       "      <td>2017-07-01</td>\n",
       "    </tr>\n",
       "    <tr>\n",
       "      <th>2017-08</th>\n",
       "      <td>MR</td>\n",
       "      <td>0</td>\n",
       "      <td>1000368</td>\n",
       "      <td>Zee's Deli Wine &amp; Spirits</td>\n",
       "      <td>078907520051</td>\n",
       "      <td>Granny Goose Caramel Corn</td>\n",
       "      <td>NaN</td>\n",
       "      <td>EACH</td>\n",
       "      <td>4.5 oz</td>\n",
       "      <td>0.88</td>\n",
       "      <td>3.0</td>\n",
       "      <td>2.64</td>\n",
       "      <td>2017</td>\n",
       "      <td>8</td>\n",
       "      <td>2017-08-01</td>\n",
       "    </tr>\n",
       "    <tr>\n",
       "      <th>2017-08</th>\n",
       "      <td>SF</td>\n",
       "      <td>0</td>\n",
       "      <td>1007149</td>\n",
       "      <td>Oceanview Market</td>\n",
       "      <td>078907520051</td>\n",
       "      <td>Granny Goose Caramel Corn</td>\n",
       "      <td>NaN</td>\n",
       "      <td>EACH</td>\n",
       "      <td>4.5 oz</td>\n",
       "      <td>0.88</td>\n",
       "      <td>8.0</td>\n",
       "      <td>7.04</td>\n",
       "      <td>2017</td>\n",
       "      <td>8</td>\n",
       "      <td>2017-08-01</td>\n",
       "    </tr>\n",
       "    <tr>\n",
       "      <th>2017-09</th>\n",
       "      <td>SF</td>\n",
       "      <td>0</td>\n",
       "      <td>1007149</td>\n",
       "      <td>Oceanview Market</td>\n",
       "      <td>078907520051</td>\n",
       "      <td>Granny Goose Caramel Corn</td>\n",
       "      <td>NaN</td>\n",
       "      <td>EACH</td>\n",
       "      <td>4.5 oz</td>\n",
       "      <td>0.88</td>\n",
       "      <td>-7.0</td>\n",
       "      <td>-6.16</td>\n",
       "      <td>2017</td>\n",
       "      <td>9</td>\n",
       "      <td>2017-09-01</td>\n",
       "    </tr>\n",
       "    <tr>\n",
       "      <th>2017-11</th>\n",
       "      <td>EB</td>\n",
       "      <td>0</td>\n",
       "      <td>1001633</td>\n",
       "      <td>Craig Robinson</td>\n",
       "      <td>078907916335</td>\n",
       "      <td>El Sabroso Cracklins Reg w/ Sa</td>\n",
       "      <td>NaN</td>\n",
       "      <td>EACH</td>\n",
       "      <td>2.25 oz</td>\n",
       "      <td>0.88</td>\n",
       "      <td>96.0</td>\n",
       "      <td>84.48</td>\n",
       "      <td>2017</td>\n",
       "      <td>11</td>\n",
       "      <td>2017-11-01</td>\n",
       "    </tr>\n",
       "  </tbody>\n",
       "</table>\n",
       "</div>"
      ],
      "text/plain": [
       "        territory  ar_div  customer_num               sold_to_name  \\\n",
       "date                                                                 \n",
       "2017-01        SF       0       1007292              Madera Liquor   \n",
       "2017-04        MR       0       1000368  Zee's Deli Wine & Spirits   \n",
       "2017-06        MR       0       1000368  Zee's Deli Wine & Spirits   \n",
       "2017-07        MR       0       1000368  Zee's Deli Wine & Spirits   \n",
       "2017-07        SF       0       1007113                  Martell's   \n",
       "2017-08        MR       0       1000368  Zee's Deli Wine & Spirits   \n",
       "2017-08        SF       0       1007149           Oceanview Market   \n",
       "2017-09        SF       0       1007149           Oceanview Market   \n",
       "2017-11        EB       0       1001633             Craig Robinson   \n",
       "\n",
       "             item_num                item_description item_type  \\\n",
       "date                                                              \n",
       "2017-01  078907451010  El Sabroso Chile Y Limon Churr       NaN   \n",
       "2017-04  078907520051       Granny Goose Caramel Corn       NaN   \n",
       "2017-06  078907520051       Granny Goose Caramel Corn       NaN   \n",
       "2017-07  078907520051       Granny Goose Caramel Corn       NaN   \n",
       "2017-07  078907520051       Granny Goose Caramel Corn       NaN   \n",
       "2017-08  078907520051       Granny Goose Caramel Corn       NaN   \n",
       "2017-08  078907520051       Granny Goose Caramel Corn       NaN   \n",
       "2017-09  078907520051       Granny Goose Caramel Corn       NaN   \n",
       "2017-11  078907916335  El Sabroso Cracklins Reg w/ Sa       NaN   \n",
       "\n",
       "        unit_of_measure   weight  standard_price  quantity  price  year  \\\n",
       "date                                                                      \n",
       "2017-01            EACH   4.5 oz            0.88       6.0   5.28  2017   \n",
       "2017-04            EACH   4.5 oz            0.88       6.0   5.28  2017   \n",
       "2017-06            EACH   4.5 oz            0.88       6.0   5.28  2017   \n",
       "2017-07            EACH   4.5 oz            0.88       6.0   5.28  2017   \n",
       "2017-07            EACH   4.5 oz            0.88       6.0   5.28  2017   \n",
       "2017-08            EACH   4.5 oz            0.88       3.0   2.64  2017   \n",
       "2017-08            EACH   4.5 oz            0.88       8.0   7.04  2017   \n",
       "2017-09            EACH   4.5 oz            0.88      -7.0  -6.16  2017   \n",
       "2017-11            EACH  2.25 oz            0.88      96.0  84.48  2017   \n",
       "\n",
       "         month       date  \n",
       "date                       \n",
       "2017-01      1 2017-01-01  \n",
       "2017-04      4 2017-04-01  \n",
       "2017-06      6 2017-06-01  \n",
       "2017-07      7 2017-07-01  \n",
       "2017-07      7 2017-07-01  \n",
       "2017-08      8 2017-08-01  \n",
       "2017-08      8 2017-08-01  \n",
       "2017-09      9 2017-09-01  \n",
       "2017-11     11 2017-11-01  "
      ]
     },
     "execution_count": 44,
     "metadata": {},
     "output_type": "execute_result"
    }
   ],
   "source": [
    "df_master[df_master['item_type'].isna()]"
   ]
  },
  {
   "cell_type": "code",
   "execution_count": 45,
   "metadata": {},
   "outputs": [
    {
     "data": {
      "text/plain": [
       "territory           0\n",
       "ar_div              0\n",
       "customer_num        0\n",
       "sold_to_name        0\n",
       "item_num            0\n",
       "item_description    0\n",
       "item_type           9\n",
       "unit_of_measure     0\n",
       "weight              0\n",
       "standard_price      0\n",
       "quantity            0\n",
       "price               0\n",
       "year                0\n",
       "month               0\n",
       "date                0\n",
       "dtype: int64"
      ]
     },
     "execution_count": 45,
     "metadata": {},
     "output_type": "execute_result"
    }
   ],
   "source": [
    "df_master.isna().sum()"
   ]
  },
  {
   "cell_type": "code",
   "execution_count": 46,
   "metadata": {},
   "outputs": [],
   "source": [
    "# dropping 9 rows with missing types\n",
    "df_master.dropna(inplace=True)"
   ]
  },
  {
   "cell_type": "markdown",
   "metadata": {},
   "source": [
    "# Quantities Less Than 0"
   ]
  },
  {
   "cell_type": "code",
   "execution_count": 47,
   "metadata": {},
   "outputs": [
    {
     "data": {
      "text/html": [
       "<div>\n",
       "<style scoped>\n",
       "    .dataframe tbody tr th:only-of-type {\n",
       "        vertical-align: middle;\n",
       "    }\n",
       "\n",
       "    .dataframe tbody tr th {\n",
       "        vertical-align: top;\n",
       "    }\n",
       "\n",
       "    .dataframe thead th {\n",
       "        text-align: right;\n",
       "    }\n",
       "</style>\n",
       "<table border=\"1\" class=\"dataframe\">\n",
       "  <thead>\n",
       "    <tr style=\"text-align: right;\">\n",
       "      <th></th>\n",
       "      <th>territory</th>\n",
       "      <th>ar_div</th>\n",
       "      <th>customer_num</th>\n",
       "      <th>sold_to_name</th>\n",
       "      <th>item_num</th>\n",
       "      <th>item_description</th>\n",
       "      <th>item_type</th>\n",
       "      <th>unit_of_measure</th>\n",
       "      <th>weight</th>\n",
       "      <th>standard_price</th>\n",
       "      <th>quantity</th>\n",
       "      <th>price</th>\n",
       "      <th>year</th>\n",
       "      <th>month</th>\n",
       "      <th>date</th>\n",
       "    </tr>\n",
       "    <tr>\n",
       "      <th>date</th>\n",
       "      <th></th>\n",
       "      <th></th>\n",
       "      <th></th>\n",
       "      <th></th>\n",
       "      <th></th>\n",
       "      <th></th>\n",
       "      <th></th>\n",
       "      <th></th>\n",
       "      <th></th>\n",
       "      <th></th>\n",
       "      <th></th>\n",
       "      <th></th>\n",
       "      <th></th>\n",
       "      <th></th>\n",
       "      <th></th>\n",
       "    </tr>\n",
       "  </thead>\n",
       "  <tbody>\n",
       "    <tr>\n",
       "      <th>2017-01</th>\n",
       "      <td>SF</td>\n",
       "      <td>0</td>\n",
       "      <td>1007292</td>\n",
       "      <td>Madera Liquor</td>\n",
       "      <td>858641003030</td>\n",
       "      <td>Daily Crave Veggie Chips-1 oz</td>\n",
       "      <td>CHIPS</td>\n",
       "      <td>EACH</td>\n",
       "      <td>1 oz</td>\n",
       "      <td>0.78</td>\n",
       "      <td>0.0</td>\n",
       "      <td>0.00</td>\n",
       "      <td>2017</td>\n",
       "      <td>1</td>\n",
       "      <td>2017-01-01</td>\n",
       "    </tr>\n",
       "    <tr>\n",
       "      <th>2017-01</th>\n",
       "      <td>SF</td>\n",
       "      <td>0</td>\n",
       "      <td>1007252</td>\n",
       "      <td>Hayes Market</td>\n",
       "      <td>892343006029</td>\n",
       "      <td>Holly Baking Swt Ginger Brittl</td>\n",
       "      <td>COOKIE</td>\n",
       "      <td>EACH</td>\n",
       "      <td>6 oz</td>\n",
       "      <td>2.60</td>\n",
       "      <td>-6.0</td>\n",
       "      <td>-15.60</td>\n",
       "      <td>2017</td>\n",
       "      <td>1</td>\n",
       "      <td>2017-01-01</td>\n",
       "    </tr>\n",
       "    <tr>\n",
       "      <th>2017-01</th>\n",
       "      <td>SF</td>\n",
       "      <td>0</td>\n",
       "      <td>1007293</td>\n",
       "      <td>Jump Start Market</td>\n",
       "      <td>071828009469</td>\n",
       "      <td>Inglehoffer Orig Horseradish M</td>\n",
       "      <td>MUSTARD</td>\n",
       "      <td>EACH</td>\n",
       "      <td>4 oz</td>\n",
       "      <td>1.36</td>\n",
       "      <td>0.0</td>\n",
       "      <td>0.00</td>\n",
       "      <td>2017</td>\n",
       "      <td>1</td>\n",
       "      <td>2017-01-01</td>\n",
       "    </tr>\n",
       "    <tr>\n",
       "      <th>2017-01</th>\n",
       "      <td>SF</td>\n",
       "      <td>0</td>\n",
       "      <td>1007293</td>\n",
       "      <td>Jump Start Market</td>\n",
       "      <td>070617206096</td>\n",
       "      <td>Barbaras Puffins Orig</td>\n",
       "      <td>CEREAL</td>\n",
       "      <td>EACH</td>\n",
       "      <td>10 oz</td>\n",
       "      <td>4.35</td>\n",
       "      <td>-3.0</td>\n",
       "      <td>-13.05</td>\n",
       "      <td>2017</td>\n",
       "      <td>1</td>\n",
       "      <td>2017-01-01</td>\n",
       "    </tr>\n",
       "    <tr>\n",
       "      <th>2017-01</th>\n",
       "      <td>SF</td>\n",
       "      <td>0</td>\n",
       "      <td>1007293</td>\n",
       "      <td>Jump Start Market</td>\n",
       "      <td>070617206102</td>\n",
       "      <td>Barbaras Puffins Cinnamon</td>\n",
       "      <td>CEREAL</td>\n",
       "      <td>EACH</td>\n",
       "      <td>10 oz</td>\n",
       "      <td>4.35</td>\n",
       "      <td>-4.0</td>\n",
       "      <td>-17.40</td>\n",
       "      <td>2017</td>\n",
       "      <td>1</td>\n",
       "      <td>2017-01-01</td>\n",
       "    </tr>\n",
       "    <tr>\n",
       "      <th>...</th>\n",
       "      <td>...</td>\n",
       "      <td>...</td>\n",
       "      <td>...</td>\n",
       "      <td>...</td>\n",
       "      <td>...</td>\n",
       "      <td>...</td>\n",
       "      <td>...</td>\n",
       "      <td>...</td>\n",
       "      <td>...</td>\n",
       "      <td>...</td>\n",
       "      <td>...</td>\n",
       "      <td>...</td>\n",
       "      <td>...</td>\n",
       "      <td>...</td>\n",
       "      <td>...</td>\n",
       "    </tr>\n",
       "    <tr>\n",
       "      <th>2021-12</th>\n",
       "      <td>EB</td>\n",
       "      <td>0</td>\n",
       "      <td>1000608</td>\n",
       "      <td>Berkeley Bowl West</td>\n",
       "      <td>712102001006</td>\n",
       "      <td>MTG Demi-Glace Gold</td>\n",
       "      <td>SAUCE</td>\n",
       "      <td>EACH</td>\n",
       "      <td>1.5 oz</td>\n",
       "      <td>3.97</td>\n",
       "      <td>-48.0</td>\n",
       "      <td>-190.56</td>\n",
       "      <td>2021</td>\n",
       "      <td>12</td>\n",
       "      <td>2021-12-01</td>\n",
       "    </tr>\n",
       "    <tr>\n",
       "      <th>2021-12</th>\n",
       "      <td>SF</td>\n",
       "      <td>0</td>\n",
       "      <td>1007212</td>\n",
       "      <td>Sunshine - Haight St.</td>\n",
       "      <td>070617000755</td>\n",
       "      <td>Barbaras Jalapeno Cheese Puff</td>\n",
       "      <td>CHIPS</td>\n",
       "      <td>EACH</td>\n",
       "      <td>7 oz</td>\n",
       "      <td>2.93</td>\n",
       "      <td>-2.0</td>\n",
       "      <td>-5.60</td>\n",
       "      <td>2021</td>\n",
       "      <td>12</td>\n",
       "      <td>2021-12-01</td>\n",
       "    </tr>\n",
       "    <tr>\n",
       "      <th>2021-12</th>\n",
       "      <td>SF</td>\n",
       "      <td>0</td>\n",
       "      <td>1007293</td>\n",
       "      <td>Jump Start Market</td>\n",
       "      <td>022224200714</td>\n",
       "      <td>Wiley Wallaby Black - 7 oz</td>\n",
       "      <td>CANDY</td>\n",
       "      <td>EACH</td>\n",
       "      <td>7.05 oz</td>\n",
       "      <td>2.69</td>\n",
       "      <td>0.0</td>\n",
       "      <td>0.00</td>\n",
       "      <td>2021</td>\n",
       "      <td>12</td>\n",
       "      <td>2021-12-01</td>\n",
       "    </tr>\n",
       "    <tr>\n",
       "      <th>2021-12</th>\n",
       "      <td>SF</td>\n",
       "      <td>0</td>\n",
       "      <td>1007293</td>\n",
       "      <td>Jump Start Market</td>\n",
       "      <td>070617000762</td>\n",
       "      <td>Barbaras White Cheddar Baked P</td>\n",
       "      <td>CHIPS</td>\n",
       "      <td>EACH</td>\n",
       "      <td>5.5 oz</td>\n",
       "      <td>2.93</td>\n",
       "      <td>0.0</td>\n",
       "      <td>0.00</td>\n",
       "      <td>2021</td>\n",
       "      <td>12</td>\n",
       "      <td>2021-12-01</td>\n",
       "    </tr>\n",
       "    <tr>\n",
       "      <th>2021-12</th>\n",
       "      <td>SF</td>\n",
       "      <td>0</td>\n",
       "      <td>1007293</td>\n",
       "      <td>Jump Start Market</td>\n",
       "      <td>070617000625</td>\n",
       "      <td>Barbaras Cheese Puffs</td>\n",
       "      <td>CHIPS</td>\n",
       "      <td>EACH</td>\n",
       "      <td>7 oz</td>\n",
       "      <td>2.93</td>\n",
       "      <td>0.0</td>\n",
       "      <td>0.00</td>\n",
       "      <td>2021</td>\n",
       "      <td>12</td>\n",
       "      <td>2021-12-01</td>\n",
       "    </tr>\n",
       "  </tbody>\n",
       "</table>\n",
       "<p>3902 rows × 15 columns</p>\n",
       "</div>"
      ],
      "text/plain": [
       "        territory  ar_div  customer_num           sold_to_name      item_num  \\\n",
       "date                                                                           \n",
       "2017-01        SF       0       1007292          Madera Liquor  858641003030   \n",
       "2017-01        SF       0       1007252           Hayes Market  892343006029   \n",
       "2017-01        SF       0       1007293      Jump Start Market  071828009469   \n",
       "2017-01        SF       0       1007293      Jump Start Market  070617206096   \n",
       "2017-01        SF       0       1007293      Jump Start Market  070617206102   \n",
       "...           ...     ...           ...                    ...           ...   \n",
       "2021-12        EB       0       1000608     Berkeley Bowl West  712102001006   \n",
       "2021-12        SF       0       1007212  Sunshine - Haight St.  070617000755   \n",
       "2021-12        SF       0       1007293      Jump Start Market  022224200714   \n",
       "2021-12        SF       0       1007293      Jump Start Market  070617000762   \n",
       "2021-12        SF       0       1007293      Jump Start Market  070617000625   \n",
       "\n",
       "                       item_description item_type unit_of_measure   weight  \\\n",
       "date                                                                         \n",
       "2017-01   Daily Crave Veggie Chips-1 oz     CHIPS            EACH     1 oz   \n",
       "2017-01  Holly Baking Swt Ginger Brittl    COOKIE            EACH     6 oz   \n",
       "2017-01  Inglehoffer Orig Horseradish M   MUSTARD            EACH     4 oz   \n",
       "2017-01           Barbaras Puffins Orig    CEREAL            EACH    10 oz   \n",
       "2017-01       Barbaras Puffins Cinnamon    CEREAL            EACH    10 oz   \n",
       "...                                 ...       ...             ...      ...   \n",
       "2021-12             MTG Demi-Glace Gold     SAUCE            EACH   1.5 oz   \n",
       "2021-12   Barbaras Jalapeno Cheese Puff     CHIPS            EACH     7 oz   \n",
       "2021-12      Wiley Wallaby Black - 7 oz     CANDY            EACH  7.05 oz   \n",
       "2021-12  Barbaras White Cheddar Baked P     CHIPS            EACH   5.5 oz   \n",
       "2021-12           Barbaras Cheese Puffs     CHIPS            EACH     7 oz   \n",
       "\n",
       "         standard_price  quantity   price  year  month       date  \n",
       "date                                                               \n",
       "2017-01            0.78       0.0    0.00  2017      1 2017-01-01  \n",
       "2017-01            2.60      -6.0  -15.60  2017      1 2017-01-01  \n",
       "2017-01            1.36       0.0    0.00  2017      1 2017-01-01  \n",
       "2017-01            4.35      -3.0  -13.05  2017      1 2017-01-01  \n",
       "2017-01            4.35      -4.0  -17.40  2017      1 2017-01-01  \n",
       "...                 ...       ...     ...   ...    ...        ...  \n",
       "2021-12            3.97     -48.0 -190.56  2021     12 2021-12-01  \n",
       "2021-12            2.93      -2.0   -5.60  2021     12 2021-12-01  \n",
       "2021-12            2.69       0.0    0.00  2021     12 2021-12-01  \n",
       "2021-12            2.93       0.0    0.00  2021     12 2021-12-01  \n",
       "2021-12            2.93       0.0    0.00  2021     12 2021-12-01  \n",
       "\n",
       "[3902 rows x 15 columns]"
      ]
     },
     "execution_count": 47,
     "metadata": {},
     "output_type": "execute_result"
    }
   ],
   "source": [
    "df_master[df_master['quantity'] <= 0]"
   ]
  },
  {
   "cell_type": "code",
   "execution_count": 48,
   "metadata": {},
   "outputs": [],
   "source": [
    "df_master = df_master[df_master['quantity'] > 0]"
   ]
  },
  {
   "cell_type": "markdown",
   "metadata": {},
   "source": [
    "# Prices Less Than 0"
   ]
  },
  {
   "cell_type": "code",
   "execution_count": 49,
   "metadata": {},
   "outputs": [
    {
     "data": {
      "text/html": [
       "<div>\n",
       "<style scoped>\n",
       "    .dataframe tbody tr th:only-of-type {\n",
       "        vertical-align: middle;\n",
       "    }\n",
       "\n",
       "    .dataframe tbody tr th {\n",
       "        vertical-align: top;\n",
       "    }\n",
       "\n",
       "    .dataframe thead th {\n",
       "        text-align: right;\n",
       "    }\n",
       "</style>\n",
       "<table border=\"1\" class=\"dataframe\">\n",
       "  <thead>\n",
       "    <tr style=\"text-align: right;\">\n",
       "      <th></th>\n",
       "      <th>territory</th>\n",
       "      <th>ar_div</th>\n",
       "      <th>customer_num</th>\n",
       "      <th>sold_to_name</th>\n",
       "      <th>item_num</th>\n",
       "      <th>item_description</th>\n",
       "      <th>item_type</th>\n",
       "      <th>unit_of_measure</th>\n",
       "      <th>weight</th>\n",
       "      <th>standard_price</th>\n",
       "      <th>quantity</th>\n",
       "      <th>price</th>\n",
       "      <th>year</th>\n",
       "      <th>month</th>\n",
       "      <th>date</th>\n",
       "    </tr>\n",
       "    <tr>\n",
       "      <th>date</th>\n",
       "      <th></th>\n",
       "      <th></th>\n",
       "      <th></th>\n",
       "      <th></th>\n",
       "      <th></th>\n",
       "      <th></th>\n",
       "      <th></th>\n",
       "      <th></th>\n",
       "      <th></th>\n",
       "      <th></th>\n",
       "      <th></th>\n",
       "      <th></th>\n",
       "      <th></th>\n",
       "      <th></th>\n",
       "      <th></th>\n",
       "    </tr>\n",
       "  </thead>\n",
       "  <tbody>\n",
       "    <tr>\n",
       "      <th>2017-01</th>\n",
       "      <td>MR</td>\n",
       "      <td>0</td>\n",
       "      <td>1000225</td>\n",
       "      <td>Cowgirl Creamery</td>\n",
       "      <td>858876006035</td>\n",
       "      <td>Tahoe Sea Salt - 5 oz</td>\n",
       "      <td>CHIPS</td>\n",
       "      <td>EACH</td>\n",
       "      <td>5 oz</td>\n",
       "      <td>1.94</td>\n",
       "      <td>1.0</td>\n",
       "      <td>0.0</td>\n",
       "      <td>2017</td>\n",
       "      <td>1</td>\n",
       "      <td>2017-01-01</td>\n",
       "    </tr>\n",
       "    <tr>\n",
       "      <th>2020-12</th>\n",
       "      <td>EB</td>\n",
       "      <td>0</td>\n",
       "      <td>1000608</td>\n",
       "      <td>Berkeley Bowl West</td>\n",
       "      <td>661475450037</td>\n",
       "      <td>Gioia Cannellini Beans</td>\n",
       "      <td>BEANS</td>\n",
       "      <td>EACH</td>\n",
       "      <td>14 oz</td>\n",
       "      <td>0.91</td>\n",
       "      <td>12.0</td>\n",
       "      <td>0.0</td>\n",
       "      <td>2020</td>\n",
       "      <td>12</td>\n",
       "      <td>2020-12-01</td>\n",
       "    </tr>\n",
       "    <tr>\n",
       "      <th>2020-12</th>\n",
       "      <td>EB</td>\n",
       "      <td>0</td>\n",
       "      <td>1000608</td>\n",
       "      <td>Berkeley Bowl West</td>\n",
       "      <td>661475457036</td>\n",
       "      <td>Gioia Black Beans</td>\n",
       "      <td>BEANS</td>\n",
       "      <td>EACH</td>\n",
       "      <td>14 oz</td>\n",
       "      <td>0.91</td>\n",
       "      <td>12.0</td>\n",
       "      <td>0.0</td>\n",
       "      <td>2020</td>\n",
       "      <td>12</td>\n",
       "      <td>2020-12-01</td>\n",
       "    </tr>\n",
       "    <tr>\n",
       "      <th>2020-12</th>\n",
       "      <td>EB</td>\n",
       "      <td>0</td>\n",
       "      <td>1000026</td>\n",
       "      <td>Monterey Foods Market</td>\n",
       "      <td>070650004048</td>\n",
       "      <td>Honees Lemon Cough Drops</td>\n",
       "      <td>MISC</td>\n",
       "      <td>EACH</td>\n",
       "      <td>3.5 oz</td>\n",
       "      <td>2.02</td>\n",
       "      <td>6.0</td>\n",
       "      <td>0.0</td>\n",
       "      <td>2020</td>\n",
       "      <td>12</td>\n",
       "      <td>2020-12-01</td>\n",
       "    </tr>\n",
       "    <tr>\n",
       "      <th>2020-12</th>\n",
       "      <td>EB</td>\n",
       "      <td>0</td>\n",
       "      <td>1000026</td>\n",
       "      <td>Monterey Foods Market</td>\n",
       "      <td>070650004031</td>\n",
       "      <td>Honees Honey Cough Drops</td>\n",
       "      <td>MISC</td>\n",
       "      <td>EACH</td>\n",
       "      <td>3.5 oz</td>\n",
       "      <td>2.02</td>\n",
       "      <td>6.0</td>\n",
       "      <td>0.0</td>\n",
       "      <td>2020</td>\n",
       "      <td>12</td>\n",
       "      <td>2020-12-01</td>\n",
       "    </tr>\n",
       "    <tr>\n",
       "      <th>...</th>\n",
       "      <td>...</td>\n",
       "      <td>...</td>\n",
       "      <td>...</td>\n",
       "      <td>...</td>\n",
       "      <td>...</td>\n",
       "      <td>...</td>\n",
       "      <td>...</td>\n",
       "      <td>...</td>\n",
       "      <td>...</td>\n",
       "      <td>...</td>\n",
       "      <td>...</td>\n",
       "      <td>...</td>\n",
       "      <td>...</td>\n",
       "      <td>...</td>\n",
       "      <td>...</td>\n",
       "    </tr>\n",
       "    <tr>\n",
       "      <th>2019-04</th>\n",
       "      <td>MR</td>\n",
       "      <td>0</td>\n",
       "      <td>1000082</td>\n",
       "      <td>Mill Valley Market</td>\n",
       "      <td>082666500902</td>\n",
       "      <td>Popchips BBQ-5 oz</td>\n",
       "      <td>CHIPS</td>\n",
       "      <td>EACH</td>\n",
       "      <td>5 oz</td>\n",
       "      <td>2.85</td>\n",
       "      <td>12.0</td>\n",
       "      <td>0.0</td>\n",
       "      <td>2019</td>\n",
       "      <td>4</td>\n",
       "      <td>2019-04-01</td>\n",
       "    </tr>\n",
       "    <tr>\n",
       "      <th>2019-06</th>\n",
       "      <td>MR</td>\n",
       "      <td>0</td>\n",
       "      <td>1000082</td>\n",
       "      <td>Mill Valley Market</td>\n",
       "      <td>082666500902</td>\n",
       "      <td>Popchips BBQ-5 oz</td>\n",
       "      <td>CHIPS</td>\n",
       "      <td>EACH</td>\n",
       "      <td>5 oz</td>\n",
       "      <td>2.85</td>\n",
       "      <td>24.0</td>\n",
       "      <td>0.0</td>\n",
       "      <td>2019</td>\n",
       "      <td>6</td>\n",
       "      <td>2019-06-01</td>\n",
       "    </tr>\n",
       "    <tr>\n",
       "      <th>2019-06</th>\n",
       "      <td>MR</td>\n",
       "      <td>0</td>\n",
       "      <td>1000108</td>\n",
       "      <td>Scotty's Market</td>\n",
       "      <td>082666502005</td>\n",
       "      <td>Popchips Crazy Hot-5 oz</td>\n",
       "      <td>CHIPS</td>\n",
       "      <td>EACH</td>\n",
       "      <td>5 oz</td>\n",
       "      <td>2.85</td>\n",
       "      <td>12.0</td>\n",
       "      <td>0.0</td>\n",
       "      <td>2019</td>\n",
       "      <td>6</td>\n",
       "      <td>2019-06-01</td>\n",
       "    </tr>\n",
       "    <tr>\n",
       "      <th>2018-12</th>\n",
       "      <td>MR</td>\n",
       "      <td>0</td>\n",
       "      <td>1000108</td>\n",
       "      <td>Scotty's Market</td>\n",
       "      <td>082666502005</td>\n",
       "      <td>Popchips Crazy Hot-5 oz</td>\n",
       "      <td>CHIPS</td>\n",
       "      <td>EACH</td>\n",
       "      <td>5 oz</td>\n",
       "      <td>2.70</td>\n",
       "      <td>12.0</td>\n",
       "      <td>0.0</td>\n",
       "      <td>2018</td>\n",
       "      <td>12</td>\n",
       "      <td>2018-12-01</td>\n",
       "    </tr>\n",
       "    <tr>\n",
       "      <th>2021-12</th>\n",
       "      <td>MR</td>\n",
       "      <td>0</td>\n",
       "      <td>1000082</td>\n",
       "      <td>Mill Valley Market</td>\n",
       "      <td>082666500902</td>\n",
       "      <td>Popchips BBQ-5 oz</td>\n",
       "      <td>CHIPS</td>\n",
       "      <td>EACH</td>\n",
       "      <td>5 oz</td>\n",
       "      <td>3.20</td>\n",
       "      <td>12.0</td>\n",
       "      <td>0.0</td>\n",
       "      <td>2021</td>\n",
       "      <td>12</td>\n",
       "      <td>2021-12-01</td>\n",
       "    </tr>\n",
       "  </tbody>\n",
       "</table>\n",
       "<p>205 rows × 15 columns</p>\n",
       "</div>"
      ],
      "text/plain": [
       "        territory  ar_div  customer_num           sold_to_name      item_num  \\\n",
       "date                                                                           \n",
       "2017-01        MR       0       1000225       Cowgirl Creamery  858876006035   \n",
       "2020-12        EB       0       1000608     Berkeley Bowl West  661475450037   \n",
       "2020-12        EB       0       1000608     Berkeley Bowl West  661475457036   \n",
       "2020-12        EB       0       1000026  Monterey Foods Market  070650004048   \n",
       "2020-12        EB       0       1000026  Monterey Foods Market  070650004031   \n",
       "...           ...     ...           ...                    ...           ...   \n",
       "2019-04        MR       0       1000082     Mill Valley Market  082666500902   \n",
       "2019-06        MR       0       1000082     Mill Valley Market  082666500902   \n",
       "2019-06        MR       0       1000108        Scotty's Market  082666502005   \n",
       "2018-12        MR       0       1000108        Scotty's Market  082666502005   \n",
       "2021-12        MR       0       1000082     Mill Valley Market  082666500902   \n",
       "\n",
       "                 item_description item_type unit_of_measure  weight  \\\n",
       "date                                                                  \n",
       "2017-01     Tahoe Sea Salt - 5 oz     CHIPS            EACH    5 oz   \n",
       "2020-12    Gioia Cannellini Beans     BEANS            EACH   14 oz   \n",
       "2020-12         Gioia Black Beans     BEANS            EACH   14 oz   \n",
       "2020-12  Honees Lemon Cough Drops      MISC            EACH  3.5 oz   \n",
       "2020-12  Honees Honey Cough Drops      MISC            EACH  3.5 oz   \n",
       "...                           ...       ...             ...     ...   \n",
       "2019-04         Popchips BBQ-5 oz     CHIPS            EACH    5 oz   \n",
       "2019-06         Popchips BBQ-5 oz     CHIPS            EACH    5 oz   \n",
       "2019-06   Popchips Crazy Hot-5 oz     CHIPS            EACH    5 oz   \n",
       "2018-12   Popchips Crazy Hot-5 oz     CHIPS            EACH    5 oz   \n",
       "2021-12         Popchips BBQ-5 oz     CHIPS            EACH    5 oz   \n",
       "\n",
       "         standard_price  quantity  price  year  month       date  \n",
       "date                                                              \n",
       "2017-01            1.94       1.0    0.0  2017      1 2017-01-01  \n",
       "2020-12            0.91      12.0    0.0  2020     12 2020-12-01  \n",
       "2020-12            0.91      12.0    0.0  2020     12 2020-12-01  \n",
       "2020-12            2.02       6.0    0.0  2020     12 2020-12-01  \n",
       "2020-12            2.02       6.0    0.0  2020     12 2020-12-01  \n",
       "...                 ...       ...    ...   ...    ...        ...  \n",
       "2019-04            2.85      12.0    0.0  2019      4 2019-04-01  \n",
       "2019-06            2.85      24.0    0.0  2019      6 2019-06-01  \n",
       "2019-06            2.85      12.0    0.0  2019      6 2019-06-01  \n",
       "2018-12            2.70      12.0    0.0  2018     12 2018-12-01  \n",
       "2021-12            3.20      12.0    0.0  2021     12 2021-12-01  \n",
       "\n",
       "[205 rows x 15 columns]"
      ]
     },
     "execution_count": 49,
     "metadata": {},
     "output_type": "execute_result"
    }
   ],
   "source": [
    "df_master[df_master['price'] <= 0].sort_values(by='price')"
   ]
  },
  {
   "cell_type": "code",
   "execution_count": 50,
   "metadata": {},
   "outputs": [],
   "source": [
    "df_master = df_master[df_master['price'] > 0]"
   ]
  },
  {
   "cell_type": "code",
   "execution_count": null,
   "metadata": {},
   "outputs": [],
   "source": []
  },
  {
   "cell_type": "markdown",
   "metadata": {},
   "source": [
    "# Save the Clean Data"
   ]
  },
  {
   "cell_type": "code",
   "execution_count": 51,
   "metadata": {},
   "outputs": [],
   "source": [
    "df_master.to_csv('../data/clean_data/products_clean.csv', compression='zip', index=False)"
   ]
  },
  {
   "cell_type": "markdown",
   "metadata": {},
   "source": [
    "# Reduce Size of Data For Tableau"
   ]
  },
  {
   "cell_type": "markdown",
   "metadata": {},
   "source": [
    "selecting only the columns that matter"
   ]
  },
  {
   "cell_type": "code",
   "execution_count": 52,
   "metadata": {},
   "outputs": [],
   "source": [
    "df_tableau = df_master[['territory', 'sold_to_name','item_description', 'item_type', 'quantity', 'price', 'date']]"
   ]
  },
  {
   "cell_type": "markdown",
   "metadata": {},
   "source": [
    "reducing number of items"
   ]
  },
  {
   "cell_type": "code",
   "execution_count": 105,
   "metadata": {},
   "outputs": [],
   "source": [
    "df_tableau_items = pd.DataFrame(zip(df_tableau['item_description'].value_counts().index, df_tableau['item_description'].value_counts()))\n",
    "tableau_items = df_tableau_items[df_tableau_items[1] >= 50][0]\n",
    "df_tableau = df_tableau[df_tableau['item_description'].isin(tableau_items)]"
   ]
  },
  {
   "cell_type": "markdown",
   "metadata": {},
   "source": [
    "reducing the number of stores"
   ]
  },
  {
   "cell_type": "code",
   "execution_count": 122,
   "metadata": {},
   "outputs": [],
   "source": [
    "df_tableau_stores = pd.DataFrame(zip(df_tableau['sold_to_name'].value_counts().index, df_tableau['sold_to_name'].value_counts()))\n",
    "tableau_stores = df_tableau_stores[df_tableau_stores[1] >= 60][0]\n",
    "df_tableau = df_tableau[df_tableau['sold_to_name'].isin(tableau_stores)]"
   ]
  },
  {
   "cell_type": "code",
   "execution_count": 126,
   "metadata": {},
   "outputs": [],
   "source": [
    "df_tableau['item_type'] = df_tableau['item_type'].str.title()"
   ]
  },
  {
   "cell_type": "code",
   "execution_count": 127,
   "metadata": {},
   "outputs": [],
   "source": [
    "df_tableau.to_csv('C:/Users/ncox0/DSI/misc/products_tableau.csv', index=False)"
   ]
  },
  {
   "cell_type": "markdown",
   "metadata": {},
   "source": [
    "# Grouping Products For Market Basket Analysis"
   ]
  },
  {
   "cell_type": "code",
   "execution_count": 54,
   "metadata": {},
   "outputs": [
    {
     "data": {
      "text/plain": [
       "Tahoe Sea Salt - 5 oz          1152\n",
       "Tahoe Salt & Vinegar - 5 oz     961\n",
       "Tahoe Bar-B-Que - 5 oz          929\n",
       "Tahoe Jalapeno - 5 oz           619\n",
       "Name: item_description, dtype: int64"
      ]
     },
     "execution_count": 54,
     "metadata": {},
     "output_type": "execute_result"
    }
   ],
   "source": [
    "df_master[df_master['item_description'].str.contains('Tahoe')]['item_description'].value_counts()"
   ]
  },
  {
   "cell_type": "code",
   "execution_count": 55,
   "metadata": {},
   "outputs": [
    {
     "data": {
      "text/plain": [
       "La Morenita Original       4181\n",
       "La Morenita Salt & Lime    4001\n",
       "La Morenita Tostaditas     1753\n",
       "Name: item_description, dtype: int64"
      ]
     },
     "execution_count": 55,
     "metadata": {},
     "output_type": "execute_result"
    }
   ],
   "source": [
    "df_master[df_master['item_description'].str.contains('La Morenita')]['item_description'].value_counts()"
   ]
  },
  {
   "cell_type": "code",
   "execution_count": 56,
   "metadata": {},
   "outputs": [],
   "source": [
    "df_master['item_description'] = df_master['item_description'].str.replace('La Morenita Salt & Lime', 'La Morenita Chips')\n",
    "df_master['item_description'] = df_master['item_description'].str.replace('La Morenita Original', 'La Morenita Chips')\n",
    "df_master['item_description'] = df_master['item_description'].str.replace('La Morenita Tostaditas', 'La Morenita Chips')\n",
    "\n",
    "df_master['item_description'] = df_master['item_description'].str.replace('Tahoe Sea Salt - 5 oz', 'Tahoe Chips')\n",
    "df_master['item_description'] = df_master['item_description'].str.replace('Tahoe Salt & Vinegar - 5 oz', 'Tahoe Chips')\n",
    "df_master['item_description'] = df_master['item_description'].str.replace('Tahoe Bar-B-Que - 5 oz', 'Tahoe Chips')\n",
    "df_master['item_description'] = df_master['item_description'].str.replace('Tahoe Jalapeno - 5 oz', 'Tahoe Chips')"
   ]
  },
  {
   "cell_type": "code",
   "execution_count": 57,
   "metadata": {},
   "outputs": [],
   "source": [
    "df_master = df_master[df_master['item_description'].str.contains('Wild Calif') == False]"
   ]
  },
  {
   "cell_type": "code",
   "execution_count": null,
   "metadata": {},
   "outputs": [],
   "source": []
  },
  {
   "cell_type": "code",
   "execution_count": 58,
   "metadata": {},
   "outputs": [],
   "source": [
    "df_master.to_csv('../data/clean_data/products_clean_model.csv', compression='zip', index=False)"
   ]
  }
 ],
 "metadata": {
  "interpreter": {
   "hash": "b3ba2566441a7c06988d0923437866b63cedc61552a5af99d1f4fb67d367b25f"
  },
  "kernelspec": {
   "display_name": "Python 3.9.7 ('base')",
   "language": "python",
   "name": "python3"
  },
  "language_info": {
   "codemirror_mode": {
    "name": "ipython",
    "version": 3
   },
   "file_extension": ".py",
   "mimetype": "text/x-python",
   "name": "python",
   "nbconvert_exporter": "python",
   "pygments_lexer": "ipython3",
   "version": "3.9.7"
  },
  "orig_nbformat": 4
 },
 "nbformat": 4,
 "nbformat_minor": 2
}
