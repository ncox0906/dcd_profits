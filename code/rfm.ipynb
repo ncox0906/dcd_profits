{
 "cells": [
  {
   "cell_type": "code",
   "execution_count": 2,
   "metadata": {},
   "outputs": [],
   "source": [
    "import pandas as pd\n",
    "import numpy as np\n",
    "import matplotlib.pyplot as plt\n",
    "import seaborn as sns\n",
    "\n",
    "from sklearn.preprocessing import StandardScaler\n",
    "from sklearn.cluster import KMeans\n",
    "from sklearn.metrics import silhouette_score\n",
    "\n",
    "import plotly.express as px\n",
    "import plotly.graph_objects as go\n",
    "\n",
    "import datetime as dt"
   ]
  },
  {
   "cell_type": "code",
   "execution_count": 3,
   "metadata": {},
   "outputs": [
    {
     "data": {
      "text/html": [
       "<div>\n",
       "<style scoped>\n",
       "    .dataframe tbody tr th:only-of-type {\n",
       "        vertical-align: middle;\n",
       "    }\n",
       "\n",
       "    .dataframe tbody tr th {\n",
       "        vertical-align: top;\n",
       "    }\n",
       "\n",
       "    .dataframe thead th {\n",
       "        text-align: right;\n",
       "    }\n",
       "</style>\n",
       "<table border=\"1\" class=\"dataframe\">\n",
       "  <thead>\n",
       "    <tr style=\"text-align: right;\">\n",
       "      <th></th>\n",
       "      <th>ar_div</th>\n",
       "      <th>customer_num</th>\n",
       "      <th>sold_to_name</th>\n",
       "      <th>product_line</th>\n",
       "      <th>year</th>\n",
       "      <th>month</th>\n",
       "      <th>start_date</th>\n",
       "      <th>end_date</th>\n",
       "      <th>quantity</th>\n",
       "      <th>ext_price</th>\n",
       "      <th>ext_cost</th>\n",
       "      <th>gross_profit</th>\n",
       "      <th>territory</th>\n",
       "      <th>date</th>\n",
       "    </tr>\n",
       "  </thead>\n",
       "  <tbody>\n",
       "    <tr>\n",
       "      <th>0</th>\n",
       "      <td>0</td>\n",
       "      <td>1000438</td>\n",
       "      <td>Farmer Joe's - Fruitvale Ave.</td>\n",
       "      <td>DCD</td>\n",
       "      <td>2017</td>\n",
       "      <td>1</td>\n",
       "      <td>1/1/2017</td>\n",
       "      <td>12/31/2017</td>\n",
       "      <td>1941.0</td>\n",
       "      <td>6976.1</td>\n",
       "      <td>4969.73</td>\n",
       "      <td>2006.37</td>\n",
       "      <td>EB</td>\n",
       "      <td>2017-01-01</td>\n",
       "    </tr>\n",
       "    <tr>\n",
       "      <th>1</th>\n",
       "      <td>0</td>\n",
       "      <td>1014136</td>\n",
       "      <td>Seven Eleven-Redwood Hwy,M.V.</td>\n",
       "      <td>DCD</td>\n",
       "      <td>2017</td>\n",
       "      <td>1</td>\n",
       "      <td>1/1/2017</td>\n",
       "      <td>12/31/2017</td>\n",
       "      <td>120.0</td>\n",
       "      <td>186.0</td>\n",
       "      <td>148.08</td>\n",
       "      <td>37.92</td>\n",
       "      <td>MR</td>\n",
       "      <td>2017-01-01</td>\n",
       "    </tr>\n",
       "  </tbody>\n",
       "</table>\n",
       "</div>"
      ],
      "text/plain": [
       "   ar_div  customer_num                   sold_to_name product_line  year  \\\n",
       "0       0       1000438  Farmer Joe's - Fruitvale Ave.          DCD  2017   \n",
       "1       0       1014136  Seven Eleven-Redwood Hwy,M.V.          DCD  2017   \n",
       "\n",
       "   month start_date    end_date  quantity  ext_price  ext_cost  gross_profit  \\\n",
       "0      1   1/1/2017  12/31/2017    1941.0     6976.1   4969.73       2006.37   \n",
       "1      1   1/1/2017  12/31/2017     120.0      186.0    148.08         37.92   \n",
       "\n",
       "  territory        date  \n",
       "0        EB  2017-01-01  \n",
       "1        MR  2017-01-01  "
      ]
     },
     "execution_count": 3,
     "metadata": {},
     "output_type": "execute_result"
    }
   ],
   "source": [
    "stores = pd.read_csv('../data/clean_data/profits_clean.csv', compression='zip', parse_dates=True)\n",
    "stores.head(2)"
   ]
  },
  {
   "cell_type": "code",
   "execution_count": 4,
   "metadata": {},
   "outputs": [
    {
     "data": {
      "text/html": [
       "<div>\n",
       "<style scoped>\n",
       "    .dataframe tbody tr th:only-of-type {\n",
       "        vertical-align: middle;\n",
       "    }\n",
       "\n",
       "    .dataframe tbody tr th {\n",
       "        vertical-align: top;\n",
       "    }\n",
       "\n",
       "    .dataframe thead th {\n",
       "        text-align: right;\n",
       "    }\n",
       "</style>\n",
       "<table border=\"1\" class=\"dataframe\">\n",
       "  <thead>\n",
       "    <tr style=\"text-align: right;\">\n",
       "      <th></th>\n",
       "      <th>sold_to_name</th>\n",
       "      <th>product_line</th>\n",
       "      <th>date</th>\n",
       "      <th>gross_profit</th>\n",
       "    </tr>\n",
       "  </thead>\n",
       "  <tbody>\n",
       "    <tr>\n",
       "      <th>0</th>\n",
       "      <td>Farmer Joe's - Fruitvale Ave.</td>\n",
       "      <td>DCD</td>\n",
       "      <td>2017-01-01</td>\n",
       "      <td>2006.37</td>\n",
       "    </tr>\n",
       "    <tr>\n",
       "      <th>1</th>\n",
       "      <td>Seven Eleven-Redwood Hwy,M.V.</td>\n",
       "      <td>DCD</td>\n",
       "      <td>2017-01-01</td>\n",
       "      <td>37.92</td>\n",
       "    </tr>\n",
       "  </tbody>\n",
       "</table>\n",
       "</div>"
      ],
      "text/plain": [
       "                    sold_to_name product_line        date  gross_profit\n",
       "0  Farmer Joe's - Fruitvale Ave.          DCD  2017-01-01       2006.37\n",
       "1  Seven Eleven-Redwood Hwy,M.V.          DCD  2017-01-01         37.92"
      ]
     },
     "execution_count": 4,
     "metadata": {},
     "output_type": "execute_result"
    }
   ],
   "source": [
    "# filter for columns that will be used\n",
    "cols = [\n",
    "    'sold_to_name',\n",
    "    'product_line',\n",
    "    'date',\n",
    "    'gross_profit'\n",
    "]\n",
    "\n",
    "# filter data to use the columns above\n",
    "stores = stores[cols]\n",
    "stores.head(2)"
   ]
  },
  {
   "cell_type": "code",
   "execution_count": 5,
   "metadata": {},
   "outputs": [
    {
     "data": {
      "text/plain": [
       "DCD    19570\n",
       "PF      7987\n",
       "Name: product_line, dtype: int64"
      ]
     },
     "execution_count": 5,
     "metadata": {},
     "output_type": "execute_result"
    }
   ],
   "source": [
    "stores['product_line'].value_counts()"
   ]
  },
  {
   "cell_type": "code",
   "execution_count": 6,
   "metadata": {},
   "outputs": [
    {
     "data": {
      "text/html": [
       "<div>\n",
       "<style scoped>\n",
       "    .dataframe tbody tr th:only-of-type {\n",
       "        vertical-align: middle;\n",
       "    }\n",
       "\n",
       "    .dataframe tbody tr th {\n",
       "        vertical-align: top;\n",
       "    }\n",
       "\n",
       "    .dataframe thead th {\n",
       "        text-align: right;\n",
       "    }\n",
       "</style>\n",
       "<table border=\"1\" class=\"dataframe\">\n",
       "  <thead>\n",
       "    <tr style=\"text-align: right;\">\n",
       "      <th></th>\n",
       "      <th>sold_to_name</th>\n",
       "      <th>date</th>\n",
       "      <th>gross_profit</th>\n",
       "    </tr>\n",
       "  </thead>\n",
       "  <tbody>\n",
       "    <tr>\n",
       "      <th>0</th>\n",
       "      <td>Farmer Joe's - Fruitvale Ave.</td>\n",
       "      <td>2017-01-01</td>\n",
       "      <td>2006.37</td>\n",
       "    </tr>\n",
       "    <tr>\n",
       "      <th>1</th>\n",
       "      <td>Seven Eleven-Redwood Hwy,M.V.</td>\n",
       "      <td>2017-01-01</td>\n",
       "      <td>37.92</td>\n",
       "    </tr>\n",
       "  </tbody>\n",
       "</table>\n",
       "</div>"
      ],
      "text/plain": [
       "                    sold_to_name        date  gross_profit\n",
       "0  Farmer Joe's - Fruitvale Ave.  2017-01-01       2006.37\n",
       "1  Seven Eleven-Redwood Hwy,M.V.  2017-01-01         37.92"
      ]
     },
     "execution_count": 6,
     "metadata": {},
     "output_type": "execute_result"
    }
   ],
   "source": [
    "# remove pepperidge rows\n",
    "stores = stores[stores['product_line'].isin(['PFBI', 'PFCR']) == False]\n",
    "stores.drop(columns='product_line', inplace=True)\n",
    "stores.head(2)"
   ]
  },
  {
   "cell_type": "markdown",
   "metadata": {},
   "source": [
    "# RFM Segmentation"
   ]
  },
  {
   "cell_type": "markdown",
   "metadata": {},
   "source": [
    "R = Recency\n",
    "\n",
    "F = Frequency\n",
    "\n",
    "M = Monetary"
   ]
  },
  {
   "cell_type": "markdown",
   "metadata": {},
   "source": [
    "In this section I will create and assign values (1-4) for each stores based on recent purchases, frequency of purchases, and how much money was spent"
   ]
  },
  {
   "cell_type": "markdown",
   "metadata": {},
   "source": [
    "I followed this blog post on how to use RFM.\n",
    "\n",
    "Some code was taken from here and transformed to fit my project.\n",
    "\n",
    "https://medium.com/web-mining-is688-spring-2021/using-k-means-to-segment-customers-based-on-rfm-variables-9d4d683688c8"
   ]
  },
  {
   "cell_type": "code",
   "execution_count": 7,
   "metadata": {},
   "outputs": [
    {
     "data": {
      "text/html": [
       "<div>\n",
       "<style scoped>\n",
       "    .dataframe tbody tr th:only-of-type {\n",
       "        vertical-align: middle;\n",
       "    }\n",
       "\n",
       "    .dataframe tbody tr th {\n",
       "        vertical-align: top;\n",
       "    }\n",
       "\n",
       "    .dataframe thead th {\n",
       "        text-align: right;\n",
       "    }\n",
       "</style>\n",
       "<table border=\"1\" class=\"dataframe\">\n",
       "  <thead>\n",
       "    <tr style=\"text-align: right;\">\n",
       "      <th></th>\n",
       "      <th>sold_to_name</th>\n",
       "      <th>date</th>\n",
       "      <th>gross_profit</th>\n",
       "    </tr>\n",
       "  </thead>\n",
       "  <tbody>\n",
       "    <tr>\n",
       "      <th>0</th>\n",
       "      <td>17th &amp; Balboa Market</td>\n",
       "      <td>2017-02-01</td>\n",
       "      <td>74.87</td>\n",
       "    </tr>\n",
       "    <tr>\n",
       "      <th>1</th>\n",
       "      <td>17th &amp; Cole Market</td>\n",
       "      <td>2017-01-01</td>\n",
       "      <td>82.06</td>\n",
       "    </tr>\n",
       "  </tbody>\n",
       "</table>\n",
       "</div>"
      ],
      "text/plain": [
       "           sold_to_name        date  gross_profit\n",
       "0  17th & Balboa Market  2017-02-01         74.87\n",
       "1    17th & Cole Market  2017-01-01         82.06"
      ]
     },
     "execution_count": 7,
     "metadata": {},
     "output_type": "execute_result"
    }
   ],
   "source": [
    "# group by store and date, sum the profits\n",
    "# this was needed because there were multiple entries for stores and dates for different product lines\n",
    "stores = stores.groupby(by=['sold_to_name', 'date'], as_index=False).sum()\n",
    "stores.head(2)"
   ]
  },
  {
   "cell_type": "code",
   "execution_count": 8,
   "metadata": {},
   "outputs": [],
   "source": [
    "# the last date in the dataset (used for frequency)\n",
    "last_date = max(stores['date']).split('-')                          # max date in the dataset, split on '-'\n",
    "last_date = list(map(int, last_date))                               # convert numbers in date from string to int\n",
    "last_date = dt.date(last_date[0], last_date[1], last_date[2])       # convert to datetime\n",
    "\n",
    "stores['date'] = pd.DatetimeIndex(stores['date']).date"
   ]
  },
  {
   "cell_type": "markdown",
   "metadata": {},
   "source": [
    "## Recency"
   ]
  },
  {
   "cell_type": "code",
   "execution_count": 9,
   "metadata": {},
   "outputs": [
    {
     "data": {
      "text/html": [
       "<div>\n",
       "<style scoped>\n",
       "    .dataframe tbody tr th:only-of-type {\n",
       "        vertical-align: middle;\n",
       "    }\n",
       "\n",
       "    .dataframe tbody tr th {\n",
       "        vertical-align: top;\n",
       "    }\n",
       "\n",
       "    .dataframe thead th {\n",
       "        text-align: right;\n",
       "    }\n",
       "</style>\n",
       "<table border=\"1\" class=\"dataframe\">\n",
       "  <thead>\n",
       "    <tr style=\"text-align: right;\">\n",
       "      <th></th>\n",
       "      <th>sold_to_name</th>\n",
       "      <th>last_purchase_date</th>\n",
       "      <th>recency</th>\n",
       "    </tr>\n",
       "  </thead>\n",
       "  <tbody>\n",
       "    <tr>\n",
       "      <th>0</th>\n",
       "      <td>17th &amp; Balboa Market</td>\n",
       "      <td>2017-02-01</td>\n",
       "      <td>58.8</td>\n",
       "    </tr>\n",
       "    <tr>\n",
       "      <th>1</th>\n",
       "      <td>17th &amp; Cole Market</td>\n",
       "      <td>2021-07-01</td>\n",
       "      <td>5.1</td>\n",
       "    </tr>\n",
       "  </tbody>\n",
       "</table>\n",
       "</div>"
      ],
      "text/plain": [
       "           sold_to_name last_purchase_date  recency\n",
       "0  17th & Balboa Market         2017-02-01     58.8\n",
       "1    17th & Cole Market         2021-07-01      5.1"
      ]
     },
     "execution_count": 9,
     "metadata": {},
     "output_type": "execute_result"
    }
   ],
   "source": [
    "# groupby stores and get the max date (most recent)\n",
    "stores_recency = stores.groupby(['sold_to_name'], as_index=False)['date'].max()\n",
    "stores_recency.columns = ['sold_to_name', 'last_purchase_date']\n",
    "\n",
    "# create recency column\n",
    "# subtract the last purchase date from the last date in the dataset\n",
    "# this gives you the days since last purchase. Divide by 30 to convert to months\n",
    "stores_recency['recency'] = stores_recency['last_purchase_date'].apply(lambda x: ((last_date - x).days)/30)\n",
    "\n",
    "stores_recency.head(2)"
   ]
  },
  {
   "cell_type": "markdown",
   "metadata": {},
   "source": [
    "## Frequency and Monetary"
   ]
  },
  {
   "cell_type": "code",
   "execution_count": 10,
   "metadata": {},
   "outputs": [
    {
     "data": {
      "text/html": [
       "<div>\n",
       "<style scoped>\n",
       "    .dataframe tbody tr th:only-of-type {\n",
       "        vertical-align: middle;\n",
       "    }\n",
       "\n",
       "    .dataframe tbody tr th {\n",
       "        vertical-align: top;\n",
       "    }\n",
       "\n",
       "    .dataframe thead th {\n",
       "        text-align: right;\n",
       "    }\n",
       "</style>\n",
       "<table border=\"1\" class=\"dataframe\">\n",
       "  <thead>\n",
       "    <tr style=\"text-align: right;\">\n",
       "      <th></th>\n",
       "      <th>frequency</th>\n",
       "      <th>monetary</th>\n",
       "    </tr>\n",
       "    <tr>\n",
       "      <th>sold_to_name</th>\n",
       "      <th></th>\n",
       "      <th></th>\n",
       "    </tr>\n",
       "  </thead>\n",
       "  <tbody>\n",
       "    <tr>\n",
       "      <th>17th &amp; Balboa Market</th>\n",
       "      <td>1</td>\n",
       "      <td>74.87</td>\n",
       "    </tr>\n",
       "    <tr>\n",
       "      <th>17th &amp; Cole Market</th>\n",
       "      <td>44</td>\n",
       "      <td>2997.60</td>\n",
       "    </tr>\n",
       "  </tbody>\n",
       "</table>\n",
       "</div>"
      ],
      "text/plain": [
       "                      frequency  monetary\n",
       "sold_to_name                             \n",
       "17th & Balboa Market          1     74.87\n",
       "17th & Cole Market           44   2997.60"
      ]
     },
     "execution_count": 10,
     "metadata": {},
     "output_type": "execute_result"
    }
   ],
   "source": [
    "# group by store\n",
    "fm_table = stores.groupby(['sold_to_name']).agg(\n",
    "    {'sold_to_name': lambda x: len(x),                  # get the length of the how many time the store name shows up (frequency)\n",
    "    'gross_profit': lambda x: sum(x)}                   # the sum of all profits (monetary)\n",
    ")\n",
    "\n",
    "# rename columns\n",
    "fm_table.rename(columns={'sold_to_name': 'frequency', 'gross_profit': 'monetary'}, inplace=True)\n",
    "\n",
    "fm_table.head(2)"
   ]
  },
  {
   "cell_type": "code",
   "execution_count": 11,
   "metadata": {},
   "outputs": [
    {
     "data": {
      "text/html": [
       "<div>\n",
       "<style scoped>\n",
       "    .dataframe tbody tr th:only-of-type {\n",
       "        vertical-align: middle;\n",
       "    }\n",
       "\n",
       "    .dataframe tbody tr th {\n",
       "        vertical-align: top;\n",
       "    }\n",
       "\n",
       "    .dataframe thead th {\n",
       "        text-align: right;\n",
       "    }\n",
       "</style>\n",
       "<table border=\"1\" class=\"dataframe\">\n",
       "  <thead>\n",
       "    <tr style=\"text-align: right;\">\n",
       "      <th></th>\n",
       "      <th>sold_to_name</th>\n",
       "      <th>recency</th>\n",
       "      <th>frequency</th>\n",
       "      <th>monetary</th>\n",
       "    </tr>\n",
       "  </thead>\n",
       "  <tbody>\n",
       "    <tr>\n",
       "      <th>0</th>\n",
       "      <td>17th &amp; Balboa Market</td>\n",
       "      <td>58.8</td>\n",
       "      <td>1</td>\n",
       "      <td>74.87</td>\n",
       "    </tr>\n",
       "    <tr>\n",
       "      <th>1</th>\n",
       "      <td>17th &amp; Cole Market</td>\n",
       "      <td>5.1</td>\n",
       "      <td>44</td>\n",
       "      <td>2997.60</td>\n",
       "    </tr>\n",
       "    <tr>\n",
       "      <th>2</th>\n",
       "      <td>25th &amp; Clement Produce</td>\n",
       "      <td>0.0</td>\n",
       "      <td>58</td>\n",
       "      <td>12919.35</td>\n",
       "    </tr>\n",
       "    <tr>\n",
       "      <th>3</th>\n",
       "      <td>300 Church St. Market</td>\n",
       "      <td>0.0</td>\n",
       "      <td>60</td>\n",
       "      <td>13191.46</td>\n",
       "    </tr>\n",
       "    <tr>\n",
       "      <th>4</th>\n",
       "      <td>3rd Ave Food Market</td>\n",
       "      <td>53.8</td>\n",
       "      <td>5</td>\n",
       "      <td>753.99</td>\n",
       "    </tr>\n",
       "  </tbody>\n",
       "</table>\n",
       "</div>"
      ],
      "text/plain": [
       "             sold_to_name  recency  frequency  monetary\n",
       "0    17th & Balboa Market     58.8          1     74.87\n",
       "1      17th & Cole Market      5.1         44   2997.60\n",
       "2  25th & Clement Produce      0.0         58  12919.35\n",
       "3   300 Church St. Market      0.0         60  13191.46\n",
       "4     3rd Ave Food Market     53.8          5    753.99"
      ]
     },
     "execution_count": 11,
     "metadata": {},
     "output_type": "execute_result"
    }
   ],
   "source": [
    "# combine recency with frequency and monetary\n",
    "rfm_table = stores_recency.merge(fm_table, left_on='sold_to_name', right_on='sold_to_name')\n",
    "rfm_table.drop(columns='last_purchase_date', inplace=True)\n",
    "\n",
    "rfm_table.head()"
   ]
  },
  {
   "cell_type": "code",
   "execution_count": 12,
   "metadata": {},
   "outputs": [],
   "source": [
    "# get the quantiles for recency, frequency, and monetary\n",
    "quantiles = rfm_table.quantile(q=[0.25, 0.50, 0.75])\n",
    "quantiles = quantiles.to_dict()"
   ]
  },
  {
   "cell_type": "code",
   "execution_count": 13,
   "metadata": {},
   "outputs": [],
   "source": [
    "# this function calculates the recency scores\n",
    "# assigns values 1-4 based on what quartile the scores fall in\n",
    "def r_score(x, p, d):\n",
    "    if x <= d[p][0.25]:\n",
    "        return 1\n",
    "    elif x <= d[p][0.50]:\n",
    "        return 2\n",
    "    elif x <= d[p][0.75]:\n",
    "        return 3\n",
    "    else:\n",
    "        return 4\n",
    "\n",
    "# this function calculates the frequency and monetary scores\n",
    "# assigns values 1-4 based on what quartile the scores fall in\n",
    "def fm_score(x, p, d):\n",
    "    if x <= d[p][0.25]:\n",
    "        return 4\n",
    "    elif x <= d[p][0.50]:\n",
    "        return 3\n",
    "    elif x <= d[p][0.75]:\n",
    "        return 2\n",
    "    else:\n",
    "        return 1"
   ]
  },
  {
   "cell_type": "code",
   "execution_count": 14,
   "metadata": {},
   "outputs": [
    {
     "data": {
      "text/html": [
       "<div>\n",
       "<style scoped>\n",
       "    .dataframe tbody tr th:only-of-type {\n",
       "        vertical-align: middle;\n",
       "    }\n",
       "\n",
       "    .dataframe tbody tr th {\n",
       "        vertical-align: top;\n",
       "    }\n",
       "\n",
       "    .dataframe thead th {\n",
       "        text-align: right;\n",
       "    }\n",
       "</style>\n",
       "<table border=\"1\" class=\"dataframe\">\n",
       "  <thead>\n",
       "    <tr style=\"text-align: right;\">\n",
       "      <th></th>\n",
       "      <th>sold_to_name</th>\n",
       "      <th>recency</th>\n",
       "      <th>frequency</th>\n",
       "      <th>monetary</th>\n",
       "      <th>r_quartile</th>\n",
       "      <th>f_quartile</th>\n",
       "      <th>m_quartile</th>\n",
       "    </tr>\n",
       "  </thead>\n",
       "  <tbody>\n",
       "    <tr>\n",
       "      <th>0</th>\n",
       "      <td>17th &amp; Balboa Market</td>\n",
       "      <td>58.8</td>\n",
       "      <td>1</td>\n",
       "      <td>74.87</td>\n",
       "      <td>4</td>\n",
       "      <td>4</td>\n",
       "      <td>4</td>\n",
       "    </tr>\n",
       "    <tr>\n",
       "      <th>1</th>\n",
       "      <td>17th &amp; Cole Market</td>\n",
       "      <td>5.1</td>\n",
       "      <td>44</td>\n",
       "      <td>2997.60</td>\n",
       "      <td>3</td>\n",
       "      <td>2</td>\n",
       "      <td>3</td>\n",
       "    </tr>\n",
       "  </tbody>\n",
       "</table>\n",
       "</div>"
      ],
      "text/plain": [
       "           sold_to_name  recency  frequency  monetary  r_quartile  f_quartile  \\\n",
       "0  17th & Balboa Market     58.8          1     74.87           4           4   \n",
       "1    17th & Cole Market      5.1         44   2997.60           3           2   \n",
       "\n",
       "   m_quartile  \n",
       "0           4  \n",
       "1           3  "
      ]
     },
     "execution_count": 14,
     "metadata": {},
     "output_type": "execute_result"
    }
   ],
   "source": [
    "# create a copy of the table to add quartiles\n",
    "segmented_rfm = rfm_table.copy()\n",
    "\n",
    "# create quartile columns for recency, frequency, and monetary\n",
    "# apply the functions to each score to get the value\n",
    "segmented_rfm['r_quartile'] = segmented_rfm['recency'].apply(r_score, args=('recency', quantiles))\n",
    "segmented_rfm['f_quartile'] = segmented_rfm['frequency'].apply(fm_score, args=('frequency', quantiles))\n",
    "segmented_rfm['m_quartile'] = segmented_rfm['monetary'].apply(fm_score, args=('monetary', quantiles))\n",
    "\n",
    "segmented_rfm.head(2)"
   ]
  },
  {
   "cell_type": "code",
   "execution_count": 15,
   "metadata": {},
   "outputs": [
    {
     "data": {
      "text/html": [
       "<div>\n",
       "<style scoped>\n",
       "    .dataframe tbody tr th:only-of-type {\n",
       "        vertical-align: middle;\n",
       "    }\n",
       "\n",
       "    .dataframe tbody tr th {\n",
       "        vertical-align: top;\n",
       "    }\n",
       "\n",
       "    .dataframe thead th {\n",
       "        text-align: right;\n",
       "    }\n",
       "</style>\n",
       "<table border=\"1\" class=\"dataframe\">\n",
       "  <thead>\n",
       "    <tr style=\"text-align: right;\">\n",
       "      <th></th>\n",
       "      <th>sold_to_name</th>\n",
       "      <th>recency</th>\n",
       "      <th>frequency</th>\n",
       "      <th>monetary</th>\n",
       "      <th>r_quartile</th>\n",
       "      <th>f_quartile</th>\n",
       "      <th>m_quartile</th>\n",
       "      <th>rfm_segment</th>\n",
       "      <th>rfm_score</th>\n",
       "    </tr>\n",
       "  </thead>\n",
       "  <tbody>\n",
       "    <tr>\n",
       "      <th>0</th>\n",
       "      <td>17th &amp; Balboa Market</td>\n",
       "      <td>58.8</td>\n",
       "      <td>1</td>\n",
       "      <td>74.87</td>\n",
       "      <td>4</td>\n",
       "      <td>4</td>\n",
       "      <td>4</td>\n",
       "      <td>444</td>\n",
       "      <td>12</td>\n",
       "    </tr>\n",
       "    <tr>\n",
       "      <th>1</th>\n",
       "      <td>17th &amp; Cole Market</td>\n",
       "      <td>5.1</td>\n",
       "      <td>44</td>\n",
       "      <td>2997.60</td>\n",
       "      <td>3</td>\n",
       "      <td>2</td>\n",
       "      <td>3</td>\n",
       "      <td>323</td>\n",
       "      <td>8</td>\n",
       "    </tr>\n",
       "    <tr>\n",
       "      <th>2</th>\n",
       "      <td>25th &amp; Clement Produce</td>\n",
       "      <td>0.0</td>\n",
       "      <td>58</td>\n",
       "      <td>12919.35</td>\n",
       "      <td>1</td>\n",
       "      <td>2</td>\n",
       "      <td>2</td>\n",
       "      <td>122</td>\n",
       "      <td>5</td>\n",
       "    </tr>\n",
       "    <tr>\n",
       "      <th>3</th>\n",
       "      <td>300 Church St. Market</td>\n",
       "      <td>0.0</td>\n",
       "      <td>60</td>\n",
       "      <td>13191.46</td>\n",
       "      <td>1</td>\n",
       "      <td>2</td>\n",
       "      <td>2</td>\n",
       "      <td>122</td>\n",
       "      <td>5</td>\n",
       "    </tr>\n",
       "    <tr>\n",
       "      <th>4</th>\n",
       "      <td>3rd Ave Food Market</td>\n",
       "      <td>53.8</td>\n",
       "      <td>5</td>\n",
       "      <td>753.99</td>\n",
       "      <td>4</td>\n",
       "      <td>4</td>\n",
       "      <td>3</td>\n",
       "      <td>443</td>\n",
       "      <td>11</td>\n",
       "    </tr>\n",
       "  </tbody>\n",
       "</table>\n",
       "</div>"
      ],
      "text/plain": [
       "             sold_to_name  recency  frequency  monetary  r_quartile  \\\n",
       "0    17th & Balboa Market     58.8          1     74.87           4   \n",
       "1      17th & Cole Market      5.1         44   2997.60           3   \n",
       "2  25th & Clement Produce      0.0         58  12919.35           1   \n",
       "3   300 Church St. Market      0.0         60  13191.46           1   \n",
       "4     3rd Ave Food Market     53.8          5    753.99           4   \n",
       "\n",
       "   f_quartile  m_quartile rfm_segment  rfm_score  \n",
       "0           4           4         444         12  \n",
       "1           2           3         323          8  \n",
       "2           2           2         122          5  \n",
       "3           2           2         122          5  \n",
       "4           4           3         443         11  "
      ]
     },
     "execution_count": 15,
     "metadata": {},
     "output_type": "execute_result"
    }
   ],
   "source": [
    "# convert the values from each quartile into strings and concatenate\n",
    "segmented_rfm['rfm_segment'] = segmented_rfm['r_quartile'].map(str) + segmented_rfm['f_quartile'].map(str) + segmented_rfm['m_quartile'].map(str)\n",
    "\n",
    "# get the sum of recency, frequency, and monetary values\n",
    "segmented_rfm['rfm_score'] = segmented_rfm[['r_quartile', 'f_quartile', 'm_quartile']].sum(axis=1)\n",
    "\n",
    "segmented_rfm.head()"
   ]
  },
  {
   "cell_type": "markdown",
   "metadata": {},
   "source": [
    "# K-means"
   ]
  },
  {
   "cell_type": "markdown",
   "metadata": {},
   "source": [
    "In this section I will use K-means to cluster the stores based on the RFM segmentation."
   ]
  },
  {
   "cell_type": "code",
   "execution_count": 16,
   "metadata": {},
   "outputs": [
    {
     "data": {
      "text/html": [
       "<div>\n",
       "<style scoped>\n",
       "    .dataframe tbody tr th:only-of-type {\n",
       "        vertical-align: middle;\n",
       "    }\n",
       "\n",
       "    .dataframe tbody tr th {\n",
       "        vertical-align: top;\n",
       "    }\n",
       "\n",
       "    .dataframe thead th {\n",
       "        text-align: right;\n",
       "    }\n",
       "</style>\n",
       "<table border=\"1\" class=\"dataframe\">\n",
       "  <thead>\n",
       "    <tr style=\"text-align: right;\">\n",
       "      <th></th>\n",
       "      <th>sold_to_name</th>\n",
       "      <th>recency</th>\n",
       "      <th>frequency</th>\n",
       "      <th>monetary</th>\n",
       "    </tr>\n",
       "  </thead>\n",
       "  <tbody>\n",
       "    <tr>\n",
       "      <th>0</th>\n",
       "      <td>17th &amp; Balboa Market</td>\n",
       "      <td>58.8</td>\n",
       "      <td>1</td>\n",
       "      <td>4.315753</td>\n",
       "    </tr>\n",
       "    <tr>\n",
       "      <th>1</th>\n",
       "      <td>17th &amp; Cole Market</td>\n",
       "      <td>5.1</td>\n",
       "      <td>44</td>\n",
       "      <td>8.005567</td>\n",
       "    </tr>\n",
       "  </tbody>\n",
       "</table>\n",
       "</div>"
      ],
      "text/plain": [
       "           sold_to_name  recency  frequency  monetary\n",
       "0  17th & Balboa Market     58.8          1  4.315753\n",
       "1    17th & Cole Market      5.1         44  8.005567"
      ]
     },
     "execution_count": 16,
     "metadata": {},
     "output_type": "execute_result"
    }
   ],
   "source": [
    "# create a copy of the table and log the monetary column\n",
    "# this creates a normal distribution which will give better results when using K-means\n",
    "rfm_table_log = rfm_table.copy()\n",
    "rfm_table_log['monetary'] = np.log(rfm_table_log['monetary'])\n",
    "\n",
    "rfm_table_log.head(2)"
   ]
  },
  {
   "cell_type": "code",
   "execution_count": 17,
   "metadata": {},
   "outputs": [],
   "source": [
    "# create a dataframe with just the scores\n",
    "rfm_scores = rfm_table_log.drop(columns='sold_to_name')"
   ]
  },
  {
   "cell_type": "code",
   "execution_count": 18,
   "metadata": {},
   "outputs": [],
   "source": [
    "# instantiate StandardScaler, fit and transform rfm_scores\n",
    "sc = StandardScaler()\n",
    "rfm_scores_scaled = sc.fit_transform(rfm_scores)"
   ]
  },
  {
   "cell_type": "code",
   "execution_count": 19,
   "metadata": {},
   "outputs": [
    {
     "name": "stderr",
     "output_type": "stream",
     "text": [
      "C:\\ProgramData\\Anaconda3\\lib\\site-packages\\sklearn\\cluster\\_kmeans.py:1036: UserWarning: KMeans is known to have a memory leak on Windows with MKL, when there are less chunks than available threads. You can avoid it by setting the environment variable OMP_NUM_THREADS=2.\n",
      "  warnings.warn(\n"
     ]
    },
    {
     "data": {
      "text/plain": [
       "[1197.0000000000002, 326.7400405788324]"
      ]
     },
     "execution_count": 19,
     "metadata": {},
     "output_type": "execute_result"
    }
   ],
   "source": [
    "# create an inertia list to find the optimal number of clusters\n",
    "inertia_list = []\n",
    "\n",
    "for k in range(1,51):\n",
    "    kmeans = KMeans(n_clusters=k, max_iter=10_000, random_state=12)\n",
    "    kmeans.fit(rfm_scores_scaled)\n",
    "    inertia_list.append(kmeans.inertia_)\n",
    "\n",
    "inertia_list[:2]"
   ]
  },
  {
   "cell_type": "code",
   "execution_count": 20,
   "metadata": {},
   "outputs": [
    {
     "data": {
      "image/png": "[encoded data removed]",
      "text/plain": [
       "<Figure size 432x288 with 1 Axes>"
      ]
     },
     "metadata": {
      "needs_background": "light"
     },
     "output_type": "display_data"
    }
   ],
   "source": [
    "plt.plot(range(1,11), inertia_list[:10], marker='o')\n",
    "plt.xlabel('# of Clusters')\n",
    "plt.ylabel('Score')\n",
    "plt.title('Inertia Scores for Store Clusters');\n",
    "\n",
    "# used the elbow method to find the optimal amount of clusters\n",
    "# from this plot, the best amount of clusters seem to be 3 or 4"
   ]
  },
  {
   "cell_type": "code",
   "execution_count": 21,
   "metadata": {},
   "outputs": [
    {
     "data": {
      "text/plain": [
       "[0.6264957792299395, 0.5536192278697717]"
      ]
     },
     "execution_count": 21,
     "metadata": {},
     "output_type": "execute_result"
    }
   ],
   "source": [
    "# create a silhouette list to find the optimal amount of clusters\n",
    "silhouette_list = []\n",
    "\n",
    "for k in range(2,51):\n",
    "    kmeans = KMeans(n_clusters=k, random_state=12)\n",
    "    kmeans.fit(rfm_scores_scaled)\n",
    "    silhouette_list.append(silhouette_score(rfm_scores_scaled, kmeans.labels_))\n",
    "\n",
    "silhouette_list[:2]"
   ]
  },
  {
   "cell_type": "code",
   "execution_count": 22,
   "metadata": {},
   "outputs": [
    {
     "data": {
      "image/png": "[encoded data removed]",
      "text/plain": [
       "<Figure size 432x288 with 1 Axes>"
      ]
     },
     "metadata": {
      "needs_background": "light"
     },
     "output_type": "display_data"
    }
   ],
   "source": [
    "plt.plot(range(2,12), silhouette_list[:10], marker='o')\n",
    "plt.xlabel('# of Clusters')\n",
    "plt.ylabel('Score')\n",
    "plt.title('Silhouette Scores for Store Clusters');\n",
    "\n",
    "# used the elbow method to find the optimal amount of clusters\n",
    "# from this plot, the best amount of clusters seem to be 3"
   ]
  },
  {
   "cell_type": "markdown",
   "metadata": {},
   "source": [
    "3 or 4 clusters seem to be the best. I will now test both."
   ]
  },
  {
   "cell_type": "code",
   "execution_count": 23,
   "metadata": {},
   "outputs": [
    {
     "data": {
      "text/plain": [
       "KMeans(max_iter=10000, n_clusters=3, random_state=12)"
      ]
     },
     "execution_count": 23,
     "metadata": {},
     "output_type": "execute_result"
    }
   ],
   "source": [
    "kmeans3 = KMeans(n_clusters=3, max_iter=10_000, random_state=12)\n",
    "kmeans3.fit(rfm_scores_scaled)"
   ]
  },
  {
   "cell_type": "code",
   "execution_count": 24,
   "metadata": {},
   "outputs": [
    {
     "data": {
      "text/plain": [
       "KMeans(max_iter=10000, n_clusters=4, random_state=12)"
      ]
     },
     "execution_count": 24,
     "metadata": {},
     "output_type": "execute_result"
    }
   ],
   "source": [
    "kmeans4 = KMeans(n_clusters=4, max_iter=10_000, random_state=12)\n",
    "kmeans4.fit(rfm_scores_scaled)"
   ]
  },
  {
   "cell_type": "code",
   "execution_count": 25,
   "metadata": {},
   "outputs": [],
   "source": [
    "rfm_table_log['labels3'] = kmeans3.labels_\n",
    "rfm_table_log['labels4'] = kmeans4.labels_"
   ]
  },
  {
   "cell_type": "code",
   "execution_count": 26,
   "metadata": {},
   "outputs": [
    {
     "data": {
      "text/html": [
       "<div>\n",
       "<style scoped>\n",
       "    .dataframe tbody tr th:only-of-type {\n",
       "        vertical-align: middle;\n",
       "    }\n",
       "\n",
       "    .dataframe tbody tr th {\n",
       "        vertical-align: top;\n",
       "    }\n",
       "\n",
       "    .dataframe thead th {\n",
       "        text-align: right;\n",
       "    }\n",
       "</style>\n",
       "<table border=\"1\" class=\"dataframe\">\n",
       "  <thead>\n",
       "    <tr style=\"text-align: right;\">\n",
       "      <th></th>\n",
       "      <th>sold_to_name</th>\n",
       "      <th>recency</th>\n",
       "      <th>frequency</th>\n",
       "      <th>monetary</th>\n",
       "      <th>r_quartile</th>\n",
       "      <th>f_quartile</th>\n",
       "      <th>m_quartile</th>\n",
       "      <th>rfm_segment</th>\n",
       "      <th>rfm_score</th>\n",
       "      <th>labels3</th>\n",
       "    </tr>\n",
       "  </thead>\n",
       "  <tbody>\n",
       "    <tr>\n",
       "      <th>0</th>\n",
       "      <td>17th &amp; Balboa Market</td>\n",
       "      <td>58.8</td>\n",
       "      <td>1</td>\n",
       "      <td>74.87</td>\n",
       "      <td>4</td>\n",
       "      <td>4</td>\n",
       "      <td>4</td>\n",
       "      <td>444</td>\n",
       "      <td>12</td>\n",
       "      <td>2</td>\n",
       "    </tr>\n",
       "    <tr>\n",
       "      <th>1</th>\n",
       "      <td>17th &amp; Cole Market</td>\n",
       "      <td>5.1</td>\n",
       "      <td>44</td>\n",
       "      <td>2997.60</td>\n",
       "      <td>3</td>\n",
       "      <td>2</td>\n",
       "      <td>3</td>\n",
       "      <td>323</td>\n",
       "      <td>8</td>\n",
       "      <td>0</td>\n",
       "    </tr>\n",
       "    <tr>\n",
       "      <th>2</th>\n",
       "      <td>25th &amp; Clement Produce</td>\n",
       "      <td>0.0</td>\n",
       "      <td>58</td>\n",
       "      <td>12919.35</td>\n",
       "      <td>1</td>\n",
       "      <td>2</td>\n",
       "      <td>2</td>\n",
       "      <td>122</td>\n",
       "      <td>5</td>\n",
       "      <td>0</td>\n",
       "    </tr>\n",
       "    <tr>\n",
       "      <th>3</th>\n",
       "      <td>300 Church St. Market</td>\n",
       "      <td>0.0</td>\n",
       "      <td>60</td>\n",
       "      <td>13191.46</td>\n",
       "      <td>1</td>\n",
       "      <td>2</td>\n",
       "      <td>2</td>\n",
       "      <td>122</td>\n",
       "      <td>5</td>\n",
       "      <td>0</td>\n",
       "    </tr>\n",
       "    <tr>\n",
       "      <th>4</th>\n",
       "      <td>3rd Ave Food Market</td>\n",
       "      <td>53.8</td>\n",
       "      <td>5</td>\n",
       "      <td>753.99</td>\n",
       "      <td>4</td>\n",
       "      <td>4</td>\n",
       "      <td>3</td>\n",
       "      <td>443</td>\n",
       "      <td>11</td>\n",
       "      <td>2</td>\n",
       "    </tr>\n",
       "  </tbody>\n",
       "</table>\n",
       "</div>"
      ],
      "text/plain": [
       "             sold_to_name  recency  frequency  monetary  r_quartile  \\\n",
       "0    17th & Balboa Market     58.8          1     74.87           4   \n",
       "1      17th & Cole Market      5.1         44   2997.60           3   \n",
       "2  25th & Clement Produce      0.0         58  12919.35           1   \n",
       "3   300 Church St. Market      0.0         60  13191.46           1   \n",
       "4     3rd Ave Food Market     53.8          5    753.99           4   \n",
       "\n",
       "   f_quartile  m_quartile rfm_segment  rfm_score  labels3  \n",
       "0           4           4         444         12        2  \n",
       "1           2           3         323          8        0  \n",
       "2           2           2         122          5        0  \n",
       "3           2           2         122          5        0  \n",
       "4           4           3         443         11        2  "
      ]
     },
     "execution_count": 26,
     "metadata": {},
     "output_type": "execute_result"
    }
   ],
   "source": [
    "segmented_rfm['labels3'] = kmeans3.labels_\n",
    "segmented_rfm.head()"
   ]
  },
  {
   "cell_type": "code",
   "execution_count": 27,
   "metadata": {},
   "outputs": [],
   "source": [
    "segmented_rfm.to_csv('../data/clean_data/stores_segmented.csv', compression='zip', index=False)"
   ]
  },
  {
   "cell_type": "code",
   "execution_count": 28,
   "metadata": {},
   "outputs": [
    {
     "data": {
      "image/png": "[encoded data removed]",
      "text/plain": [
       "<Figure size 583.875x540 with 9 Axes>"
      ]
     },
     "metadata": {
      "needs_background": "light"
     },
     "output_type": "display_data"
    }
   ],
   "source": [
    "sns.pairplot(\n",
    "    rfm_table_log.drop(columns=['labels4']), \n",
    "    hue='labels3', \n",
    "    corner=True, \n",
    "    palette='colorblind'\n",
    ");"
   ]
  },
  {
   "cell_type": "markdown",
   "metadata": {},
   "source": [
    "Three clusters seems to separate the data very well. I'll try 4 next and compare."
   ]
  },
  {
   "cell_type": "code",
   "execution_count": 29,
   "metadata": {},
   "outputs": [
    {
     "data": {
      "image/png": "[encoded data removed]",
      "text/plain": [
       "<Figure size 583.875x540 with 9 Axes>"
      ]
     },
     "metadata": {
      "needs_background": "light"
     },
     "output_type": "display_data"
    }
   ],
   "source": [
    "sns.pairplot(\n",
    "    rfm_table_log.drop(columns=['labels3']), \n",
    "    hue='labels4', \n",
    "    corner=True, \n",
    "    palette='colorblind'\n",
    ");"
   ]
  },
  {
   "cell_type": "markdown",
   "metadata": {},
   "source": [
    "4 clusters split the data fairly well. I will plot in 3d to try and get a better idea of what's going on."
   ]
  },
  {
   "cell_type": "code",
   "execution_count": 30,
   "metadata": {},
   "outputs": [],
   "source": [
    "rfm_table_log['labels3'] = rfm_table_log['labels3'].map({0: 'Best Stores', 1: 'Average Stores', 2: 'Worst Stores'})"
   ]
  },
  {
   "cell_type": "code",
   "execution_count": 49,
   "metadata": {},
   "outputs": [
    {
     "data": {
      "application/vnd.plotly.v1+json": {
       "config": {
        "plotlyServerURL": "https://plot.ly"
       },
       "data": [
        {
         "hovertemplate": "labels3=Worst Stores<br>recency=%{x}<br>frequency=%{y}<br>monetary=%{z}<extra></extra>",
         "legendgroup": "Worst Stores",
         "marker": {
          "color": "#636efa",
          "line": {
           "color": "DarkSlateGrey",
           "width": 2
          },
          "size": 8,
          "symbol": "circle"
         },
         "mode": "markers",
         "name": "Worst Stores",
         "scene": "scene",
         "showlegend": true,
         "type": "scatter3d",
         "x": [
          58.8,
          53.8,
          58.8,
          19.3,
          44.666666666666664,
          50.733333333333334,
          59.833333333333336,
          59.833333333333336,
          59.833333333333336,
          34.46666666666667,
          37.53333333333333,
          28.433333333333334,
          57.86666666666667,
          57.86666666666667,
          42.63333333333333,
          28.433333333333334,
          33.53333333333333,
          24.366666666666667,
          49.7,
          33.53333333333333,
          58.8,
          43.666666666666664,
          58.8,
          52.766666666666666,
          52.766666666666666,
          57.86666666666667,
          54.8,
          57.86666666666667,
          58.8,
          50.733333333333334,
          42.63333333333333,
          53.8,
          59.833333333333336,
          25.366666666666667,
          49.7,
          57.86666666666667,
          59.833333333333336,
          41.63333333333333,
          58.8,
          48.7,
          31.5,
          54.8,
          39.56666666666667,
          59.833333333333336,
          58.8,
          19.3,
          58.8,
          52.766666666666666,
          55.833333333333336,
          57.86666666666667,
          50.733333333333334,
          38.56666666666667,
          48.7,
          55.833333333333336,
          57.86666666666667,
          58.8,
          54.8,
          57.86666666666667,
          52.766666666666666,
          59.833333333333336,
          59.833333333333336,
          44.666666666666664,
          49.7,
          58.8,
          46.63333333333333,
          38.56666666666667,
          43.666666666666664,
          57.86666666666667,
          40.6,
          42.63333333333333,
          53.8,
          58.8,
          57.86666666666667,
          57.86666666666667,
          57.86666666666667,
          57.86666666666667,
          18.266666666666666,
          57.86666666666667,
          59.833333333333336,
          59.833333333333336,
          57.86666666666667,
          54.8,
          57.86666666666667,
          56.833333333333336,
          43.666666666666664,
          33.53333333333333,
          57.86666666666667,
          46.63333333333333,
          53.8,
          48.7,
          50.733333333333334,
          54.8,
          58.8,
          53.8,
          59.833333333333336,
          57.86666666666667,
          49.7,
          56.833333333333336,
          57.86666666666667,
          57.86666666666667,
          57.86666666666667,
          57.86666666666667,
          57.86666666666667,
          29.466666666666665,
          47.666666666666664,
          43.666666666666664,
          48.7,
          55.833333333333336
         ],
         "y": [
          1,
          5,
          2,
          1,
          9,
          8,
          1,
          1,
          1,
          1,
          1,
          1,
          3,
          3,
          12,
          5,
          10,
          1,
          1,
          1,
          1,
          13,
          2,
          8,
          1,
          3,
          3,
          2,
          2,
          4,
          3,
          5,
          1,
          1,
          2,
          3,
          1,
          1,
          2,
          6,
          3,
          3,
          1,
          1,
          2,
          1,
          1,
          8,
          1,
          1,
          10,
          8,
          5,
          3,
          2,
          2,
          3,
          3,
          4,
          1,
          1,
          3,
          3,
          2,
          1,
          4,
          3,
          1,
          8,
          6,
          3,
          1,
          3,
          3,
          3,
          3,
          5,
          3,
          1,
          1,
          3,
          5,
          3,
          2,
          3,
          2,
          3,
          11,
          4,
          7,
          4,
          4,
          1,
          5,
          1,
          1,
          10,
          2,
          3,
          3,
          3,
          3,
          3,
          7,
          1,
          1,
          1,
          1
         ],
         "z": [
          4.315753276242594,
          6.625379105320538,
          5.364385966517742,
          4.352700805292053,
          6.344495359256614,
          6.325003915644557,
          5.675904126327402,
          4.404766121643371,
          4.873180022642352,
          4.917422912374077,
          4.092342559551428,
          3.8605191625610304,
          5.82087193651254,
          5.409465103887467,
          6.076770303687082,
          5.506753288989972,
          6.436967342247677,
          3.1780538303479458,
          3.1372318358276905,
          4.016022595446631,
          4.142340760490356,
          6.6151142646103445,
          4.935480620495495,
          6.300308616611721,
          4.873210618184584,
          5.091170188318427,
          5.094608727872434,
          4.728449202148263,
          4.704743990884184,
          5.179421211604181,
          5.952619763284415,
          6.84772922798644,
          4.994302639475358,
          3.905602437625223,
          4.841743157613962,
          4.987230185649934,
          3.3985271531062766,
          4.196449785159254,
          5.121639852139167,
          6.166614616816913,
          6.009427247482154,
          5.468903667123571,
          4.231203744939298,
          4.230622180514648,
          4.903421209789107,
          3.4134552790576573,
          4.182050142641207,
          8.62487022188061,
          1.9774088161146843,
          3.1547852034085913,
          8.450677249804178,
          7.139462060956835,
          6.0213873607592365,
          5.504721593857949,
          4.918520005188451,
          5.081776966367399,
          5.5659752871688895,
          4.90186155259746,
          5.46518681878307,
          4.780467127845082,
          3.8848573373553763,
          4.69866052907543,
          8.020862013800699,
          6.655144296251942,
          3.5613301331669613,
          4.876417951976448,
          5.31704098054614,
          2.747270914255491,
          6.303717273493968,
          5.8030544929734695,
          5.488607092991169,
          4.036362279683754,
          5.39308194299246,
          6.712239054160048,
          8.265129453901844,
          7.12365989229313,
          4.080245637842599,
          8.413079009872394,
          7.082907866681057,
          4.259519960181085,
          7.851240077565817,
          5.045294336581097,
          7.6484222933739625,
          4.651481088851342,
          5.586274401194249,
          4.293332023658551,
          5.008432870541055,
          6.15256246745031,
          7.274972853577397,
          7.465002549908637,
          5.862806972399573,
          5.6680516647004024,
          5.19578617790037,
          5.3500080819533915,
          4.29510616264318,
          6.580555916069039,
          6.611852845083501,
          3.942358205224219,
          5.890350557736475,
          5.389354794772666,
          5.866303737484587,
          5.904647696651385,
          5.345935415487291,
          4.8238236720294365,
          2.341805806147327,
          2.9734866646066713,
          3.08922261664133,
          4.00587758089977
         ]
        },
        {
         "hovertemplate": "labels3=Best Stores<br>recency=%{x}<br>frequency=%{y}<br>monetary=%{z}<extra></extra>",
         "legendgroup": "Best Stores",
         "marker": {
          "color": "#EF553B",
          "line": {
           "color": "DarkSlateGrey",
           "width": 2
          },
          "size": 8,
          "symbol": "circle"
         },
         "mode": "markers",
         "name": "Best Stores",
         "scene": "scene",
         "showlegend": true,
         "type": "scatter3d",
         "x": [
          5.1,
          0,
          0,
          1,
          0,
          0,
          0,
          0,
          0,
          0,
          0,
          0,
          0,
          0,
          0,
          0,
          0,
          0,
          0,
          0,
          0,
          0,
          1,
          4.066666666666666,
          0,
          3.033333333333333,
          4.066666666666666,
          3.033333333333333,
          5.1,
          4.066666666666666,
          4.066666666666666,
          2.033333333333333,
          2.033333333333333,
          0,
          0,
          0,
          14.2,
          2.033333333333333,
          0,
          0,
          0,
          0,
          0,
          0,
          0,
          0,
          0,
          0,
          0,
          0,
          0,
          0,
          0,
          0,
          0,
          0,
          0,
          0,
          0,
          0,
          0,
          9.166666666666666,
          0,
          0,
          0,
          2.033333333333333,
          0,
          0,
          0,
          0,
          0,
          0,
          0,
          0,
          0,
          0,
          0,
          0,
          0,
          0,
          0,
          0,
          0,
          0,
          0,
          0,
          0,
          0,
          0,
          0,
          0,
          0,
          0,
          0,
          0,
          0,
          0,
          0,
          0,
          0,
          0,
          0,
          0,
          2.033333333333333,
          0,
          4.066666666666666,
          0,
          0,
          0,
          0,
          0,
          0,
          0,
          0,
          7.133333333333334,
          0,
          0,
          0,
          14.2,
          0,
          0,
          0,
          0,
          0,
          0,
          0,
          0,
          0,
          0,
          0,
          0,
          0,
          0,
          0,
          2.033333333333333,
          0,
          0,
          2.033333333333333,
          0,
          0,
          0,
          0,
          2.033333333333333,
          0,
          0,
          0,
          0,
          0,
          2.033333333333333,
          0,
          0,
          0,
          0,
          0,
          0,
          0,
          0,
          0,
          0,
          2.033333333333333,
          0,
          0,
          0,
          0,
          0,
          0,
          0,
          0,
          1,
          0,
          0,
          0,
          0,
          0,
          0,
          0,
          2.033333333333333,
          0,
          0,
          0,
          0,
          0,
          0,
          0,
          0,
          0,
          0,
          0,
          0,
          0,
          0,
          0,
          0,
          0,
          0,
          0,
          0,
          0,
          0,
          0,
          0
         ],
         "y": [
          44,
          58,
          60,
          52,
          60,
          45,
          60,
          60,
          60,
          49,
          57,
          34,
          60,
          60,
          53,
          60,
          60,
          60,
          60,
          60,
          56,
          60,
          53,
          47,
          60,
          57,
          52,
          57,
          50,
          48,
          44,
          53,
          46,
          60,
          60,
          59,
          45,
          46,
          56,
          60,
          58,
          48,
          46,
          60,
          60,
          58,
          59,
          60,
          60,
          59,
          60,
          60,
          56,
          60,
          60,
          60,
          60,
          60,
          59,
          34,
          60,
          50,
          60,
          32,
          58,
          57,
          43,
          49,
          60,
          60,
          59,
          60,
          60,
          60,
          60,
          60,
          60,
          60,
          60,
          50,
          59,
          59,
          60,
          60,
          58,
          60,
          60,
          60,
          60,
          60,
          60,
          58,
          60,
          60,
          51,
          60,
          60,
          54,
          60,
          60,
          60,
          60,
          55,
          42,
          60,
          47,
          60,
          60,
          60,
          60,
          60,
          60,
          60,
          60,
          53,
          54,
          60,
          60,
          46,
          60,
          60,
          60,
          59,
          37,
          60,
          60,
          60,
          58,
          60,
          60,
          52,
          60,
          60,
          60,
          58,
          60,
          60,
          58,
          36,
          37,
          57,
          59,
          58,
          60,
          60,
          60,
          60,
          60,
          58,
          60,
          60,
          36,
          60,
          60,
          60,
          57,
          58,
          60,
          51,
          58,
          52,
          60,
          60,
          60,
          57,
          34,
          44,
          60,
          52,
          60,
          60,
          60,
          57,
          60,
          60,
          60,
          58,
          60,
          50,
          59,
          60,
          60,
          60,
          60,
          60,
          59,
          60,
          60,
          46,
          59,
          60,
          60,
          60,
          60,
          53,
          59,
          39,
          60,
          60,
          39,
          55
         ],
         "z": [
          8.005567247479478,
          9.4664814664735,
          9.487324929502286,
          7.889020686864498,
          9.650924845479349,
          9.485575299126205,
          11.012363654269857,
          11.202088986281863,
          10.344018278975858,
          8.00155936005792,
          9.167104006874162,
          9.152199475658346,
          11.091602584384457,
          11.44954083784083,
          8.63162127216654,
          11.367227559574502,
          11.229475623979031,
          11.17170927356832,
          9.242145193715814,
          11.03823711955723,
          7.858489948747306,
          11.15706704472813,
          8.506562485160208,
          8.236955871231372,
          9.109865457863103,
          8.163891978612643,
          8.505845853202535,
          8.646899879173052,
          8.138752803688183,
          7.93793453942181,
          8.218237139141044,
          8.135015220876104,
          8.049537523550558,
          11.422789465975162,
          11.21663982104428,
          9.031389527941752,
          8.903238958764552,
          8.314266397320846,
          10.279195268685115,
          9.809485067326397,
          9.288754061211685,
          8.566095730223784,
          9.143898173327182,
          10.654921093897938,
          10.849686540148948,
          10.021167916255262,
          9.799234201523046,
          10.66424104375169,
          11.072612668084629,
          10.375390938600608,
          10.946196110508332,
          10.936729151688366,
          9.177440456426543,
          11.781733309529704,
          9.680886354121993,
          11.043167917443903,
          10.112094111930826,
          10.99027108989016,
          10.36112092213646,
          9.23322061150291,
          10.167372583129328,
          9.763318752405576,
          11.19885829381447,
          9.849515937806512,
          10.515340888910892,
          8.830304678124097,
          8.266424043014661,
          8.786478068489561,
          10.418157676730832,
          9.31089224461968,
          9.262955592234594,
          9.771232259635617,
          10.356377702982579,
          9.75645213243747,
          10.266542252484994,
          10.092424512551352,
          10.217303491156125,
          9.875129229431073,
          10.361104090061968,
          7.822805241420159,
          8.804014393425367,
          9.401711689214977,
          10.456442060469957,
          9.520545632346675,
          9.517686091478602,
          10.43714345093914,
          10.39690095969645,
          10.010432961586647,
          10.955555393524854,
          9.848476302477527,
          10.57977185051303,
          9.725713440424808,
          10.113924718565842,
          9.750624210400684,
          9.911888664166684,
          11.557014271245611,
          11.69005858507506,
          7.9371746761606286,
          9.516864316228704,
          9.822255913363557,
          9.777262999819357,
          9.679159675184616,
          8.879956761991519,
          9.337537621203182,
          11.062577001168316,
          7.778462699234327,
          11.589553080155731,
          11.530745461485587,
          11.153405047938609,
          11.577715292027822,
          9.807862383127786,
          10.697001153996387,
          9.80526704182425,
          12.108676055685358,
          8.484380701669687,
          8.725981396025219,
          11.513939051118191,
          9.79169752289115,
          8.540554186089562,
          11.29719422447922,
          10.349793534986322,
          10.61796266710852,
          9.9567121557456,
          9.512606330694437,
          10.669317189685108,
          10.565357871835978,
          10.782136186987271,
          10.190582102430326,
          10.752381923536069,
          10.454432139753933,
          7.3540807808732955,
          8.97316254936483,
          10.937795603731216,
          11.060756284289733,
          11.051374649819337,
          10.616291516424205,
          11.259589294344865,
          10.112792105119286,
          10.330824779052703,
          10.438721650968157,
          11.396356457083822,
          11.231130854021455,
          10.436852525943417,
          11.215111975936916,
          11.030917624622568,
          10.86830014592311,
          11.248780762463165,
          11.112198762863818,
          11.30005469251724,
          10.991751885308709,
          11.486780853739855,
          11.11593890219979,
          10.270893166348682,
          10.307288610213366,
          11.011518875829045,
          9.08852973641735,
          8.408125813827086,
          9.896686678931756,
          9.63092250655532,
          10.093271363988812,
          8.588642776044052,
          9.923923410671883,
          8.986490321149956,
          9.417001633567423,
          11.011004245729161,
          10.389279758644298,
          8.429502310889088,
          11.802904297847347,
          10.011281305469618,
          11.881292953898603,
          11.486230093195871,
          11.39430610469188,
          10.085122040018678,
          11.196391415084051,
          11.30784594714014,
          11.094533463438614,
          11.16651036550796,
          11.29297812532519,
          8.724498375362288,
          10.140192727909872,
          10.097090237447945,
          9.14468763032542,
          13.294266230842505,
          13.007093624804524,
          9.099488137731413,
          8.32268325721021,
          10.946501433451216,
          10.429307024637694,
          9.403316631956905,
          9.507580123946259,
          9.627612831481626,
          8.621254062902326,
          9.795160418592275,
          10.935980871816016,
          7.336975975444698,
          8.322938314945734,
          9.470638657624521,
          10.77304279794417,
          10.805426386859295,
          10.938722245931386,
          8.363806552968347
         ]
        },
        {
         "hovertemplate": "labels3=Average Stores<br>recency=%{x}<br>frequency=%{y}<br>monetary=%{z}<extra></extra>",
         "legendgroup": "Average Stores",
         "marker": {
          "color": "#00cc96",
          "line": {
           "color": "DarkSlateGrey",
           "width": 2
          },
          "size": 8,
          "symbol": "circle"
         },
         "mode": "markers",
         "name": "Average Stores",
         "scene": "scene",
         "showlegend": true,
         "type": "scatter3d",
         "x": [
          8.133333333333333,
          9.166666666666666,
          0,
          1,
          36.53333333333333,
          22.3,
          8.133333333333333,
          0,
          32.5,
          1,
          3.033333333333333,
          0,
          5.1,
          36.53333333333333,
          15.2,
          4.066666666666666,
          31.5,
          20.3,
          2.033333333333333,
          4.066666666666666,
          33.53333333333333,
          33.53333333333333,
          21.333333333333332,
          33.53333333333333,
          0,
          35.5,
          7.133333333333334,
          11.133333333333333,
          34.46666666666667,
          28.433333333333334,
          0,
          0,
          38.56666666666667,
          45.7,
          36.53333333333333,
          37.53333333333333,
          1,
          16.233333333333334,
          40.6,
          22.3,
          0,
          21.333333333333332,
          0,
          1,
          25.366666666666667,
          21.333333333333332,
          2.033333333333333,
          31.5,
          3.033333333333333,
          0,
          21.333333333333332,
          4.066666666666666,
          22.3,
          2.033333333333333,
          4.066666666666666,
          2.033333333333333,
          4.066666666666666,
          0,
          34.46666666666667,
          23.333333333333332,
          0,
          0,
          21.333333333333332,
          21.333333333333332,
          26.4,
          21.333333333333332,
          36.53333333333333,
          37.53333333333333,
          12.166666666666666,
          36.53333333333333,
          0,
          23.333333333333332,
          0,
          1,
          22.3,
          6.1,
          0,
          0,
          3.033333333333333,
          0,
          16.233333333333334,
          8.133333333333333,
          23.333333333333332,
          5.1,
          45.7,
          0,
          2.033333333333333,
          22.3,
          31.5,
          39.56666666666667
         ],
         "y": [
          30,
          22,
          25,
          28,
          24,
          20,
          3,
          12,
          15,
          6,
          25,
          3,
          8,
          22,
          13,
          39,
          21,
          29,
          26,
          35,
          12,
          23,
          29,
          25,
          21,
          14,
          34,
          19,
          12,
          17,
          18,
          9,
          21,
          15,
          16,
          22,
          23,
          26,
          11,
          11,
          9,
          39,
          35,
          33,
          13,
          33,
          27,
          22,
          16,
          31,
          22,
          2,
          11,
          20,
          34,
          38,
          6,
          1,
          26,
          6,
          6,
          5,
          8,
          18,
          29,
          8,
          24,
          23,
          24,
          24,
          35,
          36,
          32,
          31,
          9,
          2,
          34,
          38,
          32,
          33,
          33,
          17,
          17,
          1,
          15,
          19,
          11,
          2,
          19,
          21
         ],
         "z": [
          8.609108524334177,
          6.896704442795052,
          6.681983276314235,
          4.926383741648665,
          8.316270908753125,
          7.836350005312457,
          5.810122510427528,
          9.17362348164078,
          7.242404426213887,
          6.850687449274616,
          7.165394552084668,
          6.900045635912084,
          7.117456890866322,
          9.397080485886356,
          7.359397616708053,
          7.540401642561513,
          6.5672629726980345,
          7.412896778679783,
          7.68714162178397,
          6.832255569580489,
          6.619486367707465,
          6.783037503503978,
          7.044805722477593,
          8.21933956364296,
          7.879806114182281,
          8.067290184277503,
          7.669915330829037,
          7.750459748742064,
          7.262523406100641,
          6.935195333407528,
          8.686248810134582,
          7.845537407456971,
          7.3460553701838744,
          8.774278933580346,
          9.279033065080778,
          9.521266203058104,
          9.082318346308584,
          7.411381045871089,
          8.66319648553608,
          8.253149517529856,
          6.111289940176331,
          9.465100412865782,
          8.533513291158323,
          7.792353052923672,
          6.750399468205931,
          7.839249844598565,
          6.815278082488417,
          7.089835139903331,
          6.9091742717355515,
          9.204428933804031,
          7.475582971033414,
          4.570495922054071,
          6.408660578091845,
          6.1508799155385425,
          8.591015980051862,
          7.95888454879402,
          6.061060569995885,
          4.814295945534097,
          8.740633018836347,
          7.175986912112272,
          6.503674212646134,
          6.092847161396585,
          6.535270298168564,
          7.3552320736462615,
          7.851917954257913,
          5.824937596212669,
          9.833410843909844,
          9.645219935338787,
          6.259581464064923,
          10.695728609320788,
          8.350122742982823,
          8.139703107763586,
          8.219379971764997,
          7.423050100987277,
          7.279822157002918,
          5.366910158013648,
          7.8145127130327605,
          8.196331513519421,
          8.518484357502437,
          7.711602693495394,
          7.599010671238465,
          6.3172368863068975,
          6.7477508325792135,
          3.3090820927543496,
          9.815613257885577,
          8.910850190736614,
          7.471750036648115,
          5.5842479059610115,
          7.363628289634147,
          9.708933280229605
         ]
        }
       ],
       "frames": [
        {
         "layout": {
          "scene": {
           "camera": {
            "eye": {
             "x": -1.25,
             "y": 2,
             "z": 0.5
            }
           }
          }
         }
        },
        {
         "layout": {
          "scene": {
           "camera": {
            "eye": {
             "x": -1.0440883733038762,
             "y": 2.1148001013645867,
             "z": 0.5
            }
           }
          }
         }
        },
        {
         "layout": {
          "scene": {
           "camera": {
            "eye": {
             "x": -0.8277445607114295,
             "y": 2.20846981917631,
             "z": 0.5
            }
           }
          }
         }
        },
        {
         "layout": {
          "scene": {
           "camera": {
            "eye": {
             "x": -0.6031301980843282,
             "y": 2.2800732365778864,
             "z": 0.5
            }
           }
          }
         }
        },
        {
         "layout": {
          "scene": {
           "camera": {
            "eye": {
             "x": -0.37248955788630533,
             "y": 2.3288949158915835,
             "z": 0.5
            }
           }
          }
         }
        },
        {
         "layout": {
          "scene": {
           "camera": {
            "eye": {
             "x": -0.13812712515455994,
             "y": 2.3544470470359995,
             "z": 0.5
            }
           }
          }
         }
        },
        {
         "layout": {
          "scene": {
           "camera": {
            "eye": {
             "x": 0.0976154281529733,
             "y": 2.3564743215631507,
             "z": 0.5
            }
           }
          }
         }
        },
        {
         "layout": {
          "scene": {
           "camera": {
            "eye": {
             "x": 0.33238264036977183,
             "y": 2.3349564836160908,
             "z": 0.5
            }
           }
          }
         }
        },
        {
         "layout": {
          "scene": {
           "camera": {
            "eye": {
             "x": 0.5638287951150889,
             "y": 2.290108532318734,
             "z": 0.5
            }
           }
          }
         }
        },
        {
         "layout": {
          "scene": {
           "camera": {
            "eye": {
             "x": 0.7896413589166363,
             "y": 2.222378573575683,
             "z": 0.5
            }
           }
          }
         }
        },
        {
         "layout": {
          "scene": {
           "camera": {
            "eye": {
             "x": 1.0075640872806182,
             "y": 2.13244334274615,
             "z": 0.5
            }
           }
          }
         }
        },
        {
         "layout": {
          "scene": {
           "camera": {
            "eye": {
             "x": 1.215419568340899,
             "y": 2.021201442927949,
             "z": 0.5
            }
           }
          }
         }
        },
        {
         "layout": {
          "scene": {
           "camera": {
            "eye": {
             "x": 1.411130978838611,
             "y": 1.8897643664123798,
             "z": 0.5
            }
           }
          }
         }
        },
        {
         "layout": {
          "scene": {
           "camera": {
            "eye": {
             "x": 1.5927428350536517,
             "y": 1.7394453890206658,
             "z": 0.5
            }
           }
          }
         }
        },
        {
         "layout": {
          "scene": {
           "camera": {
            "eye": {
             "x": 1.7584405313516194,
             "y": 1.571746448286057,
             "z": 0.5
            }
           }
          }
         }
        },
        {
         "layout": {
          "scene": {
           "camera": {
            "eye": {
             "x": 1.9065684711234803,
             "y": 1.388343136590474,
             "z": 0.5
            }
           }
          }
         }
        },
        {
         "layout": {
          "scene": {
           "camera": {
            "eye": {
             "x": 2.0356466089596212,
             "y": 1.1910679591993036,
             "z": 0.5
            }
           }
          }
         }
        },
        {
         "layout": {
          "scene": {
           "camera": {
            "eye": {
             "x": 2.144385238774343,
             "y": 0.981892024474536,
             "z": 0.5
            }
           }
          }
         }
        },
        {
         "layout": {
          "scene": {
           "camera": {
            "eye": {
             "x": 2.2316978801227494,
             "y": 0.7629053492115697,
             "z": 0.5
            }
           }
          }
         }
        },
        {
         "layout": {
          "scene": {
           "camera": {
            "eye": {
             "x": 2.2967121339542085,
             "y": 0.5362959758822609,
             "z": 0.5
            }
           }
          }
         }
        },
        {
         "layout": {
          "scene": {
           "camera": {
            "eye": {
             "x": 2.3387783993352915,
             "y": 0.3043281104378174,
             "z": 0.5
            }
           }
          }
         }
        },
        {
         "layout": {
          "scene": {
           "camera": {
            "eye": {
             "x": 2.357476364047569,
             "y": 0.06931949911137703,
             "z": 0.5
            }
           }
          }
         }
        },
        {
         "layout": {
          "scene": {
           "camera": {
            "eye": {
             "x": 2.3526192042083625,
             "y": -0.16638172973620402,
             "z": 0.5
            }
           }
          }
         }
        },
        {
         "layout": {
          "scene": {
           "camera": {
            "eye": {
             "x": 2.3242554509532205,
             "y": -0.4004205273387489,
             "z": 0.5
            }
           }
          }
         }
        },
        {
         "layout": {
          "scene": {
           "camera": {
            "eye": {
             "x": 2.2726685055288582,
             "y": -0.6304584553935533,
             "z": 0.5
            }
           }
          }
         }
        },
        {
         "layout": {
          "scene": {
           "camera": {
            "eye": {
             "x": 2.19837380764158,
             "y": -0.8541970509639218,
             "z": 0.5
            }
           }
          }
         }
        },
        {
         "layout": {
          "scene": {
           "camera": {
            "eye": {
             "x": 2.1021136853541122,
             "y": -1.0694007919610644,
             "z": 0.5
            }
           }
          }
         }
        },
        {
         "layout": {
          "scene": {
           "camera": {
            "eye": {
             "x": 1.9848499379889861,
             "y": -1.2739194337418351,
             "z": 0.5
            }
           }
          }
         }
        },
        {
         "layout": {
          "scene": {
           "camera": {
            "eye": {
             "x": 1.8477542261476323,
             "y": -1.4657094936424357,
             "z": 0.5
            }
           }
          }
         }
        },
        {
         "layout": {
          "scene": {
           "camera": {
            "eye": {
             "x": 1.6921963648649523,
             "y": -1.6428546687817038,
             "z": 0.5
            }
           }
          }
         }
        },
        {
         "layout": {
          "scene": {
           "camera": {
            "eye": {
             "x": 1.5197306368702912,
             "y": -1.8035849831260569,
             "z": 0.5
            }
           }
          }
         }
        },
        {
         "layout": {
          "scene": {
           "camera": {
            "eye": {
             "x": 1.3320802627081803,
             "y": -1.9462944725049458,
             "z": 0.5
            }
           }
          }
         }
        },
        {
         "layout": {
          "scene": {
           "camera": {
            "eye": {
             "x": 1.1311201828882813,
             "y": -2.0695572308739814,
             "z": 0.5
            }
           }
          }
         }
        },
        {
         "layout": {
          "scene": {
           "camera": {
            "eye": {
             "x": 0.9188583240995838,
             "y": -2.1721416574967907,
             "z": 0.5
            }
           }
          }
         }
        },
        {
         "layout": {
          "scene": {
           "camera": {
            "eye": {
             "x": 0.6974155366706627,
             "y": -2.2530227626924613,
             "z": 0.5
            }
           }
          }
         }
        },
        {
         "layout": {
          "scene": {
           "camera": {
            "eye": {
             "x": 0.46900440373425567,
             "y": -2.3113924091936173,
             "z": 0.5
            }
           }
          }
         }
        },
        {
         "layout": {
          "scene": {
           "camera": {
            "eye": {
             "x": 0.2359071338279789,
             "y": -2.3466673867868595,
             "z": 0.5
            }
           }
          }
         }
        },
        {
         "layout": {
          "scene": {
           "camera": {
            "eye": {
             "x": 0.0004527578210231642,
             "y": -2.358495239556433,
             "z": 0.5
            }
           }
          }
         }
        },
        {
         "layout": {
          "scene": {
           "camera": {
            "eye": {
             "x": -0.23500614199241787,
             "y": -2.346757787507232,
             "z": 0.5
            }
           }
          }
         }
        },
        {
         "layout": {
          "scene": {
           "camera": {
            "eye": {
             "x": -0.46811693811777333,
             "y": -2.3115723073802474,
             "z": 0.5
            }
           }
          }
         }
        },
        {
         "layout": {
          "scene": {
           "camera": {
            "eye": {
             "x": -0.6965504645363415,
             "y": -2.253290360862134,
             "z": 0.5
            }
           }
          }
         }
        },
        {
         "layout": {
          "scene": {
           "camera": {
            "eye": {
             "x": -0.918024288962236,
             "y": -2.1724942818970505,
             "z": 0.5
            }
           }
          }
         }
        },
        {
         "layout": {
          "scene": {
           "camera": {
            "eye": {
             "x": -1.1303255181513021,
             "y": -2.069991358198384,
             "z": 0.5
            }
           }
          }
         }
        },
        {
         "layout": {
          "scene": {
           "camera": {
            "eye": {
             "x": -1.3313329083989405,
             "y": -1.9468057650967694,
             "z": 0.5
            }
           }
          }
         }
        },
        {
         "layout": {
          "scene": {
           "camera": {
            "eye": {
             "x": -1.519038060306008,
             "y": -1.8041683323187339,
             "z": 0.5
            }
           }
          }
         }
        },
        {
         "layout": {
          "scene": {
           "camera": {
            "eye": {
             "x": -1.6915654860417195,
             "y": -1.6435042459429305,
             "z": 0.5
            }
           }
          }
         }
        },
        {
         "layout": {
          "scene": {
           "camera": {
            "eye": {
             "x": -1.8471913485981115,
             "y": -1.4664188084119385,
             "z": 0.5
            }
           }
          }
         }
        },
        {
         "layout": {
          "scene": {
           "camera": {
            "eye": {
             "x": -1.9843606857995884,
             "y": -1.2746813988809071,
             "z": 0.5
            }
           }
          }
         }
        },
        {
         "layout": {
          "scene": {
           "camera": {
            "eye": {
             "x": -2.10170294697099,
             "y": -1.070207794165906,
             "z": 0.5
            }
           }
          }
         }
        },
        {
         "layout": {
          "scene": {
           "camera": {
            "eye": {
             "x": -2.1980456870268847,
             "y": -0.855041026935264,
             "z": 0.5
            }
           }
          }
         }
        },
        {
         "layout": {
          "scene": {
           "camera": {
            "eye": {
             "x": -2.2724262811553095,
             "y": -0.6313309724024706,
             "z": 0.5
            }
           }
          }
         }
        },
        {
         "layout": {
          "scene": {
           "camera": {
            "eye": {
             "x": -2.3241015430466905,
             "y": -0.4013128674837031,
             "z": 0.5
            }
           }
          }
         }
        },
        {
         "layout": {
          "scene": {
           "camera": {
            "eye": {
             "x": -2.352555150565778,
             "y": -0.16728497704943712,
             "z": 0.5
            }
           }
          }
         }
        },
        {
         "layout": {
          "scene": {
           "camera": {
            "eye": {
             "x": -2.3575028046717534,
             "y": 0.06841436957844715,
             "z": 0.5
            }
           }
          }
         }
        },
        {
         "layout": {
          "scene": {
           "camera": {
            "eye": {
             "x": -2.3388950700402678,
             "y": 0.30343014244028543,
             "z": 0.5
            }
           }
          }
         }
        },
        {
         "layout": {
          "scene": {
           "camera": {
            "eye": {
             "x": -2.296917869004859,
             "y": 0.53541414161953,
             "z": 0.5
            }
           }
          }
         }
        },
        {
         "layout": {
          "scene": {
           "camera": {
            "eye": {
             "x": -2.2319906238824543,
             "y": 0.7620484596800993,
             "z": 0.5
            }
           }
          }
         }
        },
        {
         "layout": {
          "scene": {
           "camera": {
            "eye": {
             "x": -2.144762066244225,
             "y": 0.9810686414312726,
             "z": 0.5
            }
           }
          }
         }
        },
        {
         "layout": {
          "scene": {
           "camera": {
            "eye": {
             "x": -2.036103755004162,
             "y": 1.190286309615443,
             "z": 0.5
            }
           }
          }
         }
        },
        {
         "layout": {
          "scene": {
           "camera": {
            "eye": {
             "x": -1.9071013680905171,
             "y": 1.3876110304502767,
             "z": 0.5
            }
           }
          }
         }
        },
        {
         "layout": {
          "scene": {
           "camera": {
            "eye": {
             "x": -1.7590438547108092,
             "y": 1.5710712005520746,
             "z": 0.5
            }
           }
          }
         }
        },
        {
         "layout": {
          "scene": {
           "camera": {
            "eye": {
             "x": -1.5934105565974208,
             "y": 1.7388337465450507,
             "z": 0.5
            }
           }
          }
         }
        },
        {
         "layout": {
          "scene": {
           "camera": {
            "eye": {
             "x": -1.4118564269140148,
             "y": 1.8892224405245646,
             "z": 0.5
            }
           }
          }
         }
        }
       ],
       "layout": {
        "font": {
         "size": 14
        },
        "height": 800,
        "legend": {
         "font": {
          "size": 20
         },
         "title": {
          "text": "Store Cluster"
         },
         "tracegroupgap": 0
        },
        "margin": {
         "b": 10,
         "l": 10,
         "r": 20,
         "t": 10
        },
        "scene": {
         "camera": {
          "eye": {
           "x": -1.25,
           "y": 2,
           "z": 0.5
          }
         },
         "domain": {
          "x": [
           0,
           1
          ],
          "y": [
           0,
           1
          ]
         },
         "xaxis": {
          "title": {
           "text": "Recency"
          }
         },
         "yaxis": {
          "title": {
           "text": "Frequency"
          }
         },
         "zaxis": {
          "title": {
           "text": "Monetary"
          }
         }
        },
        "template": {
         "data": {
          "bar": [
           {
            "error_x": {
             "color": "#2a3f5f"
            },
            "error_y": {
             "color": "#2a3f5f"
            },
            "marker": {
             "line": {
              "color": "#E5ECF6",
              "width": 0.5
             },
             "pattern": {
              "fillmode": "overlay",
              "size": 10,
              "solidity": 0.2
             }
            },
            "type": "bar"
           }
          ],
          "barpolar": [
           {
            "marker": {
             "line": {
              "color": "#E5ECF6",
              "width": 0.5
             },
             "pattern": {
              "fillmode": "overlay",
              "size": 10,
              "solidity": 0.2
             }
            },
            "type": "barpolar"
           }
          ],
          "carpet": [
           {
            "aaxis": {
             "endlinecolor": "#2a3f5f",
             "gridcolor": "white",
             "linecolor": "white",
             "minorgridcolor": "white",
             "startlinecolor": "#2a3f5f"
            },
            "baxis": {
             "endlinecolor": "#2a3f5f",
             "gridcolor": "white",
             "linecolor": "white",
             "minorgridcolor": "white",
             "startlinecolor": "#2a3f5f"
            },
            "type": "carpet"
           }
          ],
          "choropleth": [
           {
            "colorbar": {
             "outlinewidth": 0,
             "ticks": ""
            },
            "type": "choropleth"
           }
          ],
          "contour": [
           {
            "colorbar": {
             "outlinewidth": 0,
             "ticks": ""
            },
            "colorscale": [
             [
              0,
              "#0d0887"
             ],
             [
              0.1111111111111111,
              "#46039f"
             ],
             [
              0.2222222222222222,
              "#7201a8"
             ],
             [
              0.3333333333333333,
              "#9c179e"
             ],
             [
              0.4444444444444444,
              "#bd3786"
             ],
             [
              0.5555555555555556,
              "#d8576b"
             ],
             [
              0.6666666666666666,
              "#ed7953"
             ],
             [
              0.7777777777777778,
              "#fb9f3a"
             ],
             [
              0.8888888888888888,
              "#fdca26"
             ],
             [
              1,
              "#f0f921"
             ]
            ],
            "type": "contour"
           }
          ],
          "contourcarpet": [
           {
            "colorbar": {
             "outlinewidth": 0,
             "ticks": ""
            },
            "type": "contourcarpet"
           }
          ],
          "heatmap": [
           {
            "colorbar": {
             "outlinewidth": 0,
             "ticks": ""
            },
            "colorscale": [
             [
              0,
              "#0d0887"
             ],
             [
              0.1111111111111111,
              "#46039f"
             ],
             [
              0.2222222222222222,
              "#7201a8"
             ],
             [
              0.3333333333333333,
              "#9c179e"
             ],
             [
              0.4444444444444444,
              "#bd3786"
             ],
             [
              0.5555555555555556,
              "#d8576b"
             ],
             [
              0.6666666666666666,
              "#ed7953"
             ],
             [
              0.7777777777777778,
              "#fb9f3a"
             ],
             [
              0.8888888888888888,
              "#fdca26"
             ],
             [
              1,
              "#f0f921"
             ]
            ],
            "type": "heatmap"
           }
          ],
          "heatmapgl": [
           {
            "colorbar": {
             "outlinewidth": 0,
             "ticks": ""
            },
            "colorscale": [
             [
              0,
              "#0d0887"
             ],
             [
              0.1111111111111111,
              "#46039f"
             ],
             [
              0.2222222222222222,
              "#7201a8"
             ],
             [
              0.3333333333333333,
              "#9c179e"
             ],
             [
              0.4444444444444444,
              "#bd3786"
             ],
             [
              0.5555555555555556,
              "#d8576b"
             ],
             [
              0.6666666666666666,
              "#ed7953"
             ],
             [
              0.7777777777777778,
              "#fb9f3a"
             ],
             [
              0.8888888888888888,
              "#fdca26"
             ],
             [
              1,
              "#f0f921"
             ]
            ],
            "type": "heatmapgl"
           }
          ],
          "histogram": [
           {
            "marker": {
             "pattern": {
              "fillmode": "overlay",
              "size": 10,
              "solidity": 0.2
             }
            },
            "type": "histogram"
           }
          ],
          "histogram2d": [
           {
            "colorbar": {
             "outlinewidth": 0,
             "ticks": ""
            },
            "colorscale": [
             [
              0,
              "#0d0887"
             ],
             [
              0.1111111111111111,
              "#46039f"
             ],
             [
              0.2222222222222222,
              "#7201a8"
             ],
             [
              0.3333333333333333,
              "#9c179e"
             ],
             [
              0.4444444444444444,
              "#bd3786"
             ],
             [
              0.5555555555555556,
              "#d8576b"
             ],
             [
              0.6666666666666666,
              "#ed7953"
             ],
             [
              0.7777777777777778,
              "#fb9f3a"
             ],
             [
              0.8888888888888888,
              "#fdca26"
             ],
             [
              1,
              "#f0f921"
             ]
            ],
            "type": "histogram2d"
           }
          ],
          "histogram2dcontour": [
           {
            "colorbar": {
             "outlinewidth": 0,
             "ticks": ""
            },
            "colorscale": [
             [
              0,
              "#0d0887"
             ],
             [
              0.1111111111111111,
              "#46039f"
             ],
             [
              0.2222222222222222,
              "#7201a8"
             ],
             [
              0.3333333333333333,
              "#9c179e"
             ],
             [
              0.4444444444444444,
              "#bd3786"
             ],
             [
              0.5555555555555556,
              "#d8576b"
             ],
             [
              0.6666666666666666,
              "#ed7953"
             ],
             [
              0.7777777777777778,
              "#fb9f3a"
             ],
             [
              0.8888888888888888,
              "#fdca26"
             ],
             [
              1,
              "#f0f921"
             ]
            ],
            "type": "histogram2dcontour"
           }
          ],
          "mesh3d": [
           {
            "colorbar": {
             "outlinewidth": 0,
             "ticks": ""
            },
            "type": "mesh3d"
           }
          ],
          "parcoords": [
           {
            "line": {
             "colorbar": {
              "outlinewidth": 0,
              "ticks": ""
             }
            },
            "type": "parcoords"
           }
          ],
          "pie": [
           {
            "automargin": true,
            "type": "pie"
           }
          ],
          "scatter": [
           {
            "marker": {
             "colorbar": {
              "outlinewidth": 0,
              "ticks": ""
             }
            },
            "type": "scatter"
           }
          ],
          "scatter3d": [
           {
            "line": {
             "colorbar": {
              "outlinewidth": 0,
              "ticks": ""
             }
            },
            "marker": {
             "colorbar": {
              "outlinewidth": 0,
              "ticks": ""
             }
            },
            "type": "scatter3d"
           }
          ],
          "scattercarpet": [
           {
            "marker": {
             "colorbar": {
              "outlinewidth": 0,
              "ticks": ""
             }
            },
            "type": "scattercarpet"
           }
          ],
          "scattergeo": [
           {
            "marker": {
             "colorbar": {
              "outlinewidth": 0,
              "ticks": ""
             }
            },
            "type": "scattergeo"
           }
          ],
          "scattergl": [
           {
            "marker": {
             "colorbar": {
              "outlinewidth": 0,
              "ticks": ""
             }
            },
            "type": "scattergl"
           }
          ],
          "scattermapbox": [
           {
            "marker": {
             "colorbar": {
              "outlinewidth": 0,
              "ticks": ""
             }
            },
            "type": "scattermapbox"
           }
          ],
          "scatterpolar": [
           {
            "marker": {
             "colorbar": {
              "outlinewidth": 0,
              "ticks": ""
             }
            },
            "type": "scatterpolar"
           }
          ],
          "scatterpolargl": [
           {
            "marker": {
             "colorbar": {
              "outlinewidth": 0,
              "ticks": ""
             }
            },
            "type": "scatterpolargl"
           }
          ],
          "scatterternary": [
           {
            "marker": {
             "colorbar": {
              "outlinewidth": 0,
              "ticks": ""
             }
            },
            "type": "scatterternary"
           }
          ],
          "surface": [
           {
            "colorbar": {
             "outlinewidth": 0,
             "ticks": ""
            },
            "colorscale": [
             [
              0,
              "#0d0887"
             ],
             [
              0.1111111111111111,
              "#46039f"
             ],
             [
              0.2222222222222222,
              "#7201a8"
             ],
             [
              0.3333333333333333,
              "#9c179e"
             ],
             [
              0.4444444444444444,
              "#bd3786"
             ],
             [
              0.5555555555555556,
              "#d8576b"
             ],
             [
              0.6666666666666666,
              "#ed7953"
             ],
             [
              0.7777777777777778,
              "#fb9f3a"
             ],
             [
              0.8888888888888888,
              "#fdca26"
             ],
             [
              1,
              "#f0f921"
             ]
            ],
            "type": "surface"
           }
          ],
          "table": [
           {
            "cells": {
             "fill": {
              "color": "#EBF0F8"
             },
             "line": {
              "color": "white"
             }
            },
            "header": {
             "fill": {
              "color": "#C8D4E3"
             },
             "line": {
              "color": "white"
             }
            },
            "type": "table"
           }
          ]
         },
         "layout": {
          "annotationdefaults": {
           "arrowcolor": "#2a3f5f",
           "arrowhead": 0,
           "arrowwidth": 1
          },
          "autotypenumbers": "strict",
          "coloraxis": {
           "colorbar": {
            "outlinewidth": 0,
            "ticks": ""
           }
          },
          "colorscale": {
           "diverging": [
            [
             0,
             "#8e0152"
            ],
            [
             0.1,
             "#c51b7d"
            ],
            [
             0.2,
             "#de77ae"
            ],
            [
             0.3,
             "#f1b6da"
            ],
            [
             0.4,
             "#fde0ef"
            ],
            [
             0.5,
             "#f7f7f7"
            ],
            [
             0.6,
             "#e6f5d0"
            ],
            [
             0.7,
             "#b8e186"
            ],
            [
             0.8,
             "#7fbc41"
            ],
            [
             0.9,
             "#4d9221"
            ],
            [
             1,
             "#276419"
            ]
           ],
           "sequential": [
            [
             0,
             "#0d0887"
            ],
            [
             0.1111111111111111,
             "#46039f"
            ],
            [
             0.2222222222222222,
             "#7201a8"
            ],
            [
             0.3333333333333333,
             "#9c179e"
            ],
            [
             0.4444444444444444,
             "#bd3786"
            ],
            [
             0.5555555555555556,
             "#d8576b"
            ],
            [
             0.6666666666666666,
             "#ed7953"
            ],
            [
             0.7777777777777778,
             "#fb9f3a"
            ],
            [
             0.8888888888888888,
             "#fdca26"
            ],
            [
             1,
             "#f0f921"
            ]
           ],
           "sequentialminus": [
            [
             0,
             "#0d0887"
            ],
            [
             0.1111111111111111,
             "#46039f"
            ],
            [
             0.2222222222222222,
             "#7201a8"
            ],
            [
             0.3333333333333333,
             "#9c179e"
            ],
            [
             0.4444444444444444,
             "#bd3786"
            ],
            [
             0.5555555555555556,
             "#d8576b"
            ],
            [
             0.6666666666666666,
             "#ed7953"
            ],
            [
             0.7777777777777778,
             "#fb9f3a"
            ],
            [
             0.8888888888888888,
             "#fdca26"
            ],
            [
             1,
             "#f0f921"
            ]
           ]
          },
          "colorway": [
           "#636efa",
           "#EF553B",
           "#00cc96",
           "#ab63fa",
           "#FFA15A",
           "#19d3f3",
           "#FF6692",
           "#B6E880",
           "#FF97FF",
           "#FECB52"
          ],
          "font": {
           "color": "#2a3f5f"
          },
          "geo": {
           "bgcolor": "white",
           "lakecolor": "white",
           "landcolor": "#E5ECF6",
           "showlakes": true,
           "showland": true,
           "subunitcolor": "white"
          },
          "hoverlabel": {
           "align": "left"
          },
          "hovermode": "closest",
          "mapbox": {
           "style": "light"
          },
          "paper_bgcolor": "white",
          "plot_bgcolor": "#E5ECF6",
          "polar": {
           "angularaxis": {
            "gridcolor": "white",
            "linecolor": "white",
            "ticks": ""
           },
           "bgcolor": "#E5ECF6",
           "radialaxis": {
            "gridcolor": "white",
            "linecolor": "white",
            "ticks": ""
           }
          },
          "scene": {
           "xaxis": {
            "backgroundcolor": "#E5ECF6",
            "gridcolor": "white",
            "gridwidth": 2,
            "linecolor": "white",
            "showbackground": true,
            "ticks": "",
            "zerolinecolor": "white"
           },
           "yaxis": {
            "backgroundcolor": "#E5ECF6",
            "gridcolor": "white",
            "gridwidth": 2,
            "linecolor": "white",
            "showbackground": true,
            "ticks": "",
            "zerolinecolor": "white"
           },
           "zaxis": {
            "backgroundcolor": "#E5ECF6",
            "gridcolor": "white",
            "gridwidth": 2,
            "linecolor": "white",
            "showbackground": true,
            "ticks": "",
            "zerolinecolor": "white"
           }
          },
          "shapedefaults": {
           "line": {
            "color": "#2a3f5f"
           }
          },
          "ternary": {
           "aaxis": {
            "gridcolor": "white",
            "linecolor": "white",
            "ticks": ""
           },
           "baxis": {
            "gridcolor": "white",
            "linecolor": "white",
            "ticks": ""
           },
           "bgcolor": "#E5ECF6",
           "caxis": {
            "gridcolor": "white",
            "linecolor": "white",
            "ticks": ""
           }
          },
          "title": {
           "x": 0.05
          },
          "xaxis": {
           "automargin": true,
           "gridcolor": "white",
           "linecolor": "white",
           "ticks": "",
           "title": {
            "standoff": 15
           },
           "zerolinecolor": "white",
           "zerolinewidth": 2
          },
          "yaxis": {
           "automargin": true,
           "gridcolor": "white",
           "linecolor": "white",
           "ticks": "",
           "title": {
            "standoff": 15
           },
           "zerolinecolor": "white",
           "zerolinewidth": 2
          }
         }
        },
        "title": {
         "font": {
          "size": 24
         },
         "text": "Clusters of Stores"
        },
        "updatemenus": [
         {
          "buttons": [
           {
            "args": [
             null,
             {
              "frame": {
               "duration": 250,
               "redraw": true
              },
              "fromcurrent": true,
              "mode": "immediate",
              "transition": {
               "duration": 0
              }
             }
            ],
            "label": "Play",
            "method": "animate"
           }
          ],
          "pad": {
           "r": 10,
           "t": 45
          },
          "showactive": false,
          "type": "buttons",
          "x": 0.8,
          "xanchor": "left",
          "y": 1,
          "yanchor": "bottom"
         }
        ],
        "width": 1200
       }
      }
     },
     "metadata": {},
     "output_type": "display_data"
    }
   ],
   "source": [
    "x_eye = -1.25\n",
    "y_eye = 2\n",
    "z_eye = 0.5\n",
    "\n",
    "fig = px.scatter_3d(\n",
    "    rfm_table_log.drop(columns=['labels4']), \n",
    "    x='recency', \n",
    "    y='frequency', \n",
    "    z='monetary', \n",
    "    color='labels3',\n",
    "    title='Clusters of Stores',\n",
    "    width=1200,\n",
    "    height=800\n",
    ")\n",
    "\n",
    "fig.update_traces(marker=dict(size=8,\n",
    "                              line=dict(width=2,\n",
    "                                        color='DarkSlateGrey')),\n",
    "                  selector=dict(mode='markers'))\n",
    "\n",
    "fig.update_layout(\n",
    "    legend=dict(font=dict(size= 20)),\n",
    "    legend_title_text='Store Cluster',\n",
    "    title_font_size=24\n",
    ")\n",
    "\n",
    "fig.update_layout(scene = dict(\n",
    "                    xaxis_title='Recency',\n",
    "                    yaxis_title='Frequency',\n",
    "                    zaxis_title='Monetary'),\n",
    "                    font=dict(size= 14),\n",
    "                    # width=700,\n",
    "                    margin=dict(r=20, b=10, l=10, t=10))\n",
    "\n",
    "\n",
    "\n",
    "# code for animated rotation\n",
    "# taken from \n",
    "# https://github.com/Coding-with-Adam/Dash-by-Plotly/blob/master/Plotly_Graphs/3d_scatter/scatter3d.py\n",
    "fig.update_layout(scene_camera_eye=dict(x=x_eye, y=y_eye, z=z_eye),\n",
    "                  updatemenus=[dict(type='buttons',\n",
    "                                    showactive=False,\n",
    "                                    y=1,\n",
    "                                    x=0.8,\n",
    "                                    xanchor='left',\n",
    "                                    yanchor='bottom',\n",
    "                                    pad=dict(t=45, r=10),\n",
    "                                    buttons=[dict(label='Play',\n",
    "                                                  method='animate',\n",
    "                                                  args=[None, dict(frame=dict(duration=250, redraw=True),\n",
    "                                                                   transition=dict(duration=0),\n",
    "                                                                   fromcurrent=True,\n",
    "                                                                   mode='immediate'\n",
    "                                                                   )]\n",
    "                                                  )\n",
    "                                             ]\n",
    "                                    )\n",
    "                               ]\n",
    "                  )\n",
    "\n",
    "\n",
    "def rotate_z(x, y, z, theta):\n",
    "    w = x + 1j * y\n",
    "    return np.real(np.exp(1j * theta) * w), np.imag(np.exp(1j * theta) * w), z\n",
    "\n",
    "\n",
    "frames = []\n",
    "\n",
    "for t in np.arange(0, 6.26, 0.1):\n",
    "    xe, ye, ze = rotate_z(x_eye, y_eye, z_eye, -t)\n",
    "    frames.append(go.Frame(layout=dict(scene_camera_eye=dict(x=xe, y=ye, z=ze))))\n",
    "fig.frames = frames\n",
    "\n",
    "\n",
    "fig.write_html(\"My3dPlot.html\")\n",
    "\n",
    "fig.show()"
   ]
  },
  {
   "cell_type": "markdown",
   "metadata": {},
   "source": [
    "3 clusters splits the data very well. There seem to be no major outliers."
   ]
  },
  {
   "cell_type": "code",
   "execution_count": 32,
   "metadata": {},
   "outputs": [
    {
     "data": {
      "application/vnd.plotly.v1+json": {
       "config": {
        "plotlyServerURL": "https://plot.ly"
       },
       "data": [
        {
         "hovertemplate": "recency=%{x}<br>frequency=%{y}<br>monetary=%{z}<br>labels4=%{marker.color}<extra></extra>",
         "legendgroup": "",
         "marker": {
          "color": [
           2,
           0,
           3,
           3,
           2,
           0,
           1,
           0,
           2,
           1,
           3,
           2,
           2,
           2,
           2,
           2,
           0,
           3,
           3,
           3,
           1,
           1,
           1,
           0,
           0,
           2,
           0,
           1,
           1,
           1,
           3,
           3,
           1,
           0,
           3,
           3,
           3,
           2,
           1,
           1,
           1,
           2,
           1,
           3,
           1,
           3,
           0,
           3,
           1,
           2,
           2,
           0,
           0,
           0,
           0,
           0,
           0,
           0,
           0,
           1,
           1,
           0,
           0,
           0,
           2,
           0,
           3,
           3,
           1,
           1,
           1,
           0,
           1,
           0,
           0,
           0,
           1,
           2,
           3,
           3,
           1,
           0,
           2,
           2,
           0,
           0,
           3,
           2,
           3,
           3,
           3,
           3,
           3,
           3,
           2,
           2,
           2,
           1,
           1,
           2,
           3,
           3,
           0,
           2,
           3,
           3,
           2,
           3,
           1,
           0,
           2,
           2,
           3,
           3,
           1,
           1,
           1,
           2,
           2,
           1,
           2,
           2,
           1,
           2,
           3,
           1,
           2,
           1,
           0,
           1,
           1,
           0,
           1,
           3,
           0,
           2,
           2,
           2,
           2,
           3,
           1,
           1,
           0,
           2,
           1,
           3,
           0,
           0,
           0,
           0,
           1,
           0,
           2,
           2,
           1,
           0,
           2,
           2,
           3,
           2,
           3,
           2,
           2,
           2,
           2,
           1,
           3,
           1,
           3,
           3,
           3,
           3,
           3,
           3,
           3,
           3,
           0,
           1,
           1,
           0,
           0,
           3,
           3,
           3,
           1,
           1,
           3,
           1,
           3,
           3,
           3,
           3,
           3,
           3,
           3,
           3,
           3,
           3,
           2,
           3,
           1,
           3,
           2,
           1,
           0,
           2,
           2,
           2,
           2,
           3,
           2,
           3,
           3,
           3,
           2,
           2,
           0,
           0,
           0,
           0,
           3,
           0,
           2,
           3,
           3,
           2,
           3,
           1,
           3,
           3,
           2,
           3,
           3,
           3,
           0,
           0,
           1,
           3,
           3,
           2,
           1,
           0,
           3,
           3,
           3,
           2,
           1,
           2,
           3,
           0,
           3,
           3,
           3,
           3,
           2,
           2,
           1,
           1,
           2,
           2,
           1,
           2,
           1,
           1,
           3,
           3,
           0,
           2,
           2,
           1,
           0,
           2,
           3,
           2,
           3,
           3,
           3,
           3,
           2,
           3,
           1,
           0,
           1,
           1,
           0,
           2,
           3,
           1,
           3,
           2,
           3,
           3,
           2,
           2,
           3,
           3,
           3,
           3,
           3,
           3,
           2,
           3,
           2,
           1,
           3,
           3,
           3,
           2,
           2,
           3,
           0,
           2,
           0,
           2,
           2,
           0,
           1,
           0,
           3,
           0,
           2,
           3,
           0,
           2,
           3,
           0,
           3,
           0,
           1,
           3,
           0,
           0,
           2,
           2,
           2,
           1,
           3,
           2,
           3,
           0,
           0,
           3,
           2,
           3,
           3,
           3,
           3,
           3,
           3,
           3,
           3,
           2,
           0,
           0,
           3,
           3,
           0,
           1,
           1,
           1,
           2,
           0,
           3,
           3,
           1,
           2,
           1,
           1,
           2,
           1,
           0,
           0,
           2,
           2,
           2,
           2,
           1,
           1,
           3,
           3,
           0,
           3,
           2,
           2,
           3,
           0,
           3,
           2,
           2,
           3,
           0,
           0,
           2,
           0,
           3,
           3,
           3,
           1,
           0
          ],
          "coloraxis": "coloraxis",
          "symbol": "circle"
         },
         "mode": "markers",
         "name": "",
         "scene": "scene",
         "showlegend": false,
         "type": "scatter3d",
         "x": [
          58.8,
          5.1,
          0,
          0,
          53.8,
          8.133333333333333,
          9.166666666666666,
          1,
          58.8,
          19.3,
          0,
          44.666666666666664,
          50.733333333333334,
          59.833333333333336,
          59.833333333333336,
          59.833333333333336,
          0,
          0,
          0,
          0,
          0,
          1,
          36.53333333333333,
          0,
          0,
          34.46666666666667,
          0,
          22.3,
          8.133333333333333,
          0,
          0,
          0,
          32.5,
          0,
          0,
          0,
          0,
          37.53333333333333,
          1,
          3.033333333333333,
          0,
          28.433333333333334,
          5.1,
          0,
          36.53333333333333,
          0,
          0,
          0,
          15.2,
          57.86666666666667,
          57.86666666666667,
          1,
          4.066666666666666,
          0,
          4.066666666666666,
          3.033333333333333,
          4.066666666666666,
          3.033333333333333,
          5.1,
          31.5,
          20.3,
          4.066666666666666,
          4.066666666666666,
          2.033333333333333,
          42.63333333333333,
          2.033333333333333,
          0,
          0,
          28.433333333333334,
          33.53333333333333,
          2.033333333333333,
          4.066666666666666,
          33.53333333333333,
          0,
          14.2,
          2.033333333333333,
          33.53333333333333,
          24.366666666666667,
          0,
          0,
          21.333333333333332,
          0,
          49.7,
          33.53333333333333,
          0,
          0,
          0,
          58.8,
          0,
          0,
          0,
          0,
          0,
          0,
          43.666666666666664,
          58.8,
          52.766666666666666,
          33.53333333333333,
          0,
          52.766666666666666,
          0,
          0,
          0,
          57.86666666666667,
          0,
          0,
          54.8,
          0,
          35.5,
          7.133333333333334,
          57.86666666666667,
          58.8,
          0,
          0,
          11.133333333333333,
          34.46666666666667,
          28.433333333333334,
          50.733333333333334,
          42.63333333333333,
          0,
          53.8,
          59.833333333333336,
          0,
          25.366666666666667,
          0,
          38.56666666666667,
          49.7,
          45.7,
          0,
          36.53333333333333,
          37.53333333333333,
          1,
          16.233333333333334,
          0,
          9.166666666666666,
          57.86666666666667,
          59.833333333333336,
          41.63333333333333,
          58.8,
          0,
          40.6,
          22.3,
          0,
          48.7,
          0,
          0,
          21.333333333333332,
          0,
          1,
          2.033333333333333,
          31.5,
          0,
          54.8,
          39.56666666666667,
          25.366666666666667,
          0,
          59.833333333333336,
          58.8,
          0,
          19.3,
          0,
          58.8,
          52.766666666666666,
          55.833333333333336,
          57.86666666666667,
          21.333333333333332,
          0,
          2.033333333333333,
          0,
          0,
          0,
          0,
          0,
          0,
          0,
          0,
          0,
          31.5,
          3.033333333333333,
          0,
          0,
          0,
          0,
          0,
          21.333333333333332,
          4.066666666666666,
          0,
          22.3,
          0,
          0,
          0,
          0,
          0,
          0,
          0,
          0,
          0,
          0,
          50.733333333333334,
          0,
          38.56666666666667,
          0,
          48.7,
          2.033333333333333,
          0,
          55.833333333333336,
          57.86666666666667,
          58.8,
          54.8,
          0,
          57.86666666666667,
          0,
          0,
          0,
          52.766666666666666,
          59.833333333333336,
          0,
          4.066666666666666,
          2.033333333333333,
          2.033333333333333,
          0,
          4.066666666666666,
          59.833333333333336,
          0,
          0,
          44.666666666666664,
          0,
          4.066666666666666,
          0,
          0,
          49.7,
          0,
          0,
          0,
          7.133333333333334,
          0,
          0,
          0,
          0,
          58.8,
          34.46666666666667,
          14.2,
          0,
          0,
          0,
          46.63333333333333,
          23.333333333333332,
          38.56666666666667,
          0,
          0,
          0,
          0,
          0,
          0,
          43.666666666666664,
          57.86666666666667,
          0,
          0,
          40.6,
          42.63333333333333,
          21.333333333333332,
          53.8,
          21.333333333333332,
          26.4,
          0,
          0,
          0,
          58.8,
          57.86666666666667,
          21.333333333333332,
          0,
          57.86666666666667,
          0,
          57.86666666666667,
          0,
          2.033333333333333,
          0,
          0,
          57.86666666666667,
          2.033333333333333,
          36.53333333333333,
          0,
          37.53333333333333,
          18.266666666666666,
          0,
          57.86666666666667,
          0,
          12.166666666666666,
          0,
          59.833333333333336,
          2.033333333333333,
          0,
          59.833333333333336,
          57.86666666666667,
          0,
          0,
          0,
          0,
          2.033333333333333,
          0,
          54.8,
          0,
          57.86666666666667,
          36.53333333333333,
          0,
          0,
          0,
          56.833333333333336,
          43.666666666666664,
          0,
          0,
          33.53333333333333,
          0,
          57.86666666666667,
          46.63333333333333,
          0,
          23.333333333333332,
          0,
          0,
          0,
          53.8,
          2.033333333333333,
          0,
          48.7,
          0,
          0,
          0,
          1,
          22.3,
          0,
          0,
          0,
          50.733333333333334,
          54.8,
          58.8,
          6.1,
          0,
          53.8,
          1,
          0,
          0,
          0,
          59.833333333333336,
          0,
          0,
          0,
          0,
          0,
          0,
          2.033333333333333,
          0,
          57.86666666666667,
          0,
          3.033333333333333,
          0,
          0,
          0,
          16.233333333333334,
          8.133333333333333,
          23.333333333333332,
          49.7,
          0,
          0,
          0,
          5.1,
          56.833333333333336,
          45.7,
          0,
          57.86666666666667,
          2.033333333333333,
          0,
          0,
          57.86666666666667,
          57.86666666666667,
          57.86666666666667,
          57.86666666666667,
          22.3,
          31.5,
          0,
          0,
          0,
          0,
          29.466666666666665,
          47.666666666666664,
          0,
          0,
          0,
          43.666666666666664,
          48.7,
          0,
          0,
          0,
          55.833333333333336,
          0,
          0,
          0,
          0,
          39.56666666666667,
          0
         ],
         "y": [
          1,
          44,
          58,
          60,
          5,
          30,
          22,
          52,
          2,
          1,
          60,
          9,
          8,
          1,
          1,
          1,
          45,
          60,
          60,
          60,
          25,
          28,
          24,
          49,
          57,
          1,
          34,
          20,
          3,
          12,
          60,
          60,
          15,
          53,
          60,
          60,
          60,
          1,
          6,
          25,
          3,
          1,
          8,
          60,
          22,
          60,
          56,
          60,
          13,
          3,
          3,
          53,
          47,
          60,
          39,
          57,
          52,
          57,
          50,
          21,
          29,
          48,
          44,
          53,
          12,
          46,
          60,
          60,
          5,
          10,
          26,
          35,
          12,
          59,
          45,
          46,
          23,
          1,
          56,
          60,
          29,
          58,
          1,
          1,
          48,
          46,
          60,
          1,
          60,
          58,
          59,
          60,
          60,
          59,
          13,
          2,
          8,
          25,
          21,
          1,
          60,
          60,
          56,
          3,
          60,
          60,
          3,
          60,
          14,
          34,
          2,
          2,
          60,
          60,
          19,
          12,
          17,
          4,
          3,
          18,
          5,
          1,
          9,
          1,
          59,
          21,
          2,
          15,
          34,
          16,
          22,
          23,
          26,
          60,
          50,
          3,
          1,
          1,
          2,
          60,
          11,
          11,
          32,
          6,
          9,
          58,
          39,
          35,
          33,
          57,
          3,
          43,
          3,
          1,
          13,
          49,
          1,
          2,
          60,
          1,
          60,
          1,
          8,
          1,
          1,
          33,
          59,
          27,
          60,
          60,
          60,
          60,
          60,
          60,
          60,
          60,
          50,
          22,
          16,
          31,
          59,
          59,
          60,
          60,
          22,
          2,
          58,
          11,
          60,
          60,
          60,
          60,
          60,
          60,
          58,
          60,
          60,
          51,
          10,
          60,
          8,
          60,
          5,
          20,
          54,
          3,
          2,
          2,
          3,
          60,
          3,
          60,
          60,
          60,
          4,
          1,
          55,
          34,
          42,
          38,
          60,
          47,
          1,
          60,
          60,
          3,
          60,
          6,
          60,
          60,
          3,
          60,
          60,
          60,
          53,
          54,
          1,
          60,
          60,
          2,
          26,
          46,
          60,
          60,
          60,
          1,
          6,
          4,
          59,
          37,
          60,
          60,
          60,
          58,
          3,
          1,
          6,
          5,
          8,
          6,
          8,
          3,
          18,
          29,
          60,
          60,
          52,
          1,
          3,
          8,
          60,
          3,
          60,
          3,
          60,
          58,
          60,
          60,
          3,
          58,
          24,
          36,
          23,
          5,
          37,
          3,
          57,
          24,
          59,
          1,
          58,
          60,
          1,
          3,
          60,
          60,
          60,
          60,
          58,
          60,
          5,
          60,
          3,
          24,
          36,
          60,
          60,
          2,
          3,
          60,
          35,
          2,
          57,
          3,
          11,
          58,
          36,
          32,
          60,
          51,
          4,
          58,
          52,
          7,
          60,
          60,
          60,
          31,
          9,
          57,
          34,
          44,
          4,
          4,
          1,
          2,
          60,
          5,
          52,
          34,
          38,
          60,
          1,
          60,
          60,
          57,
          60,
          60,
          60,
          58,
          60,
          1,
          50,
          32,
          59,
          60,
          33,
          33,
          17,
          17,
          10,
          60,
          60,
          60,
          1,
          2,
          15,
          19,
          3,
          11,
          60,
          59,
          3,
          3,
          3,
          3,
          2,
          19,
          60,
          60,
          46,
          59,
          7,
          1,
          60,
          60,
          60,
          1,
          1,
          60,
          53,
          59,
          1,
          39,
          60,
          60,
          39,
          21,
          55
         ],
         "z": [
          4.315753276242594,
          8.005567247479478,
          9.4664814664735,
          9.487324929502286,
          6.625379105320538,
          8.609108524334177,
          6.896704442795052,
          7.889020686864498,
          5.364385966517742,
          4.352700805292053,
          9.650924845479349,
          6.344495359256614,
          6.325003915644557,
          5.675904126327402,
          4.404766121643371,
          4.873180022642352,
          9.485575299126205,
          11.012363654269857,
          11.202088986281863,
          10.344018278975858,
          6.681983276314235,
          4.926383741648665,
          8.316270908753125,
          8.00155936005792,
          9.167104006874162,
          4.917422912374077,
          9.152199475658346,
          7.836350005312457,
          5.810122510427528,
          9.17362348164078,
          11.091602584384457,
          11.44954083784083,
          7.242404426213887,
          8.63162127216654,
          11.367227559574502,
          11.229475623979031,
          11.17170927356832,
          4.092342559551428,
          6.850687449274616,
          7.165394552084668,
          6.900045635912084,
          3.8605191625610304,
          7.117456890866322,
          9.242145193715814,
          9.397080485886356,
          11.03823711955723,
          7.858489948747306,
          11.15706704472813,
          7.359397616708053,
          5.82087193651254,
          5.409465103887467,
          8.506562485160208,
          8.236955871231372,
          9.109865457863103,
          7.540401642561513,
          8.163891978612643,
          8.505845853202535,
          8.646899879173052,
          8.138752803688183,
          6.5672629726980345,
          7.412896778679783,
          7.93793453942181,
          8.218237139141044,
          8.135015220876104,
          6.076770303687082,
          8.049537523550558,
          11.422789465975162,
          11.21663982104428,
          5.506753288989972,
          6.436967342247677,
          7.68714162178397,
          6.832255569580489,
          6.619486367707465,
          9.031389527941752,
          8.903238958764552,
          8.314266397320846,
          6.783037503503978,
          3.1780538303479458,
          10.279195268685115,
          9.809485067326397,
          7.044805722477593,
          9.288754061211685,
          3.1372318358276905,
          4.016022595446631,
          8.566095730223784,
          9.143898173327182,
          10.654921093897938,
          4.142340760490356,
          10.849686540148948,
          10.021167916255262,
          9.799234201523046,
          10.66424104375169,
          11.072612668084629,
          10.375390938600608,
          6.6151142646103445,
          4.935480620495495,
          6.300308616611721,
          8.21933956364296,
          7.879806114182281,
          4.873210618184584,
          10.946196110508332,
          10.936729151688366,
          9.177440456426543,
          5.091170188318427,
          11.781733309529704,
          9.680886354121993,
          5.094608727872434,
          11.043167917443903,
          8.067290184277503,
          7.669915330829037,
          4.728449202148263,
          4.704743990884184,
          10.112094111930826,
          10.99027108989016,
          7.750459748742064,
          7.262523406100641,
          6.935195333407528,
          5.179421211604181,
          5.952619763284415,
          8.686248810134582,
          6.84772922798644,
          4.994302639475358,
          7.845537407456971,
          3.905602437625223,
          10.36112092213646,
          7.3460553701838744,
          4.841743157613962,
          8.774278933580346,
          9.23322061150291,
          9.279033065080778,
          9.521266203058104,
          9.082318346308584,
          7.411381045871089,
          10.167372583129328,
          9.763318752405576,
          4.987230185649934,
          3.3985271531062766,
          4.196449785159254,
          5.121639852139167,
          11.19885829381447,
          8.66319648553608,
          8.253149517529856,
          9.849515937806512,
          6.166614616816913,
          6.111289940176331,
          10.515340888910892,
          9.465100412865782,
          8.533513291158323,
          7.792353052923672,
          8.830304678124097,
          6.009427247482154,
          8.266424043014661,
          5.468903667123571,
          4.231203744939298,
          6.750399468205931,
          8.786478068489561,
          4.230622180514648,
          4.903421209789107,
          10.418157676730832,
          3.4134552790576573,
          9.31089224461968,
          4.182050142641207,
          8.62487022188061,
          1.9774088161146843,
          3.1547852034085913,
          7.839249844598565,
          9.262955592234594,
          6.815278082488417,
          9.771232259635617,
          10.356377702982579,
          9.75645213243747,
          10.266542252484994,
          10.092424512551352,
          10.217303491156125,
          9.875129229431073,
          10.361104090061968,
          7.822805241420159,
          7.089835139903331,
          6.9091742717355515,
          9.204428933804031,
          8.804014393425367,
          9.401711689214977,
          10.456442060469957,
          9.520545632346675,
          7.475582971033414,
          4.570495922054071,
          9.517686091478602,
          6.408660578091845,
          10.43714345093914,
          10.39690095969645,
          10.010432961586647,
          10.955555393524854,
          9.848476302477527,
          10.57977185051303,
          9.725713440424808,
          10.113924718565842,
          9.750624210400684,
          9.911888664166684,
          8.450677249804178,
          11.557014271245611,
          7.139462060956835,
          11.69005858507506,
          6.0213873607592365,
          6.1508799155385425,
          7.9371746761606286,
          5.504721593857949,
          4.918520005188451,
          5.081776966367399,
          5.5659752871688895,
          9.516864316228704,
          4.90186155259746,
          9.822255913363557,
          9.777262999819357,
          9.679159675184616,
          5.46518681878307,
          4.780467127845082,
          8.879956761991519,
          8.591015980051862,
          9.337537621203182,
          7.95888454879402,
          11.062577001168316,
          7.778462699234327,
          3.8848573373553763,
          11.589553080155731,
          11.530745461485587,
          4.69866052907543,
          11.153405047938609,
          6.061060569995885,
          11.577715292027822,
          9.807862383127786,
          8.020862013800699,
          10.697001153996387,
          9.80526704182425,
          12.108676055685358,
          8.484380701669687,
          8.725981396025219,
          4.814295945534097,
          11.513939051118191,
          9.79169752289115,
          6.655144296251942,
          8.740633018836347,
          8.540554186089562,
          11.29719422447922,
          10.349793534986322,
          10.61796266710852,
          3.5613301331669613,
          7.175986912112272,
          4.876417951976448,
          9.9567121557456,
          9.512606330694437,
          10.669317189685108,
          10.565357871835978,
          10.782136186987271,
          10.190582102430326,
          5.31704098054614,
          2.747270914255491,
          6.503674212646134,
          6.092847161396585,
          6.303717273493968,
          5.8030544929734695,
          6.535270298168564,
          5.488607092991169,
          7.3552320736462615,
          7.851917954257913,
          10.752381923536069,
          10.454432139753933,
          7.3540807808732955,
          4.036362279683754,
          5.39308194299246,
          5.824937596212669,
          8.97316254936483,
          6.712239054160048,
          10.937795603731216,
          8.265129453901844,
          11.060756284289733,
          11.051374649819337,
          10.616291516424205,
          11.259589294344865,
          7.12365989229313,
          10.112792105119286,
          9.833410843909844,
          10.330824779052703,
          9.645219935338787,
          4.080245637842599,
          10.438721650968157,
          8.413079009872394,
          11.396356457083822,
          6.259581464064923,
          11.231130854021455,
          7.082907866681057,
          10.436852525943417,
          11.215111975936916,
          4.259519960181085,
          7.851240077565817,
          11.030917624622568,
          10.86830014592311,
          11.248780762463165,
          11.112198762863818,
          11.30005469251724,
          10.991751885308709,
          5.045294336581097,
          11.486780853739855,
          7.6484222933739625,
          10.695728609320788,
          11.11593890219979,
          10.270893166348682,
          10.307288610213366,
          4.651481088851342,
          5.586274401194249,
          11.011518875829045,
          8.350122742982823,
          4.293332023658551,
          9.08852973641735,
          5.008432870541055,
          6.15256246745031,
          8.408125813827086,
          8.139703107763586,
          8.219379971764997,
          9.896686678931756,
          9.63092250655532,
          7.274972853577397,
          10.093271363988812,
          8.588642776044052,
          7.465002549908637,
          9.923923410671883,
          8.986490321149956,
          9.417001633567423,
          7.423050100987277,
          7.279822157002918,
          11.011004245729161,
          10.389279758644298,
          8.429502310889088,
          5.862806972399573,
          5.6680516647004024,
          5.19578617790037,
          5.366910158013648,
          11.802904297847347,
          5.3500080819533915,
          10.011281305469618,
          7.8145127130327605,
          8.196331513519421,
          11.881292953898603,
          4.29510616264318,
          11.486230093195871,
          11.39430610469188,
          10.085122040018678,
          11.196391415084051,
          11.30784594714014,
          11.094533463438614,
          11.16651036550796,
          11.29297812532519,
          6.580555916069039,
          8.724498375362288,
          8.518484357502437,
          10.140192727909872,
          10.097090237447945,
          7.711602693495394,
          7.599010671238465,
          6.3172368863068975,
          6.7477508325792135,
          6.611852845083501,
          9.14468763032542,
          13.294266230842505,
          13.007093624804524,
          3.3090820927543496,
          3.942358205224219,
          9.815613257885577,
          8.910850190736614,
          5.890350557736475,
          7.471750036648115,
          9.099488137731413,
          8.32268325721021,
          5.389354794772666,
          5.866303737484587,
          5.904647696651385,
          5.345935415487291,
          5.5842479059610115,
          7.363628289634147,
          10.946501433451216,
          10.429307024637694,
          9.403316631956905,
          9.507580123946259,
          4.8238236720294365,
          2.341805806147327,
          9.627612831481626,
          8.621254062902326,
          9.795160418592275,
          2.9734866646066713,
          3.08922261664133,
          10.935980871816016,
          7.336975975444698,
          8.322938314945734,
          4.00587758089977,
          9.470638657624521,
          10.77304279794417,
          10.805426386859295,
          10.938722245931386,
          9.708933280229605,
          8.363806552968347
         ]
        }
       ],
       "layout": {
        "coloraxis": {
         "colorbar": {
          "title": {
           "text": "labels4"
          }
         },
         "colorscale": [
          [
           0,
           "#0d0887"
          ],
          [
           0.1111111111111111,
           "#46039f"
          ],
          [
           0.2222222222222222,
           "#7201a8"
          ],
          [
           0.3333333333333333,
           "#9c179e"
          ],
          [
           0.4444444444444444,
           "#bd3786"
          ],
          [
           0.5555555555555556,
           "#d8576b"
          ],
          [
           0.6666666666666666,
           "#ed7953"
          ],
          [
           0.7777777777777778,
           "#fb9f3a"
          ],
          [
           0.8888888888888888,
           "#fdca26"
          ],
          [
           1,
           "#f0f921"
          ]
         ]
        },
        "legend": {
         "tracegroupgap": 0
        },
        "margin": {
         "t": 60
        },
        "scene": {
         "domain": {
          "x": [
           0,
           1
          ],
          "y": [
           0,
           1
          ]
         },
         "xaxis": {
          "title": {
           "text": "recency"
          }
         },
         "yaxis": {
          "title": {
           "text": "frequency"
          }
         },
         "zaxis": {
          "title": {
           "text": "monetary"
          }
         }
        },
        "template": {
         "data": {
          "bar": [
           {
            "error_x": {
             "color": "#2a3f5f"
            },
            "error_y": {
             "color": "#2a3f5f"
            },
            "marker": {
             "line": {
              "color": "#E5ECF6",
              "width": 0.5
             },
             "pattern": {
              "fillmode": "overlay",
              "size": 10,
              "solidity": 0.2
             }
            },
            "type": "bar"
           }
          ],
          "barpolar": [
           {
            "marker": {
             "line": {
              "color": "#E5ECF6",
              "width": 0.5
             },
             "pattern": {
              "fillmode": "overlay",
              "size": 10,
              "solidity": 0.2
             }
            },
            "type": "barpolar"
           }
          ],
          "carpet": [
           {
            "aaxis": {
             "endlinecolor": "#2a3f5f",
             "gridcolor": "white",
             "linecolor": "white",
             "minorgridcolor": "white",
             "startlinecolor": "#2a3f5f"
            },
            "baxis": {
             "endlinecolor": "#2a3f5f",
             "gridcolor": "white",
             "linecolor": "white",
             "minorgridcolor": "white",
             "startlinecolor": "#2a3f5f"
            },
            "type": "carpet"
           }
          ],
          "choropleth": [
           {
            "colorbar": {
             "outlinewidth": 0,
             "ticks": ""
            },
            "type": "choropleth"
           }
          ],
          "contour": [
           {
            "colorbar": {
             "outlinewidth": 0,
             "ticks": ""
            },
            "colorscale": [
             [
              0,
              "#0d0887"
             ],
             [
              0.1111111111111111,
              "#46039f"
             ],
             [
              0.2222222222222222,
              "#7201a8"
             ],
             [
              0.3333333333333333,
              "#9c179e"
             ],
             [
              0.4444444444444444,
              "#bd3786"
             ],
             [
              0.5555555555555556,
              "#d8576b"
             ],
             [
              0.6666666666666666,
              "#ed7953"
             ],
             [
              0.7777777777777778,
              "#fb9f3a"
             ],
             [
              0.8888888888888888,
              "#fdca26"
             ],
             [
              1,
              "#f0f921"
             ]
            ],
            "type": "contour"
           }
          ],
          "contourcarpet": [
           {
            "colorbar": {
             "outlinewidth": 0,
             "ticks": ""
            },
            "type": "contourcarpet"
           }
          ],
          "heatmap": [
           {
            "colorbar": {
             "outlinewidth": 0,
             "ticks": ""
            },
            "colorscale": [
             [
              0,
              "#0d0887"
             ],
             [
              0.1111111111111111,
              "#46039f"
             ],
             [
              0.2222222222222222,
              "#7201a8"
             ],
             [
              0.3333333333333333,
              "#9c179e"
             ],
             [
              0.4444444444444444,
              "#bd3786"
             ],
             [
              0.5555555555555556,
              "#d8576b"
             ],
             [
              0.6666666666666666,
              "#ed7953"
             ],
             [
              0.7777777777777778,
              "#fb9f3a"
             ],
             [
              0.8888888888888888,
              "#fdca26"
             ],
             [
              1,
              "#f0f921"
             ]
            ],
            "type": "heatmap"
           }
          ],
          "heatmapgl": [
           {
            "colorbar": {
             "outlinewidth": 0,
             "ticks": ""
            },
            "colorscale": [
             [
              0,
              "#0d0887"
             ],
             [
              0.1111111111111111,
              "#46039f"
             ],
             [
              0.2222222222222222,
              "#7201a8"
             ],
             [
              0.3333333333333333,
              "#9c179e"
             ],
             [
              0.4444444444444444,
              "#bd3786"
             ],
             [
              0.5555555555555556,
              "#d8576b"
             ],
             [
              0.6666666666666666,
              "#ed7953"
             ],
             [
              0.7777777777777778,
              "#fb9f3a"
             ],
             [
              0.8888888888888888,
              "#fdca26"
             ],
             [
              1,
              "#f0f921"
             ]
            ],
            "type": "heatmapgl"
           }
          ],
          "histogram": [
           {
            "marker": {
             "pattern": {
              "fillmode": "overlay",
              "size": 10,
              "solidity": 0.2
             }
            },
            "type": "histogram"
           }
          ],
          "histogram2d": [
           {
            "colorbar": {
             "outlinewidth": 0,
             "ticks": ""
            },
            "colorscale": [
             [
              0,
              "#0d0887"
             ],
             [
              0.1111111111111111,
              "#46039f"
             ],
             [
              0.2222222222222222,
              "#7201a8"
             ],
             [
              0.3333333333333333,
              "#9c179e"
             ],
             [
              0.4444444444444444,
              "#bd3786"
             ],
             [
              0.5555555555555556,
              "#d8576b"
             ],
             [
              0.6666666666666666,
              "#ed7953"
             ],
             [
              0.7777777777777778,
              "#fb9f3a"
             ],
             [
              0.8888888888888888,
              "#fdca26"
             ],
             [
              1,
              "#f0f921"
             ]
            ],
            "type": "histogram2d"
           }
          ],
          "histogram2dcontour": [
           {
            "colorbar": {
             "outlinewidth": 0,
             "ticks": ""
            },
            "colorscale": [
             [
              0,
              "#0d0887"
             ],
             [
              0.1111111111111111,
              "#46039f"
             ],
             [
              0.2222222222222222,
              "#7201a8"
             ],
             [
              0.3333333333333333,
              "#9c179e"
             ],
             [
              0.4444444444444444,
              "#bd3786"
             ],
             [
              0.5555555555555556,
              "#d8576b"
             ],
             [
              0.6666666666666666,
              "#ed7953"
             ],
             [
              0.7777777777777778,
              "#fb9f3a"
             ],
             [
              0.8888888888888888,
              "#fdca26"
             ],
             [
              1,
              "#f0f921"
             ]
            ],
            "type": "histogram2dcontour"
           }
          ],
          "mesh3d": [
           {
            "colorbar": {
             "outlinewidth": 0,
             "ticks": ""
            },
            "type": "mesh3d"
           }
          ],
          "parcoords": [
           {
            "line": {
             "colorbar": {
              "outlinewidth": 0,
              "ticks": ""
             }
            },
            "type": "parcoords"
           }
          ],
          "pie": [
           {
            "automargin": true,
            "type": "pie"
           }
          ],
          "scatter": [
           {
            "marker": {
             "colorbar": {
              "outlinewidth": 0,
              "ticks": ""
             }
            },
            "type": "scatter"
           }
          ],
          "scatter3d": [
           {
            "line": {
             "colorbar": {
              "outlinewidth": 0,
              "ticks": ""
             }
            },
            "marker": {
             "colorbar": {
              "outlinewidth": 0,
              "ticks": ""
             }
            },
            "type": "scatter3d"
           }
          ],
          "scattercarpet": [
           {
            "marker": {
             "colorbar": {
              "outlinewidth": 0,
              "ticks": ""
             }
            },
            "type": "scattercarpet"
           }
          ],
          "scattergeo": [
           {
            "marker": {
             "colorbar": {
              "outlinewidth": 0,
              "ticks": ""
             }
            },
            "type": "scattergeo"
           }
          ],
          "scattergl": [
           {
            "marker": {
             "colorbar": {
              "outlinewidth": 0,
              "ticks": ""
             }
            },
            "type": "scattergl"
           }
          ],
          "scattermapbox": [
           {
            "marker": {
             "colorbar": {
              "outlinewidth": 0,
              "ticks": ""
             }
            },
            "type": "scattermapbox"
           }
          ],
          "scatterpolar": [
           {
            "marker": {
             "colorbar": {
              "outlinewidth": 0,
              "ticks": ""
             }
            },
            "type": "scatterpolar"
           }
          ],
          "scatterpolargl": [
           {
            "marker": {
             "colorbar": {
              "outlinewidth": 0,
              "ticks": ""
             }
            },
            "type": "scatterpolargl"
           }
          ],
          "scatterternary": [
           {
            "marker": {
             "colorbar": {
              "outlinewidth": 0,
              "ticks": ""
             }
            },
            "type": "scatterternary"
           }
          ],
          "surface": [
           {
            "colorbar": {
             "outlinewidth": 0,
             "ticks": ""
            },
            "colorscale": [
             [
              0,
              "#0d0887"
             ],
             [
              0.1111111111111111,
              "#46039f"
             ],
             [
              0.2222222222222222,
              "#7201a8"
             ],
             [
              0.3333333333333333,
              "#9c179e"
             ],
             [
              0.4444444444444444,
              "#bd3786"
             ],
             [
              0.5555555555555556,
              "#d8576b"
             ],
             [
              0.6666666666666666,
              "#ed7953"
             ],
             [
              0.7777777777777778,
              "#fb9f3a"
             ],
             [
              0.8888888888888888,
              "#fdca26"
             ],
             [
              1,
              "#f0f921"
             ]
            ],
            "type": "surface"
           }
          ],
          "table": [
           {
            "cells": {
             "fill": {
              "color": "#EBF0F8"
             },
             "line": {
              "color": "white"
             }
            },
            "header": {
             "fill": {
              "color": "#C8D4E3"
             },
             "line": {
              "color": "white"
             }
            },
            "type": "table"
           }
          ]
         },
         "layout": {
          "annotationdefaults": {
           "arrowcolor": "#2a3f5f",
           "arrowhead": 0,
           "arrowwidth": 1
          },
          "autotypenumbers": "strict",
          "coloraxis": {
           "colorbar": {
            "outlinewidth": 0,
            "ticks": ""
           }
          },
          "colorscale": {
           "diverging": [
            [
             0,
             "#8e0152"
            ],
            [
             0.1,
             "#c51b7d"
            ],
            [
             0.2,
             "#de77ae"
            ],
            [
             0.3,
             "#f1b6da"
            ],
            [
             0.4,
             "#fde0ef"
            ],
            [
             0.5,
             "#f7f7f7"
            ],
            [
             0.6,
             "#e6f5d0"
            ],
            [
             0.7,
             "#b8e186"
            ],
            [
             0.8,
             "#7fbc41"
            ],
            [
             0.9,
             "#4d9221"
            ],
            [
             1,
             "#276419"
            ]
           ],
           "sequential": [
            [
             0,
             "#0d0887"
            ],
            [
             0.1111111111111111,
             "#46039f"
            ],
            [
             0.2222222222222222,
             "#7201a8"
            ],
            [
             0.3333333333333333,
             "#9c179e"
            ],
            [
             0.4444444444444444,
             "#bd3786"
            ],
            [
             0.5555555555555556,
             "#d8576b"
            ],
            [
             0.6666666666666666,
             "#ed7953"
            ],
            [
             0.7777777777777778,
             "#fb9f3a"
            ],
            [
             0.8888888888888888,
             "#fdca26"
            ],
            [
             1,
             "#f0f921"
            ]
           ],
           "sequentialminus": [
            [
             0,
             "#0d0887"
            ],
            [
             0.1111111111111111,
             "#46039f"
            ],
            [
             0.2222222222222222,
             "#7201a8"
            ],
            [
             0.3333333333333333,
             "#9c179e"
            ],
            [
             0.4444444444444444,
             "#bd3786"
            ],
            [
             0.5555555555555556,
             "#d8576b"
            ],
            [
             0.6666666666666666,
             "#ed7953"
            ],
            [
             0.7777777777777778,
             "#fb9f3a"
            ],
            [
             0.8888888888888888,
             "#fdca26"
            ],
            [
             1,
             "#f0f921"
            ]
           ]
          },
          "colorway": [
           "#636efa",
           "#EF553B",
           "#00cc96",
           "#ab63fa",
           "#FFA15A",
           "#19d3f3",
           "#FF6692",
           "#B6E880",
           "#FF97FF",
           "#FECB52"
          ],
          "font": {
           "color": "#2a3f5f"
          },
          "geo": {
           "bgcolor": "white",
           "lakecolor": "white",
           "landcolor": "#E5ECF6",
           "showlakes": true,
           "showland": true,
           "subunitcolor": "white"
          },
          "hoverlabel": {
           "align": "left"
          },
          "hovermode": "closest",
          "mapbox": {
           "style": "light"
          },
          "paper_bgcolor": "white",
          "plot_bgcolor": "#E5ECF6",
          "polar": {
           "angularaxis": {
            "gridcolor": "white",
            "linecolor": "white",
            "ticks": ""
           },
           "bgcolor": "#E5ECF6",
           "radialaxis": {
            "gridcolor": "white",
            "linecolor": "white",
            "ticks": ""
           }
          },
          "scene": {
           "xaxis": {
            "backgroundcolor": "#E5ECF6",
            "gridcolor": "white",
            "gridwidth": 2,
            "linecolor": "white",
            "showbackground": true,
            "ticks": "",
            "zerolinecolor": "white"
           },
           "yaxis": {
            "backgroundcolor": "#E5ECF6",
            "gridcolor": "white",
            "gridwidth": 2,
            "linecolor": "white",
            "showbackground": true,
            "ticks": "",
            "zerolinecolor": "white"
           },
           "zaxis": {
            "backgroundcolor": "#E5ECF6",
            "gridcolor": "white",
            "gridwidth": 2,
            "linecolor": "white",
            "showbackground": true,
            "ticks": "",
            "zerolinecolor": "white"
           }
          },
          "shapedefaults": {
           "line": {
            "color": "#2a3f5f"
           }
          },
          "ternary": {
           "aaxis": {
            "gridcolor": "white",
            "linecolor": "white",
            "ticks": ""
           },
           "baxis": {
            "gridcolor": "white",
            "linecolor": "white",
            "ticks": ""
           },
           "bgcolor": "#E5ECF6",
           "caxis": {
            "gridcolor": "white",
            "linecolor": "white",
            "ticks": ""
           }
          },
          "title": {
           "x": 0.05
          },
          "xaxis": {
           "automargin": true,
           "gridcolor": "white",
           "linecolor": "white",
           "ticks": "",
           "title": {
            "standoff": 15
           },
           "zerolinecolor": "white",
           "zerolinewidth": 2
          },
          "yaxis": {
           "automargin": true,
           "gridcolor": "white",
           "linecolor": "white",
           "ticks": "",
           "title": {
            "standoff": 15
           },
           "zerolinecolor": "white",
           "zerolinewidth": 2
          }
         }
        }
       }
      }
     },
     "metadata": {},
     "output_type": "display_data"
    }
   ],
   "source": [
    "px.scatter_3d(\n",
    "    rfm_table_log.drop(columns=['labels3']), \n",
    "    x='recency', \n",
    "    y='frequency', \n",
    "    z='monetary', \n",
    "    color='labels4'\n",
    ")"
   ]
  },
  {
   "cell_type": "code",
   "execution_count": null,
   "metadata": {},
   "outputs": [],
   "source": []
  }
 ],
 "metadata": {
  "interpreter": {
   "hash": "b3ba2566441a7c06988d0923437866b63cedc61552a5af99d1f4fb67d367b25f"
  },
  "kernelspec": {
   "display_name": "Python 3.9.7 ('base')",
   "language": "python",
   "name": "python3"
  },
  "language_info": {
   "codemirror_mode": {
    "name": "ipython",
    "version": 3
   },
   "file_extension": ".py",
   "mimetype": "text/x-python",
   "name": "python",
   "nbconvert_exporter": "python",
   "pygments_lexer": "ipython3",
   "version": "3.9.7"
  },
  "orig_nbformat": 4
 },
 "nbformat": 4,
 "nbformat_minor": 2
}
